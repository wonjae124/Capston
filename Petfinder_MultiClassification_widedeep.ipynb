{
  "nbformat": 4,
  "nbformat_minor": 0,
  "metadata": {
    "colab": {
      "name": "Petfinder_MultiClassification_widedeep",
      "provenance": [],
      "collapsed_sections": [],
      "machine_shape": "hm",
      "mount_file_id": "1EgD4cEDLkuunbiBmDMLhUPMM9Fp9_TRD",
      "authorship_tag": "ABX9TyPJHpdl2EZ/Z3UQdU1i0mKA",
      "include_colab_link": true
    },
    "kernelspec": {
      "name": "python3",
      "display_name": "Python 3"
    },
    "language_info": {
      "name": "python"
    }
  },
  "cells": [
    {
      "cell_type": "markdown",
      "metadata": {
        "id": "view-in-github",
        "colab_type": "text"
      },
      "source": [
        "<a href=\"https://colab.research.google.com/github/wonjae124/Capston/blob/colab/Petfinder_MultiClassification_widedeep.ipynb\" target=\"_parent\"><img src=\"https://colab.research.google.com/assets/colab-badge.svg\" alt=\"Open In Colab\"/></a>"
      ]
    },
    {
      "cell_type": "code",
      "source": [
        "import os, sys\n",
        "from google.colab import drive\n",
        "drive.mount('/content/drive')\n",
        "\n",
        "# my_path = '/content/notebooks'\n",
        "# os.symlink('/content/drive/My Drive/Colab Notebooks/my_env', my_path) ## 소프트 link 파일 혹은 폴더를 만들 때 사용\n",
        "# sys.path.insert(0, my_path)\n",
        "#https://teddylee777.github.io/colab/colab%EC%97%90%EC%84%9C-python%ED%8C%A8%ED%82%A4%EC%A7%80%EB%A5%BC-permanently-%EC%9D%B8%EC%8A%A4%ED%86%A8%ED%95%98%EB%8A%94-%EB%B0%A9%EB%B2%95\n",
        "\n",
        "!pip install --target=$my_path pytorch-widedeep\n",
        "!pip install --target=$my_path git+https://github.com/jrzaurin/pytorch-widedeep.git"
      ],
      "metadata": {
        "id": "qftWAcP4WZ0J",
        "colab": {
          "base_uri": "https://localhost:8080/"
        },
        "outputId": "873d3378-34dd-4ebd-fa0b-aa8b799ac816"
      },
      "execution_count": 4,
      "outputs": [
        {
          "output_type": "stream",
          "name": "stdout",
          "text": [
            "Drive already mounted at /content/drive; to attempt to forcibly remount, call drive.mount(\"/content/drive\", force_remount=True).\n",
            "Requirement already satisfied: pytorch-widedeep in /usr/local/lib/python3.7/dist-packages (1.1.0)\n",
            "Requirement already satisfied: einops in /usr/local/lib/python3.7/dist-packages (from pytorch-widedeep) (0.4.1)\n",
            "Requirement already satisfied: numpy>=1.20.0 in /usr/local/lib/python3.7/dist-packages (from pytorch-widedeep) (1.21.5)\n",
            "Requirement already satisfied: torch in /usr/local/lib/python3.7/dist-packages (from pytorch-widedeep) (1.10.0+cu111)\n",
            "Requirement already satisfied: pyarrow in /usr/local/lib/python3.7/dist-packages (from pytorch-widedeep) (6.0.1)\n",
            "Requirement already satisfied: ray[tune] in /usr/local/lib/python3.7/dist-packages (from pytorch-widedeep) (1.11.0)\n",
            "Requirement already satisfied: tqdm in /usr/local/lib/python3.7/dist-packages (from pytorch-widedeep) (4.63.0)\n",
            "Requirement already satisfied: imutils in /usr/local/lib/python3.7/dist-packages (from pytorch-widedeep) (0.5.4)\n",
            "Requirement already satisfied: scikit-learn in /usr/local/lib/python3.7/dist-packages (from pytorch-widedeep) (1.0.2)\n",
            "Requirement already satisfied: spacy in /usr/local/lib/python3.7/dist-packages (from pytorch-widedeep) (2.2.4)\n",
            "Requirement already satisfied: torchvision in /usr/local/lib/python3.7/dist-packages (from pytorch-widedeep) (0.11.1+cu111)\n",
            "Requirement already satisfied: wrapt in /usr/local/lib/python3.7/dist-packages (from pytorch-widedeep) (1.14.0)\n",
            "Requirement already satisfied: torchmetrics in /usr/local/lib/python3.7/dist-packages (from pytorch-widedeep) (0.7.3)\n",
            "Requirement already satisfied: pandas in /usr/local/lib/python3.7/dist-packages (from pytorch-widedeep) (1.3.5)\n",
            "Requirement already satisfied: scipy in /usr/local/lib/python3.7/dist-packages (from pytorch-widedeep) (1.4.1)\n",
            "Requirement already satisfied: opencv-contrib-python in /usr/local/lib/python3.7/dist-packages (from pytorch-widedeep) (4.1.2.30)\n",
            "Requirement already satisfied: fastparquet in /usr/local/lib/python3.7/dist-packages (from pytorch-widedeep) (0.8.1)\n",
            "Requirement already satisfied: gensim in /usr/local/lib/python3.7/dist-packages (from pytorch-widedeep) (3.6.0)\n",
            "Requirement already satisfied: fsspec in /usr/local/lib/python3.7/dist-packages (from fastparquet->pytorch-widedeep) (2022.3.0)\n",
            "Requirement already satisfied: cramjam>=2.3.0 in /usr/local/lib/python3.7/dist-packages (from fastparquet->pytorch-widedeep) (2.5.0)\n",
            "Requirement already satisfied: python-dateutil>=2.7.3 in /usr/local/lib/python3.7/dist-packages (from pandas->pytorch-widedeep) (2.8.2)\n",
            "Requirement already satisfied: pytz>=2017.3 in /usr/local/lib/python3.7/dist-packages (from pandas->pytorch-widedeep) (2018.9)\n",
            "Requirement already satisfied: six>=1.5 in /usr/local/lib/python3.7/dist-packages (from python-dateutil>=2.7.3->pandas->pytorch-widedeep) (1.15.0)\n",
            "Requirement already satisfied: smart-open>=1.2.1 in /usr/local/lib/python3.7/dist-packages (from gensim->pytorch-widedeep) (5.2.1)\n",
            "Requirement already satisfied: pyyaml in /usr/local/lib/python3.7/dist-packages (from ray[tune]->pytorch-widedeep) (3.13)\n",
            "Requirement already satisfied: attrs in /usr/local/lib/python3.7/dist-packages (from ray[tune]->pytorch-widedeep) (21.4.0)\n",
            "Requirement already satisfied: jsonschema in /usr/local/lib/python3.7/dist-packages (from ray[tune]->pytorch-widedeep) (4.3.3)\n",
            "Requirement already satisfied: msgpack<2.0.0,>=1.0.0 in /usr/local/lib/python3.7/dist-packages (from ray[tune]->pytorch-widedeep) (1.0.3)\n",
            "Requirement already satisfied: grpcio<=1.43.0,>=1.28.1 in /usr/local/lib/python3.7/dist-packages (from ray[tune]->pytorch-widedeep) (1.43.0)\n",
            "Requirement already satisfied: filelock in /usr/local/lib/python3.7/dist-packages (from ray[tune]->pytorch-widedeep) (3.6.0)\n",
            "Requirement already satisfied: protobuf>=3.15.3 in /usr/local/lib/python3.7/dist-packages (from ray[tune]->pytorch-widedeep) (3.17.3)\n",
            "Requirement already satisfied: click>=7.0 in /usr/local/lib/python3.7/dist-packages (from ray[tune]->pytorch-widedeep) (7.1.2)\n",
            "Requirement already satisfied: redis>=3.5.0 in /usr/local/lib/python3.7/dist-packages (from ray[tune]->pytorch-widedeep) (4.2.2)\n",
            "Requirement already satisfied: tensorboardX>=1.9 in /usr/local/lib/python3.7/dist-packages (from ray[tune]->pytorch-widedeep) (2.5)\n",
            "Requirement already satisfied: requests in /usr/local/lib/python3.7/dist-packages (from ray[tune]->pytorch-widedeep) (2.23.0)\n",
            "Requirement already satisfied: tabulate in /usr/local/lib/python3.7/dist-packages (from ray[tune]->pytorch-widedeep) (0.8.9)\n",
            "Requirement already satisfied: async-timeout>=4.0.2 in /usr/local/lib/python3.7/dist-packages (from redis>=3.5.0->ray[tune]->pytorch-widedeep) (4.0.2)\n",
            "Requirement already satisfied: deprecated>=1.2.3 in /usr/local/lib/python3.7/dist-packages (from redis>=3.5.0->ray[tune]->pytorch-widedeep) (1.2.13)\n",
            "Requirement already satisfied: packaging>=20.4 in /usr/local/lib/python3.7/dist-packages (from redis>=3.5.0->ray[tune]->pytorch-widedeep) (21.3)\n",
            "Requirement already satisfied: importlib-metadata>=1.0 in /usr/local/lib/python3.7/dist-packages (from redis>=3.5.0->ray[tune]->pytorch-widedeep) (4.11.3)\n",
            "Requirement already satisfied: typing-extensions in /usr/local/lib/python3.7/dist-packages (from redis>=3.5.0->ray[tune]->pytorch-widedeep) (3.10.0.2)\n",
            "Requirement already satisfied: zipp>=0.5 in /usr/local/lib/python3.7/dist-packages (from importlib-metadata>=1.0->redis>=3.5.0->ray[tune]->pytorch-widedeep) (3.7.0)\n",
            "Requirement already satisfied: pyparsing!=3.0.5,>=2.0.2 in /usr/local/lib/python3.7/dist-packages (from packaging>=20.4->redis>=3.5.0->ray[tune]->pytorch-widedeep) (3.0.7)\n",
            "Requirement already satisfied: pyrsistent!=0.17.0,!=0.17.1,!=0.17.2,>=0.14.0 in /usr/local/lib/python3.7/dist-packages (from jsonschema->ray[tune]->pytorch-widedeep) (0.18.1)\n",
            "Requirement already satisfied: importlib-resources>=1.4.0 in /usr/local/lib/python3.7/dist-packages (from jsonschema->ray[tune]->pytorch-widedeep) (5.4.0)\n",
            "Requirement already satisfied: chardet<4,>=3.0.2 in /usr/local/lib/python3.7/dist-packages (from requests->ray[tune]->pytorch-widedeep) (3.0.4)\n",
            "Requirement already satisfied: idna<3,>=2.5 in /usr/local/lib/python3.7/dist-packages (from requests->ray[tune]->pytorch-widedeep) (2.10)\n",
            "Requirement already satisfied: certifi>=2017.4.17 in /usr/local/lib/python3.7/dist-packages (from requests->ray[tune]->pytorch-widedeep) (2021.10.8)\n",
            "Requirement already satisfied: urllib3!=1.25.0,!=1.25.1,<1.26,>=1.21.1 in /usr/local/lib/python3.7/dist-packages (from requests->ray[tune]->pytorch-widedeep) (1.24.3)\n",
            "Requirement already satisfied: joblib>=0.11 in /usr/local/lib/python3.7/dist-packages (from scikit-learn->pytorch-widedeep) (1.1.0)\n",
            "Requirement already satisfied: threadpoolctl>=2.0.0 in /usr/local/lib/python3.7/dist-packages (from scikit-learn->pytorch-widedeep) (3.1.0)\n",
            "Requirement already satisfied: cymem<2.1.0,>=2.0.2 in /usr/local/lib/python3.7/dist-packages (from spacy->pytorch-widedeep) (2.0.6)\n",
            "Requirement already satisfied: setuptools in /usr/local/lib/python3.7/dist-packages (from spacy->pytorch-widedeep) (57.4.0)\n",
            "Requirement already satisfied: catalogue<1.1.0,>=0.0.7 in /usr/local/lib/python3.7/dist-packages (from spacy->pytorch-widedeep) (1.0.0)\n",
            "Requirement already satisfied: plac<1.2.0,>=0.9.6 in /usr/local/lib/python3.7/dist-packages (from spacy->pytorch-widedeep) (1.1.3)\n",
            "Requirement already satisfied: thinc==7.4.0 in /usr/local/lib/python3.7/dist-packages (from spacy->pytorch-widedeep) (7.4.0)\n",
            "Requirement already satisfied: srsly<1.1.0,>=1.0.2 in /usr/local/lib/python3.7/dist-packages (from spacy->pytorch-widedeep) (1.0.5)\n",
            "Requirement already satisfied: wasabi<1.1.0,>=0.4.0 in /usr/local/lib/python3.7/dist-packages (from spacy->pytorch-widedeep) (0.9.0)\n",
            "Requirement already satisfied: blis<0.5.0,>=0.4.0 in /usr/local/lib/python3.7/dist-packages (from spacy->pytorch-widedeep) (0.4.1)\n",
            "Requirement already satisfied: murmurhash<1.1.0,>=0.28.0 in /usr/local/lib/python3.7/dist-packages (from spacy->pytorch-widedeep) (1.0.6)\n",
            "Requirement already satisfied: preshed<3.1.0,>=3.0.2 in /usr/local/lib/python3.7/dist-packages (from spacy->pytorch-widedeep) (3.0.6)\n",
            "Requirement already satisfied: pyDeprecate==0.3.* in /usr/local/lib/python3.7/dist-packages (from torchmetrics->pytorch-widedeep) (0.3.2)\n",
            "Requirement already satisfied: pillow!=8.3.0,>=5.3.0 in /usr/local/lib/python3.7/dist-packages (from torchvision->pytorch-widedeep) (7.1.2)\n",
            "Collecting git+https://github.com/jrzaurin/pytorch-widedeep.git\n",
            "  Cloning https://github.com/jrzaurin/pytorch-widedeep.git to /tmp/pip-req-build-ym11sf3y\n",
            "  Running command git clone -q https://github.com/jrzaurin/pytorch-widedeep.git /tmp/pip-req-build-ym11sf3y\n",
            "Requirement already satisfied: pandas in /usr/local/lib/python3.7/dist-packages (from pytorch-widedeep==1.1.0) (1.3.5)\n",
            "Requirement already satisfied: numpy>=1.20.0 in /usr/local/lib/python3.7/dist-packages (from pytorch-widedeep==1.1.0) (1.21.5)\n",
            "Requirement already satisfied: scipy in /usr/local/lib/python3.7/dist-packages (from pytorch-widedeep==1.1.0) (1.4.1)\n",
            "Requirement already satisfied: scikit-learn in /usr/local/lib/python3.7/dist-packages (from pytorch-widedeep==1.1.0) (1.0.2)\n",
            "Requirement already satisfied: gensim in /usr/local/lib/python3.7/dist-packages (from pytorch-widedeep==1.1.0) (3.6.0)\n",
            "Requirement already satisfied: spacy in /usr/local/lib/python3.7/dist-packages (from pytorch-widedeep==1.1.0) (2.2.4)\n",
            "Requirement already satisfied: opencv-contrib-python in /usr/local/lib/python3.7/dist-packages (from pytorch-widedeep==1.1.0) (4.1.2.30)\n",
            "Requirement already satisfied: imutils in /usr/local/lib/python3.7/dist-packages (from pytorch-widedeep==1.1.0) (0.5.4)\n",
            "Requirement already satisfied: tqdm in /usr/local/lib/python3.7/dist-packages (from pytorch-widedeep==1.1.0) (4.63.0)\n",
            "Requirement already satisfied: torch in /usr/local/lib/python3.7/dist-packages (from pytorch-widedeep==1.1.0) (1.10.0+cu111)\n",
            "Requirement already satisfied: torchvision in /usr/local/lib/python3.7/dist-packages (from pytorch-widedeep==1.1.0) (0.11.1+cu111)\n",
            "Requirement already satisfied: einops in /usr/local/lib/python3.7/dist-packages (from pytorch-widedeep==1.1.0) (0.4.1)\n",
            "Requirement already satisfied: wrapt in /usr/local/lib/python3.7/dist-packages (from pytorch-widedeep==1.1.0) (1.14.0)\n",
            "Requirement already satisfied: torchmetrics in /usr/local/lib/python3.7/dist-packages (from pytorch-widedeep==1.1.0) (0.7.3)\n",
            "Requirement already satisfied: ray[tune] in /usr/local/lib/python3.7/dist-packages (from pytorch-widedeep==1.1.0) (1.11.0)\n",
            "Requirement already satisfied: pyarrow in /usr/local/lib/python3.7/dist-packages (from pytorch-widedeep==1.1.0) (6.0.1)\n",
            "Requirement already satisfied: fastparquet in /usr/local/lib/python3.7/dist-packages (from pytorch-widedeep==1.1.0) (0.8.1)\n",
            "Requirement already satisfied: cramjam>=2.3.0 in /usr/local/lib/python3.7/dist-packages (from fastparquet->pytorch-widedeep==1.1.0) (2.5.0)\n",
            "Requirement already satisfied: fsspec in /usr/local/lib/python3.7/dist-packages (from fastparquet->pytorch-widedeep==1.1.0) (2022.3.0)\n",
            "Requirement already satisfied: pytz>=2017.3 in /usr/local/lib/python3.7/dist-packages (from pandas->pytorch-widedeep==1.1.0) (2018.9)\n",
            "Requirement already satisfied: python-dateutil>=2.7.3 in /usr/local/lib/python3.7/dist-packages (from pandas->pytorch-widedeep==1.1.0) (2.8.2)\n",
            "Requirement already satisfied: six>=1.5 in /usr/local/lib/python3.7/dist-packages (from python-dateutil>=2.7.3->pandas->pytorch-widedeep==1.1.0) (1.15.0)\n",
            "Requirement already satisfied: smart-open>=1.2.1 in /usr/local/lib/python3.7/dist-packages (from gensim->pytorch-widedeep==1.1.0) (5.2.1)\n",
            "Requirement already satisfied: filelock in /usr/local/lib/python3.7/dist-packages (from ray[tune]->pytorch-widedeep==1.1.0) (3.6.0)\n",
            "Requirement already satisfied: grpcio<=1.43.0,>=1.28.1 in /usr/local/lib/python3.7/dist-packages (from ray[tune]->pytorch-widedeep==1.1.0) (1.43.0)\n",
            "Requirement already satisfied: msgpack<2.0.0,>=1.0.0 in /usr/local/lib/python3.7/dist-packages (from ray[tune]->pytorch-widedeep==1.1.0) (1.0.3)\n",
            "Requirement already satisfied: jsonschema in /usr/local/lib/python3.7/dist-packages (from ray[tune]->pytorch-widedeep==1.1.0) (4.3.3)\n",
            "Requirement already satisfied: redis>=3.5.0 in /usr/local/lib/python3.7/dist-packages (from ray[tune]->pytorch-widedeep==1.1.0) (4.2.2)\n",
            "Requirement already satisfied: attrs in /usr/local/lib/python3.7/dist-packages (from ray[tune]->pytorch-widedeep==1.1.0) (21.4.0)\n",
            "Requirement already satisfied: pyyaml in /usr/local/lib/python3.7/dist-packages (from ray[tune]->pytorch-widedeep==1.1.0) (3.13)\n",
            "Requirement already satisfied: protobuf>=3.15.3 in /usr/local/lib/python3.7/dist-packages (from ray[tune]->pytorch-widedeep==1.1.0) (3.17.3)\n",
            "Requirement already satisfied: click>=7.0 in /usr/local/lib/python3.7/dist-packages (from ray[tune]->pytorch-widedeep==1.1.0) (7.1.2)\n",
            "Requirement already satisfied: tensorboardX>=1.9 in /usr/local/lib/python3.7/dist-packages (from ray[tune]->pytorch-widedeep==1.1.0) (2.5)\n",
            "Requirement already satisfied: requests in /usr/local/lib/python3.7/dist-packages (from ray[tune]->pytorch-widedeep==1.1.0) (2.23.0)\n",
            "Requirement already satisfied: tabulate in /usr/local/lib/python3.7/dist-packages (from ray[tune]->pytorch-widedeep==1.1.0) (0.8.9)\n",
            "Requirement already satisfied: async-timeout>=4.0.2 in /usr/local/lib/python3.7/dist-packages (from redis>=3.5.0->ray[tune]->pytorch-widedeep==1.1.0) (4.0.2)\n",
            "Requirement already satisfied: importlib-metadata>=1.0 in /usr/local/lib/python3.7/dist-packages (from redis>=3.5.0->ray[tune]->pytorch-widedeep==1.1.0) (4.11.3)\n",
            "Requirement already satisfied: deprecated>=1.2.3 in /usr/local/lib/python3.7/dist-packages (from redis>=3.5.0->ray[tune]->pytorch-widedeep==1.1.0) (1.2.13)\n",
            "Requirement already satisfied: packaging>=20.4 in /usr/local/lib/python3.7/dist-packages (from redis>=3.5.0->ray[tune]->pytorch-widedeep==1.1.0) (21.3)\n",
            "Requirement already satisfied: typing-extensions in /usr/local/lib/python3.7/dist-packages (from redis>=3.5.0->ray[tune]->pytorch-widedeep==1.1.0) (3.10.0.2)\n",
            "Requirement already satisfied: zipp>=0.5 in /usr/local/lib/python3.7/dist-packages (from importlib-metadata>=1.0->redis>=3.5.0->ray[tune]->pytorch-widedeep==1.1.0) (3.7.0)\n",
            "Requirement already satisfied: pyparsing!=3.0.5,>=2.0.2 in /usr/local/lib/python3.7/dist-packages (from packaging>=20.4->redis>=3.5.0->ray[tune]->pytorch-widedeep==1.1.0) (3.0.7)\n",
            "Requirement already satisfied: importlib-resources>=1.4.0 in /usr/local/lib/python3.7/dist-packages (from jsonschema->ray[tune]->pytorch-widedeep==1.1.0) (5.4.0)\n",
            "Requirement already satisfied: pyrsistent!=0.17.0,!=0.17.1,!=0.17.2,>=0.14.0 in /usr/local/lib/python3.7/dist-packages (from jsonschema->ray[tune]->pytorch-widedeep==1.1.0) (0.18.1)\n",
            "Requirement already satisfied: urllib3!=1.25.0,!=1.25.1,<1.26,>=1.21.1 in /usr/local/lib/python3.7/dist-packages (from requests->ray[tune]->pytorch-widedeep==1.1.0) (1.24.3)\n",
            "Requirement already satisfied: chardet<4,>=3.0.2 in /usr/local/lib/python3.7/dist-packages (from requests->ray[tune]->pytorch-widedeep==1.1.0) (3.0.4)\n",
            "Requirement already satisfied: certifi>=2017.4.17 in /usr/local/lib/python3.7/dist-packages (from requests->ray[tune]->pytorch-widedeep==1.1.0) (2021.10.8)\n",
            "Requirement already satisfied: idna<3,>=2.5 in /usr/local/lib/python3.7/dist-packages (from requests->ray[tune]->pytorch-widedeep==1.1.0) (2.10)\n",
            "Requirement already satisfied: joblib>=0.11 in /usr/local/lib/python3.7/dist-packages (from scikit-learn->pytorch-widedeep==1.1.0) (1.1.0)\n",
            "Requirement already satisfied: threadpoolctl>=2.0.0 in /usr/local/lib/python3.7/dist-packages (from scikit-learn->pytorch-widedeep==1.1.0) (3.1.0)\n",
            "Requirement already satisfied: preshed<3.1.0,>=3.0.2 in /usr/local/lib/python3.7/dist-packages (from spacy->pytorch-widedeep==1.1.0) (3.0.6)\n",
            "Requirement already satisfied: catalogue<1.1.0,>=0.0.7 in /usr/local/lib/python3.7/dist-packages (from spacy->pytorch-widedeep==1.1.0) (1.0.0)\n",
            "Requirement already satisfied: blis<0.5.0,>=0.4.0 in /usr/local/lib/python3.7/dist-packages (from spacy->pytorch-widedeep==1.1.0) (0.4.1)\n",
            "Requirement already satisfied: plac<1.2.0,>=0.9.6 in /usr/local/lib/python3.7/dist-packages (from spacy->pytorch-widedeep==1.1.0) (1.1.3)\n",
            "Requirement already satisfied: thinc==7.4.0 in /usr/local/lib/python3.7/dist-packages (from spacy->pytorch-widedeep==1.1.0) (7.4.0)\n",
            "Requirement already satisfied: setuptools in /usr/local/lib/python3.7/dist-packages (from spacy->pytorch-widedeep==1.1.0) (57.4.0)\n",
            "Requirement already satisfied: srsly<1.1.0,>=1.0.2 in /usr/local/lib/python3.7/dist-packages (from spacy->pytorch-widedeep==1.1.0) (1.0.5)\n",
            "Requirement already satisfied: wasabi<1.1.0,>=0.4.0 in /usr/local/lib/python3.7/dist-packages (from spacy->pytorch-widedeep==1.1.0) (0.9.0)\n",
            "Requirement already satisfied: murmurhash<1.1.0,>=0.28.0 in /usr/local/lib/python3.7/dist-packages (from spacy->pytorch-widedeep==1.1.0) (1.0.6)\n",
            "Requirement already satisfied: cymem<2.1.0,>=2.0.2 in /usr/local/lib/python3.7/dist-packages (from spacy->pytorch-widedeep==1.1.0) (2.0.6)\n",
            "Requirement already satisfied: pyDeprecate==0.3.* in /usr/local/lib/python3.7/dist-packages (from torchmetrics->pytorch-widedeep==1.1.0) (0.3.2)\n",
            "Requirement already satisfied: pillow!=8.3.0,>=5.3.0 in /usr/local/lib/python3.7/dist-packages (from torchvision->pytorch-widedeep==1.1.0) (7.1.2)\n"
          ]
        }
      ]
    },
    {
      "cell_type": "code",
      "source": [
        "pip install git+https://github.com/jrzaurin/pytorch-widedeep.git"
      ],
      "metadata": {
        "id": "ihq0x3IsC6uw",
        "colab": {
          "base_uri": "https://localhost:8080/"
        },
        "outputId": "6ac39d35-ca01-4893-962a-218beedc3ade"
      },
      "execution_count": 2,
      "outputs": [
        {
          "output_type": "stream",
          "name": "stdout",
          "text": [
            "Collecting git+https://github.com/jrzaurin/pytorch-widedeep.git\n",
            "  Cloning https://github.com/jrzaurin/pytorch-widedeep.git to /tmp/pip-req-build-tjn9pqxk\n",
            "  Running command git clone -q https://github.com/jrzaurin/pytorch-widedeep.git /tmp/pip-req-build-tjn9pqxk\n",
            "Requirement already satisfied: pandas in /usr/local/lib/python3.7/dist-packages (from pytorch-widedeep==1.1.0) (1.3.5)\n",
            "Requirement already satisfied: numpy>=1.20.0 in /usr/local/lib/python3.7/dist-packages (from pytorch-widedeep==1.1.0) (1.21.5)\n",
            "Requirement already satisfied: scipy in /usr/local/lib/python3.7/dist-packages (from pytorch-widedeep==1.1.0) (1.4.1)\n",
            "Requirement already satisfied: scikit-learn in /usr/local/lib/python3.7/dist-packages (from pytorch-widedeep==1.1.0) (1.0.2)\n",
            "Requirement already satisfied: gensim in /usr/local/lib/python3.7/dist-packages (from pytorch-widedeep==1.1.0) (3.6.0)\n",
            "Requirement already satisfied: spacy in /usr/local/lib/python3.7/dist-packages (from pytorch-widedeep==1.1.0) (2.2.4)\n",
            "Requirement already satisfied: opencv-contrib-python in /usr/local/lib/python3.7/dist-packages (from pytorch-widedeep==1.1.0) (4.1.2.30)\n",
            "Requirement already satisfied: imutils in /usr/local/lib/python3.7/dist-packages (from pytorch-widedeep==1.1.0) (0.5.4)\n",
            "Requirement already satisfied: tqdm in /usr/local/lib/python3.7/dist-packages (from pytorch-widedeep==1.1.0) (4.63.0)\n",
            "Requirement already satisfied: torch in /usr/local/lib/python3.7/dist-packages (from pytorch-widedeep==1.1.0) (1.10.0+cu111)\n",
            "Requirement already satisfied: torchvision in /usr/local/lib/python3.7/dist-packages (from pytorch-widedeep==1.1.0) (0.11.1+cu111)\n",
            "Requirement already satisfied: einops in /usr/local/lib/python3.7/dist-packages (from pytorch-widedeep==1.1.0) (0.4.1)\n",
            "Requirement already satisfied: wrapt in /usr/local/lib/python3.7/dist-packages (from pytorch-widedeep==1.1.0) (1.14.0)\n",
            "Requirement already satisfied: torchmetrics in /usr/local/lib/python3.7/dist-packages (from pytorch-widedeep==1.1.0) (0.7.3)\n",
            "Requirement already satisfied: ray[tune] in /usr/local/lib/python3.7/dist-packages (from pytorch-widedeep==1.1.0) (1.11.0)\n",
            "Requirement already satisfied: pyarrow in /usr/local/lib/python3.7/dist-packages (from pytorch-widedeep==1.1.0) (6.0.1)\n",
            "Requirement already satisfied: fastparquet in /usr/local/lib/python3.7/dist-packages (from pytorch-widedeep==1.1.0) (0.8.1)\n",
            "Requirement already satisfied: cramjam>=2.3.0 in /usr/local/lib/python3.7/dist-packages (from fastparquet->pytorch-widedeep==1.1.0) (2.5.0)\n",
            "Requirement already satisfied: fsspec in /usr/local/lib/python3.7/dist-packages (from fastparquet->pytorch-widedeep==1.1.0) (2022.3.0)\n",
            "Requirement already satisfied: python-dateutil>=2.7.3 in /usr/local/lib/python3.7/dist-packages (from pandas->pytorch-widedeep==1.1.0) (2.8.2)\n",
            "Requirement already satisfied: pytz>=2017.3 in /usr/local/lib/python3.7/dist-packages (from pandas->pytorch-widedeep==1.1.0) (2018.9)\n",
            "Requirement already satisfied: six>=1.5 in /usr/local/lib/python3.7/dist-packages (from python-dateutil>=2.7.3->pandas->pytorch-widedeep==1.1.0) (1.15.0)\n",
            "Requirement already satisfied: smart-open>=1.2.1 in /usr/local/lib/python3.7/dist-packages (from gensim->pytorch-widedeep==1.1.0) (5.2.1)\n",
            "Requirement already satisfied: attrs in /usr/local/lib/python3.7/dist-packages (from ray[tune]->pytorch-widedeep==1.1.0) (21.4.0)\n",
            "Requirement already satisfied: msgpack<2.0.0,>=1.0.0 in /usr/local/lib/python3.7/dist-packages (from ray[tune]->pytorch-widedeep==1.1.0) (1.0.3)\n",
            "Requirement already satisfied: click>=7.0 in /usr/local/lib/python3.7/dist-packages (from ray[tune]->pytorch-widedeep==1.1.0) (7.1.2)\n",
            "Requirement already satisfied: filelock in /usr/local/lib/python3.7/dist-packages (from ray[tune]->pytorch-widedeep==1.1.0) (3.6.0)\n",
            "Requirement already satisfied: redis>=3.5.0 in /usr/local/lib/python3.7/dist-packages (from ray[tune]->pytorch-widedeep==1.1.0) (4.2.2)\n",
            "Requirement already satisfied: protobuf>=3.15.3 in /usr/local/lib/python3.7/dist-packages (from ray[tune]->pytorch-widedeep==1.1.0) (3.17.3)\n",
            "Requirement already satisfied: pyyaml in /usr/local/lib/python3.7/dist-packages (from ray[tune]->pytorch-widedeep==1.1.0) (3.13)\n",
            "Requirement already satisfied: jsonschema in /usr/local/lib/python3.7/dist-packages (from ray[tune]->pytorch-widedeep==1.1.0) (4.3.3)\n",
            "Requirement already satisfied: grpcio<=1.43.0,>=1.28.1 in /usr/local/lib/python3.7/dist-packages (from ray[tune]->pytorch-widedeep==1.1.0) (1.43.0)\n",
            "Requirement already satisfied: tabulate in /usr/local/lib/python3.7/dist-packages (from ray[tune]->pytorch-widedeep==1.1.0) (0.8.9)\n",
            "Requirement already satisfied: tensorboardX>=1.9 in /usr/local/lib/python3.7/dist-packages (from ray[tune]->pytorch-widedeep==1.1.0) (2.5)\n",
            "Requirement already satisfied: requests in /usr/local/lib/python3.7/dist-packages (from ray[tune]->pytorch-widedeep==1.1.0) (2.23.0)\n",
            "Requirement already satisfied: packaging>=20.4 in /usr/local/lib/python3.7/dist-packages (from redis>=3.5.0->ray[tune]->pytorch-widedeep==1.1.0) (21.3)\n",
            "Requirement already satisfied: importlib-metadata>=1.0 in /usr/local/lib/python3.7/dist-packages (from redis>=3.5.0->ray[tune]->pytorch-widedeep==1.1.0) (4.11.3)\n",
            "Requirement already satisfied: deprecated>=1.2.3 in /usr/local/lib/python3.7/dist-packages (from redis>=3.5.0->ray[tune]->pytorch-widedeep==1.1.0) (1.2.13)\n",
            "Requirement already satisfied: async-timeout>=4.0.2 in /usr/local/lib/python3.7/dist-packages (from redis>=3.5.0->ray[tune]->pytorch-widedeep==1.1.0) (4.0.2)\n",
            "Requirement already satisfied: typing-extensions in /usr/local/lib/python3.7/dist-packages (from redis>=3.5.0->ray[tune]->pytorch-widedeep==1.1.0) (3.10.0.2)\n",
            "Requirement already satisfied: zipp>=0.5 in /usr/local/lib/python3.7/dist-packages (from importlib-metadata>=1.0->redis>=3.5.0->ray[tune]->pytorch-widedeep==1.1.0) (3.7.0)\n",
            "Requirement already satisfied: pyparsing!=3.0.5,>=2.0.2 in /usr/local/lib/python3.7/dist-packages (from packaging>=20.4->redis>=3.5.0->ray[tune]->pytorch-widedeep==1.1.0) (3.0.7)\n",
            "Requirement already satisfied: importlib-resources>=1.4.0 in /usr/local/lib/python3.7/dist-packages (from jsonschema->ray[tune]->pytorch-widedeep==1.1.0) (5.4.0)\n",
            "Requirement already satisfied: pyrsistent!=0.17.0,!=0.17.1,!=0.17.2,>=0.14.0 in /usr/local/lib/python3.7/dist-packages (from jsonschema->ray[tune]->pytorch-widedeep==1.1.0) (0.18.1)\n",
            "Requirement already satisfied: idna<3,>=2.5 in /usr/local/lib/python3.7/dist-packages (from requests->ray[tune]->pytorch-widedeep==1.1.0) (2.10)\n",
            "Requirement already satisfied: certifi>=2017.4.17 in /usr/local/lib/python3.7/dist-packages (from requests->ray[tune]->pytorch-widedeep==1.1.0) (2021.10.8)\n",
            "Requirement already satisfied: chardet<4,>=3.0.2 in /usr/local/lib/python3.7/dist-packages (from requests->ray[tune]->pytorch-widedeep==1.1.0) (3.0.4)\n",
            "Requirement already satisfied: urllib3!=1.25.0,!=1.25.1,<1.26,>=1.21.1 in /usr/local/lib/python3.7/dist-packages (from requests->ray[tune]->pytorch-widedeep==1.1.0) (1.24.3)\n",
            "Requirement already satisfied: threadpoolctl>=2.0.0 in /usr/local/lib/python3.7/dist-packages (from scikit-learn->pytorch-widedeep==1.1.0) (3.1.0)\n",
            "Requirement already satisfied: joblib>=0.11 in /usr/local/lib/python3.7/dist-packages (from scikit-learn->pytorch-widedeep==1.1.0) (1.1.0)\n",
            "Requirement already satisfied: thinc==7.4.0 in /usr/local/lib/python3.7/dist-packages (from spacy->pytorch-widedeep==1.1.0) (7.4.0)\n",
            "Requirement already satisfied: plac<1.2.0,>=0.9.6 in /usr/local/lib/python3.7/dist-packages (from spacy->pytorch-widedeep==1.1.0) (1.1.3)\n",
            "Requirement already satisfied: wasabi<1.1.0,>=0.4.0 in /usr/local/lib/python3.7/dist-packages (from spacy->pytorch-widedeep==1.1.0) (0.9.0)\n",
            "Requirement already satisfied: murmurhash<1.1.0,>=0.28.0 in /usr/local/lib/python3.7/dist-packages (from spacy->pytorch-widedeep==1.1.0) (1.0.6)\n",
            "Requirement already satisfied: preshed<3.1.0,>=3.0.2 in /usr/local/lib/python3.7/dist-packages (from spacy->pytorch-widedeep==1.1.0) (3.0.6)\n",
            "Requirement already satisfied: srsly<1.1.0,>=1.0.2 in /usr/local/lib/python3.7/dist-packages (from spacy->pytorch-widedeep==1.1.0) (1.0.5)\n",
            "Requirement already satisfied: cymem<2.1.0,>=2.0.2 in /usr/local/lib/python3.7/dist-packages (from spacy->pytorch-widedeep==1.1.0) (2.0.6)\n",
            "Requirement already satisfied: blis<0.5.0,>=0.4.0 in /usr/local/lib/python3.7/dist-packages (from spacy->pytorch-widedeep==1.1.0) (0.4.1)\n",
            "Requirement already satisfied: setuptools in /usr/local/lib/python3.7/dist-packages (from spacy->pytorch-widedeep==1.1.0) (57.4.0)\n",
            "Requirement already satisfied: catalogue<1.1.0,>=0.0.7 in /usr/local/lib/python3.7/dist-packages (from spacy->pytorch-widedeep==1.1.0) (1.0.0)\n",
            "Requirement already satisfied: pyDeprecate==0.3.* in /usr/local/lib/python3.7/dist-packages (from torchmetrics->pytorch-widedeep==1.1.0) (0.3.2)\n",
            "Requirement already satisfied: pillow!=8.3.0,>=5.3.0 in /usr/local/lib/python3.7/dist-packages (from torchvision->pytorch-widedeep==1.1.0) (7.1.2)\n"
          ]
        }
      ]
    },
    {
      "cell_type": "code",
      "source": [
        "# !git clone https://github.com/jrzaurin/pytorch-widedeep\n",
        "# !cd pytorch-widedeep"
      ],
      "metadata": {
        "id": "quJkmNg1C8NP",
        "colab": {
          "base_uri": "https://localhost:8080/"
        },
        "outputId": "f6f1f279-b800-49d2-a903-1c4507756c27"
      },
      "execution_count": null,
      "outputs": [
        {
          "output_type": "stream",
          "name": "stdout",
          "text": [
            "fatal: destination path 'pytorch-widedeep' already exists and is not an empty directory.\n"
          ]
        }
      ]
    },
    {
      "cell_type": "code",
      "source": [
        "# !pip install -e .\n"
      ],
      "metadata": {
        "id": "DbNotbvPC9-y",
        "colab": {
          "base_uri": "https://localhost:8080/"
        },
        "outputId": "7d243011-5f33-415d-8982-ef761dd2a69c"
      },
      "execution_count": null,
      "outputs": [
        {
          "output_type": "stream",
          "name": "stdout",
          "text": [
            "\u001b[31mERROR: File \"setup.py\" or \"setup.cfg\" not found. Directory cannot be installed in editable mode: /content\u001b[0m\n"
          ]
        }
      ]
    },
    {
      "cell_type": "code",
      "source": [
        "import pandas as pd\n",
        "import numpy as np\n",
        "import torch\n",
        "import time\n",
        "from io import StringIO\n",
        "\n",
        "from sklearn.model_selection import train_test_split\n",
        "\n",
        "from pytorch_widedeep import Trainer\n",
        "from pytorch_widedeep.preprocessing import WidePreprocessor, TabPreprocessor\n",
        "from pytorch_widedeep.models import Wide, TabMlp, WideDeep\n",
        "from pytorch_widedeep.metrics import Accuracy, Precision, Recall, F1Score\n",
        "from torchmetrics import AUROC\n",
        "#from torchmetrics import Accuracy, AUROC, Precision, Recall, F1Score #AUROC가 뭐지? #wide_deep의 metric을 안 썼다!!\n",
        "from pytorch_widedeep.initializers import XavierNormal\n",
        "from pytorch_widedeep.utils import LabelEncoder\n",
        "from torch.optim import SGD, lr_scheduler\n",
        "import seaborn as sns\n",
        "pd.set_option(\"display.max_columns\", 200)\n",
        "pd.set_option(\"display.max_rows\", 300)"
      ],
      "metadata": {
        "id": "Ejv2VVarC_Mo"
      },
      "execution_count": 279,
      "outputs": []
    },
    {
      "cell_type": "code",
      "source": [
        "df = pd.read_csv('/content/drive/MyDrive/Wide_deep/train_0406.csv') #  index_col=[0],\n",
        "df.drop(df.filter(regex=\"Unname\"),axis=1, inplace=True)\n",
        "df = df.fillna('?')\n",
        "df.info()\n"
      ],
      "metadata": {
        "colab": {
          "base_uri": "https://localhost:8080/"
        },
        "id": "okR64JuanNJa",
        "outputId": "d0d39a09-4e08-4975-80db-81055aa59d7c"
      },
      "execution_count": 280,
      "outputs": [
        {
          "output_type": "stream",
          "name": "stdout",
          "text": [
            "<class 'pandas.core.frame.DataFrame'>\n",
            "RangeIndex: 14993 entries, 0 to 14992\n",
            "Data columns (total 21 columns):\n",
            " #   Column         Non-Null Count  Dtype \n",
            "---  ------         --------------  ----- \n",
            " 0   Type           14993 non-null  object\n",
            " 1   Name           14993 non-null  object\n",
            " 2   Age            14993 non-null  int64 \n",
            " 3   Breed1         14993 non-null  object\n",
            " 4   Breed2         14993 non-null  object\n",
            " 5   Gender         14993 non-null  object\n",
            " 6   Color1         14993 non-null  object\n",
            " 7   Color2         14993 non-null  object\n",
            " 8   Color3         14993 non-null  object\n",
            " 9   MaturitySize   14993 non-null  object\n",
            " 10  FurLength      14993 non-null  object\n",
            " 11  Vaccinated     14993 non-null  object\n",
            " 12  Dewormed       14993 non-null  object\n",
            " 13  Sterilized     14993 non-null  object\n",
            " 14  Health         14993 non-null  object\n",
            " 15  Quantity       14993 non-null  int64 \n",
            " 16  Fee            14993 non-null  int64 \n",
            " 17  Description    14993 non-null  object\n",
            " 18  PetID          14993 non-null  object\n",
            " 19  AdoptionSpeed  14993 non-null  int64 \n",
            " 20  DataType       14993 non-null  object\n",
            "dtypes: int64(4), object(17)\n",
            "memory usage: 2.4+ MB\n"
          ]
        }
      ]
    },
    {
      "cell_type": "code",
      "source": [
        "df.head()"
      ],
      "metadata": {
        "colab": {
          "base_uri": "https://localhost:8080/",
          "height": 600
        },
        "id": "BSAMRzhTo2g8",
        "outputId": "87db1505-9ea5-4890-e561-da4469bf135e"
      },
      "execution_count": 281,
      "outputs": [
        {
          "output_type": "execute_result",
          "data": {
            "text/plain": [
              "  Type    Name  Age                Breed1 Breed2  Gender Color1 Color2 Color3  \\\n",
              "0  Cat  Nibble    3                 Tabby      0    Male  Black  White      ?   \n",
              "1  Cat       ?    1  Domestic medium hair      0    Male  Black  Brown      ?   \n",
              "2  Dog  Brisco    1          Mixed breeds      0    Male  Brown  White      ?   \n",
              "3  Dog    Miko    4          Mixed breeds      0  Female  Black  Brown      ?   \n",
              "4  Dog  Hunter    1          Mixed breeds      0    Male  Black      ?      ?   \n",
              "\n",
              "  MaturitySize FurLength Vaccinated  Dewormed Sterilized   Health  Quantity  \\\n",
              "0        Small     Short         No        No         No  Healthy         1   \n",
              "1       Medium    Medium   Not sure  Not sure   Not sure  Healthy         1   \n",
              "2       Medium    Medium        Yes       Yes         No  Healthy         1   \n",
              "3       Medium     Short        Yes       Yes         No  Healthy         1   \n",
              "4       Medium     Short         No        No         No  Healthy         1   \n",
              "\n",
              "   Fee                                        Description      PetID  \\\n",
              "0  100  Nibble is a 3+ month old ball of cuteness. He ...  86e1089a3   \n",
              "1    0  I just found it alone yesterday near my apartm...  6296e909a   \n",
              "2    0  Their pregnant mother was dumped by her irresp...  3422e4906   \n",
              "3  150  Good guard dog, very alert, active, obedience ...  5842f1ff5   \n",
              "4    0  This handsome yet cute boy is up for adoption....  850a43f90   \n",
              "\n",
              "   AdoptionSpeed DataType  \n",
              "0              2    train  \n",
              "1              0    train  \n",
              "2              3    train  \n",
              "3              2    train  \n",
              "4              2    train  "
            ],
            "text/html": [
              "\n",
              "  <div id=\"df-8ccf3bc1-1e4c-4e33-856f-b9a2b2a5fc6d\">\n",
              "    <div class=\"colab-df-container\">\n",
              "      <div>\n",
              "<style scoped>\n",
              "    .dataframe tbody tr th:only-of-type {\n",
              "        vertical-align: middle;\n",
              "    }\n",
              "\n",
              "    .dataframe tbody tr th {\n",
              "        vertical-align: top;\n",
              "    }\n",
              "\n",
              "    .dataframe thead th {\n",
              "        text-align: right;\n",
              "    }\n",
              "</style>\n",
              "<table border=\"1\" class=\"dataframe\">\n",
              "  <thead>\n",
              "    <tr style=\"text-align: right;\">\n",
              "      <th></th>\n",
              "      <th>Type</th>\n",
              "      <th>Name</th>\n",
              "      <th>Age</th>\n",
              "      <th>Breed1</th>\n",
              "      <th>Breed2</th>\n",
              "      <th>Gender</th>\n",
              "      <th>Color1</th>\n",
              "      <th>Color2</th>\n",
              "      <th>Color3</th>\n",
              "      <th>MaturitySize</th>\n",
              "      <th>FurLength</th>\n",
              "      <th>Vaccinated</th>\n",
              "      <th>Dewormed</th>\n",
              "      <th>Sterilized</th>\n",
              "      <th>Health</th>\n",
              "      <th>Quantity</th>\n",
              "      <th>Fee</th>\n",
              "      <th>Description</th>\n",
              "      <th>PetID</th>\n",
              "      <th>AdoptionSpeed</th>\n",
              "      <th>DataType</th>\n",
              "    </tr>\n",
              "  </thead>\n",
              "  <tbody>\n",
              "    <tr>\n",
              "      <th>0</th>\n",
              "      <td>Cat</td>\n",
              "      <td>Nibble</td>\n",
              "      <td>3</td>\n",
              "      <td>Tabby</td>\n",
              "      <td>0</td>\n",
              "      <td>Male</td>\n",
              "      <td>Black</td>\n",
              "      <td>White</td>\n",
              "      <td>?</td>\n",
              "      <td>Small</td>\n",
              "      <td>Short</td>\n",
              "      <td>No</td>\n",
              "      <td>No</td>\n",
              "      <td>No</td>\n",
              "      <td>Healthy</td>\n",
              "      <td>1</td>\n",
              "      <td>100</td>\n",
              "      <td>Nibble is a 3+ month old ball of cuteness. He ...</td>\n",
              "      <td>86e1089a3</td>\n",
              "      <td>2</td>\n",
              "      <td>train</td>\n",
              "    </tr>\n",
              "    <tr>\n",
              "      <th>1</th>\n",
              "      <td>Cat</td>\n",
              "      <td>?</td>\n",
              "      <td>1</td>\n",
              "      <td>Domestic medium hair</td>\n",
              "      <td>0</td>\n",
              "      <td>Male</td>\n",
              "      <td>Black</td>\n",
              "      <td>Brown</td>\n",
              "      <td>?</td>\n",
              "      <td>Medium</td>\n",
              "      <td>Medium</td>\n",
              "      <td>Not sure</td>\n",
              "      <td>Not sure</td>\n",
              "      <td>Not sure</td>\n",
              "      <td>Healthy</td>\n",
              "      <td>1</td>\n",
              "      <td>0</td>\n",
              "      <td>I just found it alone yesterday near my apartm...</td>\n",
              "      <td>6296e909a</td>\n",
              "      <td>0</td>\n",
              "      <td>train</td>\n",
              "    </tr>\n",
              "    <tr>\n",
              "      <th>2</th>\n",
              "      <td>Dog</td>\n",
              "      <td>Brisco</td>\n",
              "      <td>1</td>\n",
              "      <td>Mixed breeds</td>\n",
              "      <td>0</td>\n",
              "      <td>Male</td>\n",
              "      <td>Brown</td>\n",
              "      <td>White</td>\n",
              "      <td>?</td>\n",
              "      <td>Medium</td>\n",
              "      <td>Medium</td>\n",
              "      <td>Yes</td>\n",
              "      <td>Yes</td>\n",
              "      <td>No</td>\n",
              "      <td>Healthy</td>\n",
              "      <td>1</td>\n",
              "      <td>0</td>\n",
              "      <td>Their pregnant mother was dumped by her irresp...</td>\n",
              "      <td>3422e4906</td>\n",
              "      <td>3</td>\n",
              "      <td>train</td>\n",
              "    </tr>\n",
              "    <tr>\n",
              "      <th>3</th>\n",
              "      <td>Dog</td>\n",
              "      <td>Miko</td>\n",
              "      <td>4</td>\n",
              "      <td>Mixed breeds</td>\n",
              "      <td>0</td>\n",
              "      <td>Female</td>\n",
              "      <td>Black</td>\n",
              "      <td>Brown</td>\n",
              "      <td>?</td>\n",
              "      <td>Medium</td>\n",
              "      <td>Short</td>\n",
              "      <td>Yes</td>\n",
              "      <td>Yes</td>\n",
              "      <td>No</td>\n",
              "      <td>Healthy</td>\n",
              "      <td>1</td>\n",
              "      <td>150</td>\n",
              "      <td>Good guard dog, very alert, active, obedience ...</td>\n",
              "      <td>5842f1ff5</td>\n",
              "      <td>2</td>\n",
              "      <td>train</td>\n",
              "    </tr>\n",
              "    <tr>\n",
              "      <th>4</th>\n",
              "      <td>Dog</td>\n",
              "      <td>Hunter</td>\n",
              "      <td>1</td>\n",
              "      <td>Mixed breeds</td>\n",
              "      <td>0</td>\n",
              "      <td>Male</td>\n",
              "      <td>Black</td>\n",
              "      <td>?</td>\n",
              "      <td>?</td>\n",
              "      <td>Medium</td>\n",
              "      <td>Short</td>\n",
              "      <td>No</td>\n",
              "      <td>No</td>\n",
              "      <td>No</td>\n",
              "      <td>Healthy</td>\n",
              "      <td>1</td>\n",
              "      <td>0</td>\n",
              "      <td>This handsome yet cute boy is up for adoption....</td>\n",
              "      <td>850a43f90</td>\n",
              "      <td>2</td>\n",
              "      <td>train</td>\n",
              "    </tr>\n",
              "  </tbody>\n",
              "</table>\n",
              "</div>\n",
              "      <button class=\"colab-df-convert\" onclick=\"convertToInteractive('df-8ccf3bc1-1e4c-4e33-856f-b9a2b2a5fc6d')\"\n",
              "              title=\"Convert this dataframe to an interactive table.\"\n",
              "              style=\"display:none;\">\n",
              "        \n",
              "  <svg xmlns=\"http://www.w3.org/2000/svg\" height=\"24px\"viewBox=\"0 0 24 24\"\n",
              "       width=\"24px\">\n",
              "    <path d=\"M0 0h24v24H0V0z\" fill=\"none\"/>\n",
              "    <path d=\"M18.56 5.44l.94 2.06.94-2.06 2.06-.94-2.06-.94-.94-2.06-.94 2.06-2.06.94zm-11 1L8.5 8.5l.94-2.06 2.06-.94-2.06-.94L8.5 2.5l-.94 2.06-2.06.94zm10 10l.94 2.06.94-2.06 2.06-.94-2.06-.94-.94-2.06-.94 2.06-2.06.94z\"/><path d=\"M17.41 7.96l-1.37-1.37c-.4-.4-.92-.59-1.43-.59-.52 0-1.04.2-1.43.59L10.3 9.45l-7.72 7.72c-.78.78-.78 2.05 0 2.83L4 21.41c.39.39.9.59 1.41.59.51 0 1.02-.2 1.41-.59l7.78-7.78 2.81-2.81c.8-.78.8-2.07 0-2.86zM5.41 20L4 18.59l7.72-7.72 1.47 1.35L5.41 20z\"/>\n",
              "  </svg>\n",
              "      </button>\n",
              "      \n",
              "  <style>\n",
              "    .colab-df-container {\n",
              "      display:flex;\n",
              "      flex-wrap:wrap;\n",
              "      gap: 12px;\n",
              "    }\n",
              "\n",
              "    .colab-df-convert {\n",
              "      background-color: #E8F0FE;\n",
              "      border: none;\n",
              "      border-radius: 50%;\n",
              "      cursor: pointer;\n",
              "      display: none;\n",
              "      fill: #1967D2;\n",
              "      height: 32px;\n",
              "      padding: 0 0 0 0;\n",
              "      width: 32px;\n",
              "    }\n",
              "\n",
              "    .colab-df-convert:hover {\n",
              "      background-color: #E2EBFA;\n",
              "      box-shadow: 0px 1px 2px rgba(60, 64, 67, 0.3), 0px 1px 3px 1px rgba(60, 64, 67, 0.15);\n",
              "      fill: #174EA6;\n",
              "    }\n",
              "\n",
              "    [theme=dark] .colab-df-convert {\n",
              "      background-color: #3B4455;\n",
              "      fill: #D2E3FC;\n",
              "    }\n",
              "\n",
              "    [theme=dark] .colab-df-convert:hover {\n",
              "      background-color: #434B5C;\n",
              "      box-shadow: 0px 1px 3px 1px rgba(0, 0, 0, 0.15);\n",
              "      filter: drop-shadow(0px 1px 2px rgba(0, 0, 0, 0.3));\n",
              "      fill: #FFFFFF;\n",
              "    }\n",
              "  </style>\n",
              "\n",
              "      <script>\n",
              "        const buttonEl =\n",
              "          document.querySelector('#df-8ccf3bc1-1e4c-4e33-856f-b9a2b2a5fc6d button.colab-df-convert');\n",
              "        buttonEl.style.display =\n",
              "          google.colab.kernel.accessAllowed ? 'block' : 'none';\n",
              "\n",
              "        async function convertToInteractive(key) {\n",
              "          const element = document.querySelector('#df-8ccf3bc1-1e4c-4e33-856f-b9a2b2a5fc6d');\n",
              "          const dataTable =\n",
              "            await google.colab.kernel.invokeFunction('convertToInteractive',\n",
              "                                                     [key], {});\n",
              "          if (!dataTable) return;\n",
              "\n",
              "          const docLinkHtml = 'Like what you see? Visit the ' +\n",
              "            '<a target=\"_blank\" href=https://colab.research.google.com/notebooks/data_table.ipynb>data table notebook</a>'\n",
              "            + ' to learn more about interactive tables.';\n",
              "          element.innerHTML = '';\n",
              "          dataTable['output_type'] = 'display_data';\n",
              "          await google.colab.output.renderOutput(dataTable, element);\n",
              "          const docLink = document.createElement('div');\n",
              "          docLink.innerHTML = docLinkHtml;\n",
              "          element.appendChild(docLink);\n",
              "        }\n",
              "      </script>\n",
              "    </div>\n",
              "  </div>\n",
              "  "
            ]
          },
          "metadata": {},
          "execution_count": 281
        }
      ]
    },
    {
      "cell_type": "code",
      "source": [
        "df['AdoptionSpeed'].value_counts()"
      ],
      "metadata": {
        "colab": {
          "base_uri": "https://localhost:8080/"
        },
        "id": "uGHtMr8tb0QB",
        "outputId": "b762ab0d-a0a7-4108-abad-3ff67e54bd48"
      },
      "execution_count": 282,
      "outputs": [
        {
          "output_type": "execute_result",
          "data": {
            "text/plain": [
              "4    4197\n",
              "2    4037\n",
              "3    3259\n",
              "1    3090\n",
              "0     410\n",
              "Name: AdoptionSpeed, dtype: int64"
            ]
          },
          "metadata": {},
          "execution_count": 282
        }
      ]
    },
    {
      "cell_type": "code",
      "source": [
        "sns.pairplot(df,hue = 'AdoptionSpeed')"
      ],
      "metadata": {
        "colab": {
          "base_uri": "https://localhost:8080/",
          "height": 568
        },
        "id": "9Vg7t3L0cPEX",
        "outputId": "9b4ed63f-71c8-430a-e915-cec721a886cc"
      },
      "execution_count": 283,
      "outputs": [
        {
          "output_type": "execute_result",
          "data": {
            "text/plain": [
              "<seaborn.axisgrid.PairGrid at 0x7fde6a490290>"
            ]
          },
          "metadata": {},
          "execution_count": 283
        },
        {
          "output_type": "display_data",
          "data": {
            "text/plain": [
              "<Figure size 623.625x540 with 12 Axes>"
            ],
            "image/png": "[encoded data removed]"
          },
          "metadata": {
            "needs_background": "light"
          }
        }
      ]
    },
    {
      "cell_type": "code",
      "source": [
        "encoder = LabelEncoder([\"AdoptionSpeed\"])\n",
        "df_enc = encoder.fit_transform(df)\n",
        "df_enc[\"AdoptionSpeed\"] = df_enc[\"AdoptionSpeed\"] - 1"
      ],
      "metadata": {
        "id": "20DFvAp9crgG"
      },
      "execution_count": 284,
      "outputs": []
    },
    {
      "cell_type": "code",
      "source": [
        "df_enc.head()"
      ],
      "metadata": {
        "colab": {
          "base_uri": "https://localhost:8080/",
          "height": 600
        },
        "id": "WPKwf-9Lc2BG",
        "outputId": "215ca181-9bff-4267-9d3e-0d3ddea8fdcb"
      },
      "execution_count": 285,
      "outputs": [
        {
          "output_type": "execute_result",
          "data": {
            "text/plain": [
              "  Type    Name  Age                Breed1 Breed2  Gender Color1 Color2 Color3  \\\n",
              "0  Cat  Nibble    3                 Tabby      0    Male  Black  White      ?   \n",
              "1  Cat       ?    1  Domestic medium hair      0    Male  Black  Brown      ?   \n",
              "2  Dog  Brisco    1          Mixed breeds      0    Male  Brown  White      ?   \n",
              "3  Dog    Miko    4          Mixed breeds      0  Female  Black  Brown      ?   \n",
              "4  Dog  Hunter    1          Mixed breeds      0    Male  Black      ?      ?   \n",
              "\n",
              "  MaturitySize FurLength Vaccinated  Dewormed Sterilized   Health  Quantity  \\\n",
              "0        Small     Short         No        No         No  Healthy         1   \n",
              "1       Medium    Medium   Not sure  Not sure   Not sure  Healthy         1   \n",
              "2       Medium    Medium        Yes       Yes         No  Healthy         1   \n",
              "3       Medium     Short        Yes       Yes         No  Healthy         1   \n",
              "4       Medium     Short         No        No         No  Healthy         1   \n",
              "\n",
              "   Fee                                        Description      PetID  \\\n",
              "0  100  Nibble is a 3+ month old ball of cuteness. He ...  86e1089a3   \n",
              "1    0  I just found it alone yesterday near my apartm...  6296e909a   \n",
              "2    0  Their pregnant mother was dumped by her irresp...  3422e4906   \n",
              "3  150  Good guard dog, very alert, active, obedience ...  5842f1ff5   \n",
              "4    0  This handsome yet cute boy is up for adoption....  850a43f90   \n",
              "\n",
              "   AdoptionSpeed DataType  \n",
              "0              0    train  \n",
              "1              1    train  \n",
              "2              2    train  \n",
              "3              0    train  \n",
              "4              0    train  "
            ],
            "text/html": [
              "\n",
              "  <div id=\"df-a424310d-4349-43d2-869a-da986f0baaa1\">\n",
              "    <div class=\"colab-df-container\">\n",
              "      <div>\n",
              "<style scoped>\n",
              "    .dataframe tbody tr th:only-of-type {\n",
              "        vertical-align: middle;\n",
              "    }\n",
              "\n",
              "    .dataframe tbody tr th {\n",
              "        vertical-align: top;\n",
              "    }\n",
              "\n",
              "    .dataframe thead th {\n",
              "        text-align: right;\n",
              "    }\n",
              "</style>\n",
              "<table border=\"1\" class=\"dataframe\">\n",
              "  <thead>\n",
              "    <tr style=\"text-align: right;\">\n",
              "      <th></th>\n",
              "      <th>Type</th>\n",
              "      <th>Name</th>\n",
              "      <th>Age</th>\n",
              "      <th>Breed1</th>\n",
              "      <th>Breed2</th>\n",
              "      <th>Gender</th>\n",
              "      <th>Color1</th>\n",
              "      <th>Color2</th>\n",
              "      <th>Color3</th>\n",
              "      <th>MaturitySize</th>\n",
              "      <th>FurLength</th>\n",
              "      <th>Vaccinated</th>\n",
              "      <th>Dewormed</th>\n",
              "      <th>Sterilized</th>\n",
              "      <th>Health</th>\n",
              "      <th>Quantity</th>\n",
              "      <th>Fee</th>\n",
              "      <th>Description</th>\n",
              "      <th>PetID</th>\n",
              "      <th>AdoptionSpeed</th>\n",
              "      <th>DataType</th>\n",
              "    </tr>\n",
              "  </thead>\n",
              "  <tbody>\n",
              "    <tr>\n",
              "      <th>0</th>\n",
              "      <td>Cat</td>\n",
              "      <td>Nibble</td>\n",
              "      <td>3</td>\n",
              "      <td>Tabby</td>\n",
              "      <td>0</td>\n",
              "      <td>Male</td>\n",
              "      <td>Black</td>\n",
              "      <td>White</td>\n",
              "      <td>?</td>\n",
              "      <td>Small</td>\n",
              "      <td>Short</td>\n",
              "      <td>No</td>\n",
              "      <td>No</td>\n",
              "      <td>No</td>\n",
              "      <td>Healthy</td>\n",
              "      <td>1</td>\n",
              "      <td>100</td>\n",
              "      <td>Nibble is a 3+ month old ball of cuteness. He ...</td>\n",
              "      <td>86e1089a3</td>\n",
              "      <td>0</td>\n",
              "      <td>train</td>\n",
              "    </tr>\n",
              "    <tr>\n",
              "      <th>1</th>\n",
              "      <td>Cat</td>\n",
              "      <td>?</td>\n",
              "      <td>1</td>\n",
              "      <td>Domestic medium hair</td>\n",
              "      <td>0</td>\n",
              "      <td>Male</td>\n",
              "      <td>Black</td>\n",
              "      <td>Brown</td>\n",
              "      <td>?</td>\n",
              "      <td>Medium</td>\n",
              "      <td>Medium</td>\n",
              "      <td>Not sure</td>\n",
              "      <td>Not sure</td>\n",
              "      <td>Not sure</td>\n",
              "      <td>Healthy</td>\n",
              "      <td>1</td>\n",
              "      <td>0</td>\n",
              "      <td>I just found it alone yesterday near my apartm...</td>\n",
              "      <td>6296e909a</td>\n",
              "      <td>1</td>\n",
              "      <td>train</td>\n",
              "    </tr>\n",
              "    <tr>\n",
              "      <th>2</th>\n",
              "      <td>Dog</td>\n",
              "      <td>Brisco</td>\n",
              "      <td>1</td>\n",
              "      <td>Mixed breeds</td>\n",
              "      <td>0</td>\n",
              "      <td>Male</td>\n",
              "      <td>Brown</td>\n",
              "      <td>White</td>\n",
              "      <td>?</td>\n",
              "      <td>Medium</td>\n",
              "      <td>Medium</td>\n",
              "      <td>Yes</td>\n",
              "      <td>Yes</td>\n",
              "      <td>No</td>\n",
              "      <td>Healthy</td>\n",
              "      <td>1</td>\n",
              "      <td>0</td>\n",
              "      <td>Their pregnant mother was dumped by her irresp...</td>\n",
              "      <td>3422e4906</td>\n",
              "      <td>2</td>\n",
              "      <td>train</td>\n",
              "    </tr>\n",
              "    <tr>\n",
              "      <th>3</th>\n",
              "      <td>Dog</td>\n",
              "      <td>Miko</td>\n",
              "      <td>4</td>\n",
              "      <td>Mixed breeds</td>\n",
              "      <td>0</td>\n",
              "      <td>Female</td>\n",
              "      <td>Black</td>\n",
              "      <td>Brown</td>\n",
              "      <td>?</td>\n",
              "      <td>Medium</td>\n",
              "      <td>Short</td>\n",
              "      <td>Yes</td>\n",
              "      <td>Yes</td>\n",
              "      <td>No</td>\n",
              "      <td>Healthy</td>\n",
              "      <td>1</td>\n",
              "      <td>150</td>\n",
              "      <td>Good guard dog, very alert, active, obedience ...</td>\n",
              "      <td>5842f1ff5</td>\n",
              "      <td>0</td>\n",
              "      <td>train</td>\n",
              "    </tr>\n",
              "    <tr>\n",
              "      <th>4</th>\n",
              "      <td>Dog</td>\n",
              "      <td>Hunter</td>\n",
              "      <td>1</td>\n",
              "      <td>Mixed breeds</td>\n",
              "      <td>0</td>\n",
              "      <td>Male</td>\n",
              "      <td>Black</td>\n",
              "      <td>?</td>\n",
              "      <td>?</td>\n",
              "      <td>Medium</td>\n",
              "      <td>Short</td>\n",
              "      <td>No</td>\n",
              "      <td>No</td>\n",
              "      <td>No</td>\n",
              "      <td>Healthy</td>\n",
              "      <td>1</td>\n",
              "      <td>0</td>\n",
              "      <td>This handsome yet cute boy is up for adoption....</td>\n",
              "      <td>850a43f90</td>\n",
              "      <td>0</td>\n",
              "      <td>train</td>\n",
              "    </tr>\n",
              "  </tbody>\n",
              "</table>\n",
              "</div>\n",
              "      <button class=\"colab-df-convert\" onclick=\"convertToInteractive('df-a424310d-4349-43d2-869a-da986f0baaa1')\"\n",
              "              title=\"Convert this dataframe to an interactive table.\"\n",
              "              style=\"display:none;\">\n",
              "        \n",
              "  <svg xmlns=\"http://www.w3.org/2000/svg\" height=\"24px\"viewBox=\"0 0 24 24\"\n",
              "       width=\"24px\">\n",
              "    <path d=\"M0 0h24v24H0V0z\" fill=\"none\"/>\n",
              "    <path d=\"M18.56 5.44l.94 2.06.94-2.06 2.06-.94-2.06-.94-.94-2.06-.94 2.06-2.06.94zm-11 1L8.5 8.5l.94-2.06 2.06-.94-2.06-.94L8.5 2.5l-.94 2.06-2.06.94zm10 10l.94 2.06.94-2.06 2.06-.94-2.06-.94-.94-2.06-.94 2.06-2.06.94z\"/><path d=\"M17.41 7.96l-1.37-1.37c-.4-.4-.92-.59-1.43-.59-.52 0-1.04.2-1.43.59L10.3 9.45l-7.72 7.72c-.78.78-.78 2.05 0 2.83L4 21.41c.39.39.9.59 1.41.59.51 0 1.02-.2 1.41-.59l7.78-7.78 2.81-2.81c.8-.78.8-2.07 0-2.86zM5.41 20L4 18.59l7.72-7.72 1.47 1.35L5.41 20z\"/>\n",
              "  </svg>\n",
              "      </button>\n",
              "      \n",
              "  <style>\n",
              "    .colab-df-container {\n",
              "      display:flex;\n",
              "      flex-wrap:wrap;\n",
              "      gap: 12px;\n",
              "    }\n",
              "\n",
              "    .colab-df-convert {\n",
              "      background-color: #E8F0FE;\n",
              "      border: none;\n",
              "      border-radius: 50%;\n",
              "      cursor: pointer;\n",
              "      display: none;\n",
              "      fill: #1967D2;\n",
              "      height: 32px;\n",
              "      padding: 0 0 0 0;\n",
              "      width: 32px;\n",
              "    }\n",
              "\n",
              "    .colab-df-convert:hover {\n",
              "      background-color: #E2EBFA;\n",
              "      box-shadow: 0px 1px 2px rgba(60, 64, 67, 0.3), 0px 1px 3px 1px rgba(60, 64, 67, 0.15);\n",
              "      fill: #174EA6;\n",
              "    }\n",
              "\n",
              "    [theme=dark] .colab-df-convert {\n",
              "      background-color: #3B4455;\n",
              "      fill: #D2E3FC;\n",
              "    }\n",
              "\n",
              "    [theme=dark] .colab-df-convert:hover {\n",
              "      background-color: #434B5C;\n",
              "      box-shadow: 0px 1px 3px 1px rgba(0, 0, 0, 0.15);\n",
              "      filter: drop-shadow(0px 1px 2px rgba(0, 0, 0, 0.3));\n",
              "      fill: #FFFFFF;\n",
              "    }\n",
              "  </style>\n",
              "\n",
              "      <script>\n",
              "        const buttonEl =\n",
              "          document.querySelector('#df-a424310d-4349-43d2-869a-da986f0baaa1 button.colab-df-convert');\n",
              "        buttonEl.style.display =\n",
              "          google.colab.kernel.accessAllowed ? 'block' : 'none';\n",
              "\n",
              "        async function convertToInteractive(key) {\n",
              "          const element = document.querySelector('#df-a424310d-4349-43d2-869a-da986f0baaa1');\n",
              "          const dataTable =\n",
              "            await google.colab.kernel.invokeFunction('convertToInteractive',\n",
              "                                                     [key], {});\n",
              "          if (!dataTable) return;\n",
              "\n",
              "          const docLinkHtml = 'Like what you see? Visit the ' +\n",
              "            '<a target=\"_blank\" href=https://colab.research.google.com/notebooks/data_table.ipynb>data table notebook</a>'\n",
              "            + ' to learn more about interactive tables.';\n",
              "          element.innerHTML = '';\n",
              "          dataTable['output_type'] = 'display_data';\n",
              "          await google.colab.output.renderOutput(dataTable, element);\n",
              "          const docLink = document.createElement('div');\n",
              "          docLink.innerHTML = docLinkHtml;\n",
              "          element.appendChild(docLink);\n",
              "        }\n",
              "      </script>\n",
              "    </div>\n",
              "  </div>\n",
              "  "
            ]
          },
          "metadata": {},
          "execution_count": 285
        }
      ]
    },
    {
      "cell_type": "code",
      "source": [
        "df.info()"
      ],
      "metadata": {
        "colab": {
          "base_uri": "https://localhost:8080/"
        },
        "id": "k0IM1iuceFNT",
        "outputId": "b0db74be-e1a1-4c4f-eb9e-7a9d22e21704"
      },
      "execution_count": 286,
      "outputs": [
        {
          "output_type": "stream",
          "name": "stdout",
          "text": [
            "<class 'pandas.core.frame.DataFrame'>\n",
            "RangeIndex: 14993 entries, 0 to 14992\n",
            "Data columns (total 21 columns):\n",
            " #   Column         Non-Null Count  Dtype \n",
            "---  ------         --------------  ----- \n",
            " 0   Type           14993 non-null  object\n",
            " 1   Name           14993 non-null  object\n",
            " 2   Age            14993 non-null  int64 \n",
            " 3   Breed1         14993 non-null  object\n",
            " 4   Breed2         14993 non-null  object\n",
            " 5   Gender         14993 non-null  object\n",
            " 6   Color1         14993 non-null  object\n",
            " 7   Color2         14993 non-null  object\n",
            " 8   Color3         14993 non-null  object\n",
            " 9   MaturitySize   14993 non-null  object\n",
            " 10  FurLength      14993 non-null  object\n",
            " 11  Vaccinated     14993 non-null  object\n",
            " 12  Dewormed       14993 non-null  object\n",
            " 13  Sterilized     14993 non-null  object\n",
            " 14  Health         14993 non-null  object\n",
            " 15  Quantity       14993 non-null  int64 \n",
            " 16  Fee            14993 non-null  int64 \n",
            " 17  Description    14993 non-null  object\n",
            " 18  PetID          14993 non-null  object\n",
            " 19  AdoptionSpeed  14993 non-null  int64 \n",
            " 20  DataType       14993 non-null  object\n",
            "dtypes: int64(4), object(17)\n",
            "memory usage: 2.4+ MB\n"
          ]
        }
      ]
    },
    {
      "cell_type": "code",
      "source": [
        "df_enc.info()"
      ],
      "metadata": {
        "colab": {
          "base_uri": "https://localhost:8080/"
        },
        "id": "tqZ3hgFbeZrL",
        "outputId": "3b7bba30-4b2a-493e-8cde-0e9e8935b599"
      },
      "execution_count": 287,
      "outputs": [
        {
          "output_type": "stream",
          "name": "stdout",
          "text": [
            "<class 'pandas.core.frame.DataFrame'>\n",
            "RangeIndex: 14993 entries, 0 to 14992\n",
            "Data columns (total 21 columns):\n",
            " #   Column         Non-Null Count  Dtype \n",
            "---  ------         --------------  ----- \n",
            " 0   Type           14993 non-null  object\n",
            " 1   Name           14993 non-null  object\n",
            " 2   Age            14993 non-null  int64 \n",
            " 3   Breed1         14993 non-null  object\n",
            " 4   Breed2         14993 non-null  object\n",
            " 5   Gender         14993 non-null  object\n",
            " 6   Color1         14993 non-null  object\n",
            " 7   Color2         14993 non-null  object\n",
            " 8   Color3         14993 non-null  object\n",
            " 9   MaturitySize   14993 non-null  object\n",
            " 10  FurLength      14993 non-null  object\n",
            " 11  Vaccinated     14993 non-null  object\n",
            " 12  Dewormed       14993 non-null  object\n",
            " 13  Sterilized     14993 non-null  object\n",
            " 14  Health         14993 non-null  object\n",
            " 15  Quantity       14993 non-null  int64 \n",
            " 16  Fee            14993 non-null  int64 \n",
            " 17  Description    14993 non-null  object\n",
            " 18  PetID          14993 non-null  object\n",
            " 19  AdoptionSpeed  14993 non-null  int64 \n",
            " 20  DataType       14993 non-null  object\n",
            "dtypes: int64(4), object(17)\n",
            "memory usage: 2.4+ MB\n"
          ]
        }
      ]
    },
    {
      "cell_type": "code",
      "source": [
        "df_train, df_valid = train_test_split(df_enc, test_size = 0.2, stratify = df_enc[\"AdoptionSpeed\"], random_state = 1)\n",
        "df_valid, df_test = train_test_split(df_valid, test_size = 0.5, stratify = df_valid[\"AdoptionSpeed\"], random_state = 1)"
      ],
      "metadata": {
        "id": "Cbmlyv3KhHz6"
      },
      "execution_count": 288,
      "outputs": []
    },
    {
      "cell_type": "code",
      "source": [
        "print(len(df_train))\n",
        "print(len(df_valid))\n",
        "print(len(df_test))"
      ],
      "metadata": {
        "colab": {
          "base_uri": "https://localhost:8080/"
        },
        "id": "6NoQwYn2fVVJ",
        "outputId": "87e0e8f2-66af-41d2-f904-9764a169a87e"
      },
      "execution_count": 289,
      "outputs": [
        {
          "output_type": "stream",
          "name": "stdout",
          "text": [
            "11994\n",
            "1499\n",
            "1500\n"
          ]
        }
      ]
    },
    {
      "cell_type": "code",
      "source": [
        "wide_cols = [\n",
        "             \"Type\",\n",
        "             \"Name\",\n",
        "             \"Breed1\",\n",
        "             \"Color1\",\n",
        "             \"Health\", \n",
        "             \"Vaccinated\",\n",
        "             \"Dewormed\",                        \n",
        "] #wide part는 memorization 담당(고정요소. 타고 태어난 요소)"
      ],
      "metadata": {
        "id": "MSWAvF1HEmNX"
      },
      "execution_count": 290,
      "outputs": []
    },
    {
      "cell_type": "code",
      "source": [
        "crossed_cols = [(\"Vaccinated\",\"Health\"),(\"Dewormed\",\"Health\")] # 얼만큼 가중치를 줄지 정할 수 있다.\n",
        "\n",
        "cat_embed_cols = [   \n",
        "             \"Type\",                   \n",
        "             \"MaturitySize\",                  \n",
        "             \"Health\",   \n",
        "             \"Breed1\",               \n",
        "             \"Color1\",                              \n",
        "             \"Name\",                  \n",
        "             \"Dewormed\",                  \n",
        "             \"Sterilized\",                    \n",
        "             \"Gender\",         \n",
        "             \"FurLength\",\n",
        "             \"Vaccinated\",\n",
        "]  # deep part는 Generalization 담당(고정요소 + 변동 요소)\n",
        "\n",
        "continuous_cols = [\"Fee\",\"Age\"] \n",
        "\n",
        "target = 'AdoptionSpeed' \n",
        "target = df_enc[target].values"
      ],
      "metadata": {
        "id": "DrZf06gMFZ5e"
      },
      "execution_count": 307,
      "outputs": []
    },
    {
      "cell_type": "code",
      "source": [
        "wide_preprocessor = WidePreprocessor(wide_cols = wide_cols, crossed_cols = crossed_cols) #????\n",
        "X_wide_tr = wide_preprocessor.fit_transform(df_train) # 왜이렇게 많이 뭔가 전처리 하지?\n",
        "X_wide_val = wide_preprocessor.fit_transform(df_valid) \n",
        "X_wide_test = wide_preprocessor.fit_transform(df_test) \n",
        "\n",
        "\n",
        "\n",
        "tab_preprocessor = TabPreprocessor(\n",
        "    cat_embed_cols = cat_embed_cols, continuous_cols= continuous_cols, scale = True\n",
        ")\n",
        "\n",
        "X_tab_tr = tab_preprocessor.fit_transform(df_train)\n",
        "X_tab_val = tab_preprocessor.fit_transform(df_valid)\n",
        "X_tab_test = tab_preprocessor.fit_transform(df_test)\n",
        "\n",
        "y_train = df_train[\"AdoptionSpeed\"].values\n",
        "y_vaild = df_valid[\"AdoptionSpeed\"].values\n",
        "y_test = df_test[\"AdoptionSpeed\"].values\n",
        "\n",
        "X_train = {'X_wide' : X_wide_tr, 'X_tab' : X_tab_tr, \"target\" : y_train}\n",
        "X_val = {'X_wide':X_wide_val, 'X_tab' : X_tab_val, \"target\" : y_vaild}"
      ],
      "metadata": {
        "id": "bY-HYo6_IB-i"
      },
      "execution_count": 308,
      "outputs": []
    },
    {
      "cell_type": "code",
      "source": [
        "X_wide.shape"
      ],
      "metadata": {
        "colab": {
          "base_uri": "https://localhost:8080/"
        },
        "id": "FI87hJRN8oCA",
        "outputId": "ee4090ae-e73c-4227-c358-3b1814e47629"
      },
      "execution_count": 309,
      "outputs": [
        {
          "output_type": "execute_result",
          "data": {
            "text/plain": [
              "(11994, 9)"
            ]
          },
          "metadata": {},
          "execution_count": 309
        }
      ]
    },
    {
      "cell_type": "code",
      "source": [
        "model"
      ],
      "metadata": {
        "colab": {
          "base_uri": "https://localhost:8080/"
        },
        "id": "LW06fydpiwhI",
        "outputId": "03ae6fb9-647c-4463-be8e-1509bc0df842"
      },
      "execution_count": 310,
      "outputs": [
        {
          "output_type": "execute_result",
          "data": {
            "text/plain": [
              "WideDeep(\n",
              "  (wide): Wide(\n",
              "    (wide_linear): Embedding(7701, 5, padding_idx=0)\n",
              "  )\n",
              "  (deeptabular): TabMlp(\n",
              "    (cat_and_cont_embed): DiffSizeCatAndContEmbeddings(\n",
              "      (cat_embed): DiffSizeCatEmbeddings(\n",
              "        (embed_layers): ModuleDict(\n",
              "          (emb_layer_Type): Embedding(3, 2, padding_idx=0)\n",
              "          (emb_layer_MaturitySize): Embedding(5, 3, padding_idx=0)\n",
              "          (emb_layer_Health): Embedding(4, 3, padding_idx=0)\n",
              "          (emb_layer_Breed1): Embedding(90, 20, padding_idx=0)\n",
              "          (emb_layer_Color1): Embedding(8, 5, padding_idx=0)\n",
              "          (emb_layer_Name): Embedding(1179, 84, padding_idx=0)\n",
              "          (emb_layer_Dewormed): Embedding(4, 3, padding_idx=0)\n",
              "          (emb_layer_Sterilized): Embedding(4, 3, padding_idx=0)\n",
              "          (emb_layer_Gender): Embedding(4, 3, padding_idx=0)\n",
              "          (emb_layer_FurLength): Embedding(4, 3, padding_idx=0)\n",
              "          (emb_layer_Vaccinated): Embedding(4, 3, padding_idx=0)\n",
              "        )\n",
              "        (embedding_dropout): Dropout(p=0.1, inplace=False)\n",
              "      )\n",
              "      (cont_norm): BatchNorm1d(2, eps=1e-05, momentum=0.1, affine=True, track_running_stats=True)\n",
              "    )\n",
              "    (tab_mlp): MLP(\n",
              "      (mlp): Sequential(\n",
              "        (dense_layer_0): Sequential(\n",
              "          (0): Dropout(p=0.5, inplace=False)\n",
              "          (1): Linear(in_features=134, out_features=400, bias=True)\n",
              "          (2): LeakyReLU(negative_slope=0.01, inplace=True)\n",
              "        )\n",
              "        (dense_layer_1): Sequential(\n",
              "          (0): Dropout(p=0.5, inplace=False)\n",
              "          (1): Linear(in_features=400, out_features=200, bias=True)\n",
              "          (2): LeakyReLU(negative_slope=0.01, inplace=True)\n",
              "        )\n",
              "      )\n",
              "    )\n",
              "  )\n",
              "  (deephead): MLP(\n",
              "    (mlp): Sequential(\n",
              "      (dense_layer_0): Sequential(\n",
              "        (0): Dropout(p=0.1, inplace=False)\n",
              "        (1): Linear(in_features=200, out_features=200, bias=True)\n",
              "        (2): ReLU(inplace=True)\n",
              "      )\n",
              "      (dense_layer_1): Sequential(\n",
              "        (0): Dropout(p=0.1, inplace=False)\n",
              "        (1): Linear(in_features=200, out_features=100, bias=True)\n",
              "        (2): ReLU(inplace=True)\n",
              "      )\n",
              "    )\n",
              "    (head_out): Linear(in_features=100, out_features=5, bias=True)\n",
              "  )\n",
              ")"
            ]
          },
          "metadata": {},
          "execution_count": 310
        }
      ]
    },
    {
      "cell_type": "markdown",
      "source": [
        "#Define the model"
      ],
      "metadata": {
        "id": "n6Gp5L4PhNVl"
      }
    },
    {
      "cell_type": "code",
      "source": [
        "wide = Wide(input_dim=np.unique(X_train['X_wide']).shape[0], pred_dim = df_enc[\"AdoptionSpeed\"].nunique()) #TODO. pred_dim을 multi_classification에서는 내가 사용할 class 개수로 바꾸는건가?....\n",
        "\n",
        "deeptabular = TabMlp(\n",
        "    column_idx = tab_preprocessor.column_idx,\n",
        "    cat_embed_input = tab_preprocessor.cat_embed_input,\n",
        "    cat_embed_dropout=0.1,\n",
        "    continuous_cols = tab_preprocessor.continuous_cols,\n",
        "    mlp_hidden_dims=[400, 200],\n",
        "    mlp_dropout=0.5,\n",
        "    mlp_activation=\"leaky_relu\",    \n",
        ")\n",
        "\n",
        "target_col = \"AdoptionSpeed\"\n",
        "target = df_train[target_col].values\n",
        "\n",
        "model = WideDeep(wide = wide, \n",
        "                 deeptabular = deeptabular,\n",
        "                 head_hidden_dims = [200,100],\n",
        "                 pred_dim = df_enc[\"AdoptionSpeed\"].nunique())\n",
        "model"
      ],
      "metadata": {
        "id": "TaQ1_9A2ICF3",
        "colab": {
          "base_uri": "https://localhost:8080/"
        },
        "outputId": "57669c1e-5d45-42b3-b123-90f48e0c4bd4"
      },
      "execution_count": 328,
      "outputs": [
        {
          "output_type": "execute_result",
          "data": {
            "text/plain": [
              "WideDeep(\n",
              "  (wide): Wide(\n",
              "    (wide_linear): Embedding(7701, 5, padding_idx=0)\n",
              "  )\n",
              "  (deeptabular): TabMlp(\n",
              "    (cat_and_cont_embed): DiffSizeCatAndContEmbeddings(\n",
              "      (cat_embed): DiffSizeCatEmbeddings(\n",
              "        (embed_layers): ModuleDict(\n",
              "          (emb_layer_Type): Embedding(3, 2, padding_idx=0)\n",
              "          (emb_layer_MaturitySize): Embedding(5, 3, padding_idx=0)\n",
              "          (emb_layer_Health): Embedding(4, 3, padding_idx=0)\n",
              "          (emb_layer_Breed1): Embedding(90, 20, padding_idx=0)\n",
              "          (emb_layer_Color1): Embedding(8, 5, padding_idx=0)\n",
              "          (emb_layer_Name): Embedding(1179, 84, padding_idx=0)\n",
              "          (emb_layer_Dewormed): Embedding(4, 3, padding_idx=0)\n",
              "          (emb_layer_Sterilized): Embedding(4, 3, padding_idx=0)\n",
              "          (emb_layer_Gender): Embedding(4, 3, padding_idx=0)\n",
              "          (emb_layer_FurLength): Embedding(4, 3, padding_idx=0)\n",
              "          (emb_layer_Vaccinated): Embedding(4, 3, padding_idx=0)\n",
              "        )\n",
              "        (embedding_dropout): Dropout(p=0.1, inplace=False)\n",
              "      )\n",
              "      (cont_norm): BatchNorm1d(2, eps=1e-05, momentum=0.1, affine=True, track_running_stats=True)\n",
              "    )\n",
              "    (tab_mlp): MLP(\n",
              "      (mlp): Sequential(\n",
              "        (dense_layer_0): Sequential(\n",
              "          (0): Dropout(p=0.5, inplace=False)\n",
              "          (1): Linear(in_features=134, out_features=400, bias=True)\n",
              "          (2): LeakyReLU(negative_slope=0.01, inplace=True)\n",
              "        )\n",
              "        (dense_layer_1): Sequential(\n",
              "          (0): Dropout(p=0.5, inplace=False)\n",
              "          (1): Linear(in_features=400, out_features=200, bias=True)\n",
              "          (2): LeakyReLU(negative_slope=0.01, inplace=True)\n",
              "        )\n",
              "      )\n",
              "    )\n",
              "  )\n",
              "  (deephead): MLP(\n",
              "    (mlp): Sequential(\n",
              "      (dense_layer_0): Sequential(\n",
              "        (0): Dropout(p=0.1, inplace=False)\n",
              "        (1): Linear(in_features=200, out_features=200, bias=True)\n",
              "        (2): ReLU(inplace=True)\n",
              "      )\n",
              "      (dense_layer_1): Sequential(\n",
              "        (0): Dropout(p=0.1, inplace=False)\n",
              "        (1): Linear(in_features=200, out_features=100, bias=True)\n",
              "        (2): ReLU(inplace=True)\n",
              "      )\n",
              "    )\n",
              "    (head_out): Linear(in_features=100, out_features=5, bias=True)\n",
              "  )\n",
              ")"
            ]
          },
          "metadata": {},
          "execution_count": 328
        }
      ]
    },
    {
      "cell_type": "code",
      "source": [
        "tab_preprocessor.embed_dim"
      ],
      "metadata": {
        "colab": {
          "base_uri": "https://localhost:8080/"
        },
        "id": "hXvsFEJtB1ZF",
        "outputId": "bda728db-72c5-4d07-e3af-e4016ea07f1b"
      },
      "execution_count": 329,
      "outputs": [
        {
          "output_type": "execute_result",
          "data": {
            "text/plain": [
              "{'Breed1': 20,\n",
              " 'Color1': 5,\n",
              " 'Dewormed': 3,\n",
              " 'FurLength': 3,\n",
              " 'Gender': 3,\n",
              " 'Health': 3,\n",
              " 'MaturitySize': 3,\n",
              " 'Name': 84,\n",
              " 'Sterilized': 3,\n",
              " 'Type': 2,\n",
              " 'Vaccinated': 3}"
            ]
          },
          "metadata": {},
          "execution_count": 329
        }
      ]
    },
    {
      "cell_type": "code",
      "source": [
        "tab_preprocessor.column_idx"
      ],
      "metadata": {
        "colab": {
          "base_uri": "https://localhost:8080/"
        },
        "id": "Oyv7l7D2hRGE",
        "outputId": "129a1a6b-e01f-4ee7-cce6-5290fd67f3e9"
      },
      "execution_count": 330,
      "outputs": [
        {
          "output_type": "execute_result",
          "data": {
            "text/plain": [
              "{'Age': 12,\n",
              " 'Breed1': 3,\n",
              " 'Color1': 4,\n",
              " 'Dewormed': 6,\n",
              " 'Fee': 11,\n",
              " 'FurLength': 9,\n",
              " 'Gender': 8,\n",
              " 'Health': 2,\n",
              " 'MaturitySize': 1,\n",
              " 'Name': 5,\n",
              " 'Sterilized': 7,\n",
              " 'Type': 0,\n",
              " 'Vaccinated': 10}"
            ]
          },
          "metadata": {},
          "execution_count": 330
        }
      ]
    },
    {
      "cell_type": "code",
      "source": [
        "np.unique(X_wide).shape[0]"
      ],
      "metadata": {
        "colab": {
          "base_uri": "https://localhost:8080/"
        },
        "id": "ipiTa-BqhTZU",
        "outputId": "10a7074a-0804-4103-898e-e1a3b875484f"
      },
      "execution_count": 331,
      "outputs": [
        {
          "output_type": "execute_result",
          "data": {
            "text/plain": [
              "7700"
            ]
          },
          "metadata": {},
          "execution_count": 331
        }
      ]
    },
    {
      "cell_type": "code",
      "source": [
        "wide_preprocessor.wide_dim"
      ],
      "metadata": {
        "colab": {
          "base_uri": "https://localhost:8080/"
        },
        "id": "8H8wbvt_CQXF",
        "outputId": "a42e5aa7-c5ea-4c33-925a-b2925197417f"
      },
      "execution_count": 332,
      "outputs": [
        {
          "output_type": "execute_result",
          "data": {
            "text/plain": [
              "1303"
            ]
          },
          "metadata": {},
          "execution_count": 332
        }
      ]
    },
    {
      "cell_type": "code",
      "source": [
        "wide"
      ],
      "metadata": {
        "colab": {
          "base_uri": "https://localhost:8080/"
        },
        "id": "pqsIMwPRCiDz",
        "outputId": "383d9b7a-b875-4386-d329-aaeff2f50929"
      },
      "execution_count": 333,
      "outputs": [
        {
          "output_type": "execute_result",
          "data": {
            "text/plain": [
              "Wide(\n",
              "  (wide_linear): Embedding(7701, 5, padding_idx=0)\n",
              ")"
            ]
          },
          "metadata": {},
          "execution_count": 333
        }
      ]
    },
    {
      "cell_type": "code",
      "source": [
        "auroc = AUROC(num_classes=df_enc[\"AdoptionSpeed\"].nunique())"
      ],
      "metadata": {
        "colab": {
          "base_uri": "https://localhost:8080/"
        },
        "id": "EH89EeWyjMin",
        "outputId": "29b18711-da29-481e-9b23-d44714ced688"
      },
      "execution_count": 346,
      "outputs": [
        {
          "output_type": "stream",
          "name": "stderr",
          "text": [
            "/usr/local/lib/python3.7/dist-packages/torchmetrics/utilities/prints.py:36: UserWarning: Metric `AUROC` will save all targets and predictions in buffer. For large datasets this may lead to large memory footprint.\n",
            "  warnings.warn(*args, **kwargs)\n"
          ]
        }
      ]
    },
    {
      "cell_type": "code",
      "source": [
        "wide_opt = SGD(model.wide.parameters(), lr=0.1)\n",
        "deep_opt = SGD(model.deeptabular.parameters(), lr = 0.1)\n",
        "head_opt = SGD(model.deephead.parameters(), lr = 0.1)\n",
        "\n",
        "\n",
        "wide_sch = lr_scheduler.StepLR(wide_opt, step_size = 3)\n",
        "deep_sch = lr_scheduler.StepLR(deep_opt, step_size = 3)\n",
        "head_sch = lr_scheduler.StepLR(head_opt, step_size = 3)\n",
        "\n",
        "\n",
        "optimizers = {\n",
        "    \"wide\":wide_opt,\n",
        "    \"deeptabular\":deep_opt,\n",
        "    \"deephead\": head_opt,   \n",
        "}\n",
        "\n",
        "schedulers = {\n",
        "    \"wide\":wide_sch,\n",
        "    \"deeptabular\":deep_sch,\n",
        "    \"deephead\": head_sch,\n",
        "}\n",
        "\n",
        "initializers = {\n",
        "    \"wide\":XavierNormal,\n",
        "    \"deeptabular\":XavierNormal\n",
        "}"
      ],
      "metadata": {
        "id": "XRbkb46zneG-"
      },
      "execution_count": 335,
      "outputs": []
    },
    {
      "cell_type": "code",
      "source": [
        "deep_opt"
      ],
      "metadata": {
        "colab": {
          "base_uri": "https://localhost:8080/"
        },
        "id": "5yrfMfo6rB13",
        "outputId": "2949cc49-4809-4f7b-da4f-928dc065cb4e"
      },
      "execution_count": 336,
      "outputs": [
        {
          "output_type": "execute_result",
          "data": {
            "text/plain": [
              "SGD (\n",
              "Parameter Group 0\n",
              "    dampening: 0\n",
              "    initial_lr: 0.1\n",
              "    lr: 0.1\n",
              "    momentum: 0\n",
              "    nesterov: False\n",
              "    weight_decay: 0\n",
              ")"
            ]
          },
          "metadata": {},
          "execution_count": 336
        }
      ]
    },
    {
      "cell_type": "markdown",
      "source": [
        "![image.png](data:image/png;base64,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) \n",
        "\n",
        "출처 : https://for-my-wealthy-life.tistory.com/6 "
      ],
      "metadata": {
        "id": "Tf-NPHHNdU_L"
      }
    },
    {
      "cell_type": "code",
      "source": [
        "# deep_sch = lr_scheduler.StepLR(deep_opt, step_size = 3)\n",
        "trainer = Trainer (\n",
        "    model,\n",
        "    objective = \"multiclass\",\n",
        "    lr_schedular = schedulers,\n",
        "    initializers = initializers, #내가 이걸 왜 썼지?\n",
        "    optimizers = optimizers,\n",
        "    metrics = [Precision, Recall, F1Score],\n",
        ")\n"
      ],
      "metadata": {
        "colab": {
          "base_uri": "https://localhost:8080/"
        },
        "id": "Zuc1ADt5jQJP",
        "outputId": "50b4a5f9-1cd5-4fb8-db81-df67f28d2cb9"
      },
      "execution_count": 355,
      "outputs": [
        {
          "output_type": "stream",
          "name": "stderr",
          "text": [
            "/usr/local/lib/python3.7/dist-packages/pytorch_widedeep/initializers.py:35: UserWarning: No initializer found for deephead\n",
            "  \"No initializer found for {}\".format(name), UserWarning\n"
          ]
        }
      ]
    },
    {
      "cell_type": "code",
      "source": [
        "trainer.fit(X_train = X_train,\n",
        "            X_val = X_val,\n",
        "            n_epochs = 5,\n",
        "            batch_size = 2)"
      ],
      "metadata": {
        "colab": {
          "base_uri": "https://localhost:8080/",
          "height": 416
        },
        "id": "-JygclpCroou",
        "outputId": "c6901fc6-5b0f-444f-d7a6-72820d346dae"
      },
      "execution_count": 356,
      "outputs": [
        {
          "output_type": "stream",
          "name": "stderr",
          "text": [
            "epoch 1:  13%|█▎        | 752/5997 [00:13<01:37, 53.76it/s, loss=1.53, metrics={'prec': 0.2258, 'rec': 0.2306, 'f1': 0.2244}]\n"
          ]
        },
        {
          "output_type": "error",
          "ename": "IndexError",
          "evalue": "ignored",
          "traceback": [
            "\u001b[0;31m---------------------------------------------------------------------------\u001b[0m",
            "\u001b[0;31mIndexError\u001b[0m                                Traceback (most recent call last)",
            "\u001b[0;32m<ipython-input-356-66a967aaa335>\u001b[0m in \u001b[0;36m<module>\u001b[0;34m()\u001b[0m\n\u001b[1;32m      2\u001b[0m             \u001b[0mX_val\u001b[0m \u001b[0;34m=\u001b[0m \u001b[0mX_val\u001b[0m\u001b[0;34m,\u001b[0m\u001b[0;34m\u001b[0m\u001b[0;34m\u001b[0m\u001b[0m\n\u001b[1;32m      3\u001b[0m             \u001b[0mn_epochs\u001b[0m \u001b[0;34m=\u001b[0m \u001b[0;36m5\u001b[0m\u001b[0;34m,\u001b[0m\u001b[0;34m\u001b[0m\u001b[0;34m\u001b[0m\u001b[0m\n\u001b[0;32m----> 4\u001b[0;31m             batch_size = 2)\n\u001b[0m",
            "\u001b[0;32m/usr/local/lib/python3.7/dist-packages/pytorch_widedeep/utils/general_utils.py\u001b[0m in \u001b[0;36m__call__\u001b[0;34m(self, wrapped, instance, args, kwargs)\u001b[0m\n\u001b[1;32m     59\u001b[0m                     \u001b[0mself\u001b[0m\u001b[0;34m.\u001b[0m\u001b[0mprimary_name\u001b[0m\u001b[0;34m\u001b[0m\u001b[0;34m\u001b[0m\u001b[0m\n\u001b[1;32m     60\u001b[0m                 ] = alias\n\u001b[0;32m---> 61\u001b[0;31m         \u001b[0;32mreturn\u001b[0m \u001b[0mwrapped\u001b[0m\u001b[0;34m(\u001b[0m\u001b[0;34m*\u001b[0m\u001b[0margs\u001b[0m\u001b[0;34m,\u001b[0m \u001b[0;34m**\u001b[0m\u001b[0mkwargs\u001b[0m\u001b[0;34m)\u001b[0m\u001b[0;34m\u001b[0m\u001b[0;34m\u001b[0m\u001b[0m\n\u001b[0m\u001b[1;32m     62\u001b[0m \u001b[0;34m\u001b[0m\u001b[0m\n\u001b[1;32m     63\u001b[0m \u001b[0;34m\u001b[0m\u001b[0m\n",
            "\u001b[0;32m/usr/local/lib/python3.7/dist-packages/pytorch_widedeep/training/trainer.py\u001b[0m in \u001b[0;36mfit\u001b[0;34m(self, X_wide, X_tab, X_text, X_img, X_train, X_val, val_split, target, n_epochs, validation_freq, batch_size, custom_dataloader, finetune, with_lds, **kwargs)\u001b[0m\n\u001b[1;32m    452\u001b[0m                     \u001b[0mt\u001b[0m\u001b[0;34m.\u001b[0m\u001b[0mset_description\u001b[0m\u001b[0;34m(\u001b[0m\u001b[0;34m\"epoch %i\"\u001b[0m \u001b[0;34m%\u001b[0m \u001b[0;34m(\u001b[0m\u001b[0mepoch\u001b[0m \u001b[0;34m+\u001b[0m \u001b[0;36m1\u001b[0m\u001b[0;34m)\u001b[0m\u001b[0;34m)\u001b[0m\u001b[0;34m\u001b[0m\u001b[0;34m\u001b[0m\u001b[0m\n\u001b[1;32m    453\u001b[0m                     train_score, train_loss = self._train_step(\n\u001b[0;32m--> 454\u001b[0;31m                         \u001b[0mdata\u001b[0m\u001b[0;34m,\u001b[0m \u001b[0mtargett\u001b[0m\u001b[0;34m,\u001b[0m \u001b[0mbatch_idx\u001b[0m\u001b[0;34m,\u001b[0m \u001b[0mepoch\u001b[0m\u001b[0;34m,\u001b[0m \u001b[0mlds_weightt\u001b[0m\u001b[0;34m\u001b[0m\u001b[0;34m\u001b[0m\u001b[0m\n\u001b[0m\u001b[1;32m    455\u001b[0m                     )\n\u001b[1;32m    456\u001b[0m                     \u001b[0mprint_loss_and_metric\u001b[0m\u001b[0;34m(\u001b[0m\u001b[0mt\u001b[0m\u001b[0;34m,\u001b[0m \u001b[0mtrain_loss\u001b[0m\u001b[0;34m,\u001b[0m \u001b[0mtrain_score\u001b[0m\u001b[0;34m)\u001b[0m\u001b[0;34m\u001b[0m\u001b[0;34m\u001b[0m\u001b[0m\n",
            "\u001b[0;32m/usr/local/lib/python3.7/dist-packages/pytorch_widedeep/training/trainer.py\u001b[0m in \u001b[0;36m_train_step\u001b[0;34m(self, data, target, batch_idx, epoch, lds_weightt)\u001b[0m\n\u001b[1;32m   1020\u001b[0m             \u001b[0m_\u001b[0m\u001b[0;34m,\u001b[0m \u001b[0my_pred\u001b[0m \u001b[0;34m=\u001b[0m \u001b[0mself\u001b[0m\u001b[0;34m.\u001b[0m\u001b[0mmodel\u001b[0m\u001b[0;34m(\u001b[0m\u001b[0mX\u001b[0m\u001b[0;34m,\u001b[0m \u001b[0my\u001b[0m\u001b[0;34m,\u001b[0m \u001b[0mepoch\u001b[0m\u001b[0;34m)\u001b[0m\u001b[0;34m\u001b[0m\u001b[0;34m\u001b[0m\u001b[0m\n\u001b[1;32m   1021\u001b[0m         \u001b[0;32melse\u001b[0m\u001b[0;34m:\u001b[0m\u001b[0;34m\u001b[0m\u001b[0;34m\u001b[0m\u001b[0m\n\u001b[0;32m-> 1022\u001b[0;31m             \u001b[0my_pred\u001b[0m \u001b[0;34m=\u001b[0m \u001b[0mself\u001b[0m\u001b[0;34m.\u001b[0m\u001b[0mmodel\u001b[0m\u001b[0;34m(\u001b[0m\u001b[0mX\u001b[0m\u001b[0;34m)\u001b[0m\u001b[0;34m\u001b[0m\u001b[0;34m\u001b[0m\u001b[0m\n\u001b[0m\u001b[1;32m   1023\u001b[0m \u001b[0;34m\u001b[0m\u001b[0m\n\u001b[1;32m   1024\u001b[0m         \u001b[0;32mif\u001b[0m \u001b[0mself\u001b[0m\u001b[0;34m.\u001b[0m\u001b[0mmodel\u001b[0m\u001b[0;34m.\u001b[0m\u001b[0mis_tabnet\u001b[0m\u001b[0;34m:\u001b[0m\u001b[0;34m\u001b[0m\u001b[0;34m\u001b[0m\u001b[0m\n",
            "\u001b[0;32m/usr/local/lib/python3.7/dist-packages/torch/nn/modules/module.py\u001b[0m in \u001b[0;36m_call_impl\u001b[0;34m(self, *input, **kwargs)\u001b[0m\n\u001b[1;32m   1100\u001b[0m         if not (self._backward_hooks or self._forward_hooks or self._forward_pre_hooks or _global_backward_hooks\n\u001b[1;32m   1101\u001b[0m                 or _global_forward_hooks or _global_forward_pre_hooks):\n\u001b[0;32m-> 1102\u001b[0;31m             \u001b[0;32mreturn\u001b[0m \u001b[0mforward_call\u001b[0m\u001b[0;34m(\u001b[0m\u001b[0;34m*\u001b[0m\u001b[0minput\u001b[0m\u001b[0;34m,\u001b[0m \u001b[0;34m**\u001b[0m\u001b[0mkwargs\u001b[0m\u001b[0;34m)\u001b[0m\u001b[0;34m\u001b[0m\u001b[0;34m\u001b[0m\u001b[0m\n\u001b[0m\u001b[1;32m   1103\u001b[0m         \u001b[0;31m# Do not call functions when jit is used\u001b[0m\u001b[0;34m\u001b[0m\u001b[0;34m\u001b[0m\u001b[0;34m\u001b[0m\u001b[0m\n\u001b[1;32m   1104\u001b[0m         \u001b[0mfull_backward_hooks\u001b[0m\u001b[0;34m,\u001b[0m \u001b[0mnon_full_backward_hooks\u001b[0m \u001b[0;34m=\u001b[0m \u001b[0;34m[\u001b[0m\u001b[0;34m]\u001b[0m\u001b[0;34m,\u001b[0m \u001b[0;34m[\u001b[0m\u001b[0;34m]\u001b[0m\u001b[0;34m\u001b[0m\u001b[0;34m\u001b[0m\u001b[0m\n",
            "\u001b[0;32m/usr/local/lib/python3.7/dist-packages/pytorch_widedeep/models/wide_deep.py\u001b[0m in \u001b[0;36mforward\u001b[0;34m(self, X, y, epoch)\u001b[0m\n\u001b[1;32m    204\u001b[0m         \u001b[0mwide_out\u001b[0m \u001b[0;34m=\u001b[0m \u001b[0mself\u001b[0m\u001b[0;34m.\u001b[0m\u001b[0m_forward_wide\u001b[0m\u001b[0;34m(\u001b[0m\u001b[0mX\u001b[0m\u001b[0;34m)\u001b[0m\u001b[0;34m\u001b[0m\u001b[0;34m\u001b[0m\u001b[0m\n\u001b[1;32m    205\u001b[0m         \u001b[0;32mif\u001b[0m \u001b[0mself\u001b[0m\u001b[0;34m.\u001b[0m\u001b[0mdeephead\u001b[0m\u001b[0;34m:\u001b[0m\u001b[0;34m\u001b[0m\u001b[0;34m\u001b[0m\u001b[0m\n\u001b[0;32m--> 206\u001b[0;31m             \u001b[0mdeep\u001b[0m \u001b[0;34m=\u001b[0m \u001b[0mself\u001b[0m\u001b[0;34m.\u001b[0m\u001b[0m_forward_deephead\u001b[0m\u001b[0;34m(\u001b[0m\u001b[0mX\u001b[0m\u001b[0;34m,\u001b[0m \u001b[0mwide_out\u001b[0m\u001b[0;34m)\u001b[0m\u001b[0;34m\u001b[0m\u001b[0;34m\u001b[0m\u001b[0m\n\u001b[0m\u001b[1;32m    207\u001b[0m         \u001b[0;32melse\u001b[0m\u001b[0;34m:\u001b[0m\u001b[0;34m\u001b[0m\u001b[0;34m\u001b[0m\u001b[0m\n\u001b[1;32m    208\u001b[0m             \u001b[0mdeep\u001b[0m \u001b[0;34m=\u001b[0m \u001b[0mself\u001b[0m\u001b[0;34m.\u001b[0m\u001b[0m_forward_deep\u001b[0m\u001b[0;34m(\u001b[0m\u001b[0mX\u001b[0m\u001b[0;34m,\u001b[0m \u001b[0mwide_out\u001b[0m\u001b[0;34m)\u001b[0m\u001b[0;34m\u001b[0m\u001b[0;34m\u001b[0m\u001b[0m\n",
            "\u001b[0;32m/usr/local/lib/python3.7/dist-packages/pytorch_widedeep/models/wide_deep.py\u001b[0m in \u001b[0;36m_forward_deephead\u001b[0;34m(self, X, wide_out)\u001b[0m\n\u001b[1;32m    281\u001b[0m                 \u001b[0mdeepside\u001b[0m\u001b[0;34m,\u001b[0m \u001b[0mM_loss\u001b[0m \u001b[0;34m=\u001b[0m \u001b[0mtab_out\u001b[0m\u001b[0;34m[\u001b[0m\u001b[0;36m0\u001b[0m\u001b[0;34m]\u001b[0m\u001b[0;34m,\u001b[0m \u001b[0mtab_out\u001b[0m\u001b[0;34m[\u001b[0m\u001b[0;36m1\u001b[0m\u001b[0;34m]\u001b[0m\u001b[0;34m\u001b[0m\u001b[0;34m\u001b[0m\u001b[0m\n\u001b[1;32m    282\u001b[0m             \u001b[0;32melse\u001b[0m\u001b[0;34m:\u001b[0m\u001b[0;34m\u001b[0m\u001b[0;34m\u001b[0m\u001b[0m\n\u001b[0;32m--> 283\u001b[0;31m                 \u001b[0mdeepside\u001b[0m \u001b[0;34m=\u001b[0m \u001b[0mself\u001b[0m\u001b[0;34m.\u001b[0m\u001b[0mdeeptabular\u001b[0m\u001b[0;34m(\u001b[0m\u001b[0mX\u001b[0m\u001b[0;34m[\u001b[0m\u001b[0;34m\"deeptabular\"\u001b[0m\u001b[0;34m]\u001b[0m\u001b[0;34m)\u001b[0m\u001b[0;34m\u001b[0m\u001b[0;34m\u001b[0m\u001b[0m\n\u001b[0m\u001b[1;32m    284\u001b[0m         \u001b[0;32melse\u001b[0m\u001b[0;34m:\u001b[0m\u001b[0;34m\u001b[0m\u001b[0;34m\u001b[0m\u001b[0m\n\u001b[1;32m    285\u001b[0m             \u001b[0mdeepside\u001b[0m \u001b[0;34m=\u001b[0m \u001b[0mtorch\u001b[0m\u001b[0;34m.\u001b[0m\u001b[0mFloatTensor\u001b[0m\u001b[0;34m(\u001b[0m\u001b[0;34m)\u001b[0m\u001b[0;34m.\u001b[0m\u001b[0mto\u001b[0m\u001b[0;34m(\u001b[0m\u001b[0mdevice\u001b[0m\u001b[0;34m)\u001b[0m\u001b[0;34m\u001b[0m\u001b[0;34m\u001b[0m\u001b[0m\n",
            "\u001b[0;32m/usr/local/lib/python3.7/dist-packages/torch/nn/modules/module.py\u001b[0m in \u001b[0;36m_call_impl\u001b[0;34m(self, *input, **kwargs)\u001b[0m\n\u001b[1;32m   1100\u001b[0m         if not (self._backward_hooks or self._forward_hooks or self._forward_pre_hooks or _global_backward_hooks\n\u001b[1;32m   1101\u001b[0m                 or _global_forward_hooks or _global_forward_pre_hooks):\n\u001b[0;32m-> 1102\u001b[0;31m             \u001b[0;32mreturn\u001b[0m \u001b[0mforward_call\u001b[0m\u001b[0;34m(\u001b[0m\u001b[0;34m*\u001b[0m\u001b[0minput\u001b[0m\u001b[0;34m,\u001b[0m \u001b[0;34m**\u001b[0m\u001b[0mkwargs\u001b[0m\u001b[0;34m)\u001b[0m\u001b[0;34m\u001b[0m\u001b[0;34m\u001b[0m\u001b[0m\n\u001b[0m\u001b[1;32m   1103\u001b[0m         \u001b[0;31m# Do not call functions when jit is used\u001b[0m\u001b[0;34m\u001b[0m\u001b[0;34m\u001b[0m\u001b[0;34m\u001b[0m\u001b[0m\n\u001b[1;32m   1104\u001b[0m         \u001b[0mfull_backward_hooks\u001b[0m\u001b[0;34m,\u001b[0m \u001b[0mnon_full_backward_hooks\u001b[0m \u001b[0;34m=\u001b[0m \u001b[0;34m[\u001b[0m\u001b[0;34m]\u001b[0m\u001b[0;34m,\u001b[0m \u001b[0;34m[\u001b[0m\u001b[0;34m]\u001b[0m\u001b[0;34m\u001b[0m\u001b[0;34m\u001b[0m\u001b[0m\n",
            "\u001b[0;32m/usr/local/lib/python3.7/dist-packages/pytorch_widedeep/models/tabular/mlp/tab_mlp.py\u001b[0m in \u001b[0;36mforward\u001b[0;34m(self, X)\u001b[0m\n\u001b[1;32m    150\u001b[0m \u001b[0;34m\u001b[0m\u001b[0m\n\u001b[1;32m    151\u001b[0m     \u001b[0;32mdef\u001b[0m \u001b[0mforward\u001b[0m\u001b[0;34m(\u001b[0m\u001b[0mself\u001b[0m\u001b[0;34m,\u001b[0m \u001b[0mX\u001b[0m\u001b[0;34m:\u001b[0m \u001b[0mTensor\u001b[0m\u001b[0;34m)\u001b[0m \u001b[0;34m->\u001b[0m \u001b[0mTensor\u001b[0m\u001b[0;34m:\u001b[0m\u001b[0;34m\u001b[0m\u001b[0;34m\u001b[0m\u001b[0m\n\u001b[0;32m--> 152\u001b[0;31m         \u001b[0mx\u001b[0m \u001b[0;34m=\u001b[0m \u001b[0mself\u001b[0m\u001b[0;34m.\u001b[0m\u001b[0m_get_embeddings\u001b[0m\u001b[0;34m(\u001b[0m\u001b[0mX\u001b[0m\u001b[0;34m)\u001b[0m\u001b[0;34m\u001b[0m\u001b[0;34m\u001b[0m\u001b[0m\n\u001b[0m\u001b[1;32m    153\u001b[0m         \u001b[0;32mreturn\u001b[0m \u001b[0mself\u001b[0m\u001b[0;34m.\u001b[0m\u001b[0mtab_mlp\u001b[0m\u001b[0;34m(\u001b[0m\u001b[0mx\u001b[0m\u001b[0;34m)\u001b[0m\u001b[0;34m\u001b[0m\u001b[0;34m\u001b[0m\u001b[0m\n",
            "\u001b[0;32m/usr/local/lib/python3.7/dist-packages/pytorch_widedeep/models/tabular/_base_tabular_model.py\u001b[0m in \u001b[0;36m_get_embeddings\u001b[0;34m(self, X)\u001b[0m\n\u001b[1;32m     65\u001b[0m \u001b[0;34m\u001b[0m\u001b[0m\n\u001b[1;32m     66\u001b[0m     \u001b[0;32mdef\u001b[0m \u001b[0m_get_embeddings\u001b[0m\u001b[0;34m(\u001b[0m\u001b[0mself\u001b[0m\u001b[0;34m,\u001b[0m \u001b[0mX\u001b[0m\u001b[0;34m:\u001b[0m \u001b[0mTensor\u001b[0m\u001b[0;34m)\u001b[0m \u001b[0;34m->\u001b[0m \u001b[0mTensor\u001b[0m\u001b[0;34m:\u001b[0m\u001b[0;34m\u001b[0m\u001b[0;34m\u001b[0m\u001b[0m\n\u001b[0;32m---> 67\u001b[0;31m         \u001b[0mx_cat\u001b[0m\u001b[0;34m,\u001b[0m \u001b[0mx_cont\u001b[0m \u001b[0;34m=\u001b[0m \u001b[0mself\u001b[0m\u001b[0;34m.\u001b[0m\u001b[0mcat_and_cont_embed\u001b[0m\u001b[0;34m(\u001b[0m\u001b[0mX\u001b[0m\u001b[0;34m)\u001b[0m\u001b[0;34m\u001b[0m\u001b[0;34m\u001b[0m\u001b[0m\n\u001b[0m\u001b[1;32m     68\u001b[0m         \u001b[0;32mif\u001b[0m \u001b[0mx_cat\u001b[0m \u001b[0;32mis\u001b[0m \u001b[0;32mnot\u001b[0m \u001b[0;32mNone\u001b[0m\u001b[0;34m:\u001b[0m\u001b[0;34m\u001b[0m\u001b[0;34m\u001b[0m\u001b[0m\n\u001b[1;32m     69\u001b[0m             x = (\n",
            "\u001b[0;32m/usr/local/lib/python3.7/dist-packages/torch/nn/modules/module.py\u001b[0m in \u001b[0;36m_call_impl\u001b[0;34m(self, *input, **kwargs)\u001b[0m\n\u001b[1;32m   1100\u001b[0m         if not (self._backward_hooks or self._forward_hooks or self._forward_pre_hooks or _global_backward_hooks\n\u001b[1;32m   1101\u001b[0m                 or _global_forward_hooks or _global_forward_pre_hooks):\n\u001b[0;32m-> 1102\u001b[0;31m             \u001b[0;32mreturn\u001b[0m \u001b[0mforward_call\u001b[0m\u001b[0;34m(\u001b[0m\u001b[0;34m*\u001b[0m\u001b[0minput\u001b[0m\u001b[0;34m,\u001b[0m \u001b[0;34m**\u001b[0m\u001b[0mkwargs\u001b[0m\u001b[0;34m)\u001b[0m\u001b[0;34m\u001b[0m\u001b[0;34m\u001b[0m\u001b[0m\n\u001b[0m\u001b[1;32m   1103\u001b[0m         \u001b[0;31m# Do not call functions when jit is used\u001b[0m\u001b[0;34m\u001b[0m\u001b[0;34m\u001b[0m\u001b[0;34m\u001b[0m\u001b[0m\n\u001b[1;32m   1104\u001b[0m         \u001b[0mfull_backward_hooks\u001b[0m\u001b[0;34m,\u001b[0m \u001b[0mnon_full_backward_hooks\u001b[0m \u001b[0;34m=\u001b[0m \u001b[0;34m[\u001b[0m\u001b[0;34m]\u001b[0m\u001b[0;34m,\u001b[0m \u001b[0;34m[\u001b[0m\u001b[0;34m]\u001b[0m\u001b[0;34m\u001b[0m\u001b[0;34m\u001b[0m\u001b[0m\n",
            "\u001b[0;32m/usr/local/lib/python3.7/dist-packages/pytorch_widedeep/models/tabular/embeddings_layers.py\u001b[0m in \u001b[0;36mforward\u001b[0;34m(self, X)\u001b[0m\n\u001b[1;32m    313\u001b[0m \u001b[0;34m\u001b[0m\u001b[0m\n\u001b[1;32m    314\u001b[0m         \u001b[0;32mif\u001b[0m \u001b[0mself\u001b[0m\u001b[0;34m.\u001b[0m\u001b[0mcat_embed_input\u001b[0m \u001b[0;32mis\u001b[0m \u001b[0;32mnot\u001b[0m \u001b[0;32mNone\u001b[0m\u001b[0;34m:\u001b[0m\u001b[0;34m\u001b[0m\u001b[0;34m\u001b[0m\u001b[0m\n\u001b[0;32m--> 315\u001b[0;31m             \u001b[0mx_cat\u001b[0m \u001b[0;34m=\u001b[0m \u001b[0mself\u001b[0m\u001b[0;34m.\u001b[0m\u001b[0mcat_embed\u001b[0m\u001b[0;34m(\u001b[0m\u001b[0mX\u001b[0m\u001b[0;34m)\u001b[0m\u001b[0;34m\u001b[0m\u001b[0;34m\u001b[0m\u001b[0m\n\u001b[0m\u001b[1;32m    316\u001b[0m         \u001b[0;32melse\u001b[0m\u001b[0;34m:\u001b[0m\u001b[0;34m\u001b[0m\u001b[0;34m\u001b[0m\u001b[0m\n\u001b[1;32m    317\u001b[0m             \u001b[0mx_cat\u001b[0m \u001b[0;34m=\u001b[0m \u001b[0;32mNone\u001b[0m\u001b[0;34m\u001b[0m\u001b[0;34m\u001b[0m\u001b[0m\n",
            "\u001b[0;32m/usr/local/lib/python3.7/dist-packages/torch/nn/modules/module.py\u001b[0m in \u001b[0;36m_call_impl\u001b[0;34m(self, *input, **kwargs)\u001b[0m\n\u001b[1;32m   1100\u001b[0m         if not (self._backward_hooks or self._forward_hooks or self._forward_pre_hooks or _global_backward_hooks\n\u001b[1;32m   1101\u001b[0m                 or _global_forward_hooks or _global_forward_pre_hooks):\n\u001b[0;32m-> 1102\u001b[0;31m             \u001b[0;32mreturn\u001b[0m \u001b[0mforward_call\u001b[0m\u001b[0;34m(\u001b[0m\u001b[0;34m*\u001b[0m\u001b[0minput\u001b[0m\u001b[0;34m,\u001b[0m \u001b[0;34m**\u001b[0m\u001b[0mkwargs\u001b[0m\u001b[0;34m)\u001b[0m\u001b[0;34m\u001b[0m\u001b[0;34m\u001b[0m\u001b[0m\n\u001b[0m\u001b[1;32m   1103\u001b[0m         \u001b[0;31m# Do not call functions when jit is used\u001b[0m\u001b[0;34m\u001b[0m\u001b[0;34m\u001b[0m\u001b[0;34m\u001b[0m\u001b[0m\n\u001b[1;32m   1104\u001b[0m         \u001b[0mfull_backward_hooks\u001b[0m\u001b[0;34m,\u001b[0m \u001b[0mnon_full_backward_hooks\u001b[0m \u001b[0;34m=\u001b[0m \u001b[0;34m[\u001b[0m\u001b[0;34m]\u001b[0m\u001b[0;34m,\u001b[0m \u001b[0;34m[\u001b[0m\u001b[0;34m]\u001b[0m\u001b[0;34m\u001b[0m\u001b[0;34m\u001b[0m\u001b[0m\n",
            "\u001b[0;32m/usr/local/lib/python3.7/dist-packages/pytorch_widedeep/models/tabular/embeddings_layers.py\u001b[0m in \u001b[0;36mforward\u001b[0;34m(self, X)\u001b[0m\n\u001b[1;32m    159\u001b[0m                 \u001b[0;32melse\u001b[0m \u001b[0mtorch\u001b[0m\u001b[0;34m.\u001b[0m\u001b[0mzeros\u001b[0m\u001b[0;34m(\u001b[0m\u001b[0;36m1\u001b[0m\u001b[0;34m,\u001b[0m \u001b[0mdim\u001b[0m\u001b[0;34m,\u001b[0m \u001b[0mdevice\u001b[0m\u001b[0;34m=\u001b[0m\u001b[0mX\u001b[0m\u001b[0;34m.\u001b[0m\u001b[0mdevice\u001b[0m\u001b[0;34m)\u001b[0m\u001b[0;34m\u001b[0m\u001b[0;34m\u001b[0m\u001b[0m\n\u001b[1;32m    160\u001b[0m             )\n\u001b[0;32m--> 161\u001b[0;31m             \u001b[0;32mfor\u001b[0m \u001b[0mcol\u001b[0m\u001b[0;34m,\u001b[0m \u001b[0m_\u001b[0m\u001b[0;34m,\u001b[0m \u001b[0mdim\u001b[0m \u001b[0;32min\u001b[0m \u001b[0mself\u001b[0m\u001b[0;34m.\u001b[0m\u001b[0membed_input\u001b[0m\u001b[0;34m\u001b[0m\u001b[0;34m\u001b[0m\u001b[0m\n\u001b[0m\u001b[1;32m    162\u001b[0m         ]\n\u001b[1;32m    163\u001b[0m         \u001b[0mx\u001b[0m \u001b[0;34m=\u001b[0m \u001b[0mtorch\u001b[0m\u001b[0;34m.\u001b[0m\u001b[0mcat\u001b[0m\u001b[0;34m(\u001b[0m\u001b[0membed\u001b[0m\u001b[0;34m,\u001b[0m \u001b[0;36m1\u001b[0m\u001b[0;34m)\u001b[0m\u001b[0;34m\u001b[0m\u001b[0;34m\u001b[0m\u001b[0m\n",
            "\u001b[0;32m/usr/local/lib/python3.7/dist-packages/pytorch_widedeep/models/tabular/embeddings_layers.py\u001b[0m in \u001b[0;36m<listcomp>\u001b[0;34m(.0)\u001b[0m\n\u001b[1;32m    159\u001b[0m                 \u001b[0;32melse\u001b[0m \u001b[0mtorch\u001b[0m\u001b[0;34m.\u001b[0m\u001b[0mzeros\u001b[0m\u001b[0;34m(\u001b[0m\u001b[0;36m1\u001b[0m\u001b[0;34m,\u001b[0m \u001b[0mdim\u001b[0m\u001b[0;34m,\u001b[0m \u001b[0mdevice\u001b[0m\u001b[0;34m=\u001b[0m\u001b[0mX\u001b[0m\u001b[0;34m.\u001b[0m\u001b[0mdevice\u001b[0m\u001b[0;34m)\u001b[0m\u001b[0;34m\u001b[0m\u001b[0;34m\u001b[0m\u001b[0m\n\u001b[1;32m    160\u001b[0m             )\n\u001b[0;32m--> 161\u001b[0;31m             \u001b[0;32mfor\u001b[0m \u001b[0mcol\u001b[0m\u001b[0;34m,\u001b[0m \u001b[0m_\u001b[0m\u001b[0;34m,\u001b[0m \u001b[0mdim\u001b[0m \u001b[0;32min\u001b[0m \u001b[0mself\u001b[0m\u001b[0;34m.\u001b[0m\u001b[0membed_input\u001b[0m\u001b[0;34m\u001b[0m\u001b[0;34m\u001b[0m\u001b[0m\n\u001b[0m\u001b[1;32m    162\u001b[0m         ]\n\u001b[1;32m    163\u001b[0m         \u001b[0mx\u001b[0m \u001b[0;34m=\u001b[0m \u001b[0mtorch\u001b[0m\u001b[0;34m.\u001b[0m\u001b[0mcat\u001b[0m\u001b[0;34m(\u001b[0m\u001b[0membed\u001b[0m\u001b[0;34m,\u001b[0m \u001b[0;36m1\u001b[0m\u001b[0;34m)\u001b[0m\u001b[0;34m\u001b[0m\u001b[0;34m\u001b[0m\u001b[0m\n",
            "\u001b[0;32m/usr/local/lib/python3.7/dist-packages/torch/nn/modules/module.py\u001b[0m in \u001b[0;36m_call_impl\u001b[0;34m(self, *input, **kwargs)\u001b[0m\n\u001b[1;32m   1100\u001b[0m         if not (self._backward_hooks or self._forward_hooks or self._forward_pre_hooks or _global_backward_hooks\n\u001b[1;32m   1101\u001b[0m                 or _global_forward_hooks or _global_forward_pre_hooks):\n\u001b[0;32m-> 1102\u001b[0;31m             \u001b[0;32mreturn\u001b[0m \u001b[0mforward_call\u001b[0m\u001b[0;34m(\u001b[0m\u001b[0;34m*\u001b[0m\u001b[0minput\u001b[0m\u001b[0;34m,\u001b[0m \u001b[0;34m**\u001b[0m\u001b[0mkwargs\u001b[0m\u001b[0;34m)\u001b[0m\u001b[0;34m\u001b[0m\u001b[0;34m\u001b[0m\u001b[0m\n\u001b[0m\u001b[1;32m   1103\u001b[0m         \u001b[0;31m# Do not call functions when jit is used\u001b[0m\u001b[0;34m\u001b[0m\u001b[0;34m\u001b[0m\u001b[0;34m\u001b[0m\u001b[0m\n\u001b[1;32m   1104\u001b[0m         \u001b[0mfull_backward_hooks\u001b[0m\u001b[0;34m,\u001b[0m \u001b[0mnon_full_backward_hooks\u001b[0m \u001b[0;34m=\u001b[0m \u001b[0;34m[\u001b[0m\u001b[0;34m]\u001b[0m\u001b[0;34m,\u001b[0m \u001b[0;34m[\u001b[0m\u001b[0;34m]\u001b[0m\u001b[0;34m\u001b[0m\u001b[0;34m\u001b[0m\u001b[0m\n",
            "\u001b[0;32m/usr/local/lib/python3.7/dist-packages/torch/nn/modules/sparse.py\u001b[0m in \u001b[0;36mforward\u001b[0;34m(self, input)\u001b[0m\n\u001b[1;32m    158\u001b[0m         return F.embedding(\n\u001b[1;32m    159\u001b[0m             \u001b[0minput\u001b[0m\u001b[0;34m,\u001b[0m \u001b[0mself\u001b[0m\u001b[0;34m.\u001b[0m\u001b[0mweight\u001b[0m\u001b[0;34m,\u001b[0m \u001b[0mself\u001b[0m\u001b[0;34m.\u001b[0m\u001b[0mpadding_idx\u001b[0m\u001b[0;34m,\u001b[0m \u001b[0mself\u001b[0m\u001b[0;34m.\u001b[0m\u001b[0mmax_norm\u001b[0m\u001b[0;34m,\u001b[0m\u001b[0;34m\u001b[0m\u001b[0;34m\u001b[0m\u001b[0m\n\u001b[0;32m--> 160\u001b[0;31m             self.norm_type, self.scale_grad_by_freq, self.sparse)\n\u001b[0m\u001b[1;32m    161\u001b[0m \u001b[0;34m\u001b[0m\u001b[0m\n\u001b[1;32m    162\u001b[0m     \u001b[0;32mdef\u001b[0m \u001b[0mextra_repr\u001b[0m\u001b[0;34m(\u001b[0m\u001b[0mself\u001b[0m\u001b[0;34m)\u001b[0m \u001b[0;34m->\u001b[0m \u001b[0mstr\u001b[0m\u001b[0;34m:\u001b[0m\u001b[0;34m\u001b[0m\u001b[0;34m\u001b[0m\u001b[0m\n",
            "\u001b[0;32m/usr/local/lib/python3.7/dist-packages/torch/nn/functional.py\u001b[0m in \u001b[0;36membedding\u001b[0;34m(input, weight, padding_idx, max_norm, norm_type, scale_grad_by_freq, sparse)\u001b[0m\n\u001b[1;32m   2042\u001b[0m         \u001b[0;31m# remove once script supports set_grad_enabled\u001b[0m\u001b[0;34m\u001b[0m\u001b[0;34m\u001b[0m\u001b[0;34m\u001b[0m\u001b[0m\n\u001b[1;32m   2043\u001b[0m         \u001b[0m_no_grad_embedding_renorm_\u001b[0m\u001b[0;34m(\u001b[0m\u001b[0mweight\u001b[0m\u001b[0;34m,\u001b[0m \u001b[0minput\u001b[0m\u001b[0;34m,\u001b[0m \u001b[0mmax_norm\u001b[0m\u001b[0;34m,\u001b[0m \u001b[0mnorm_type\u001b[0m\u001b[0;34m)\u001b[0m\u001b[0;34m\u001b[0m\u001b[0;34m\u001b[0m\u001b[0m\n\u001b[0;32m-> 2044\u001b[0;31m     \u001b[0;32mreturn\u001b[0m \u001b[0mtorch\u001b[0m\u001b[0;34m.\u001b[0m\u001b[0membedding\u001b[0m\u001b[0;34m(\u001b[0m\u001b[0mweight\u001b[0m\u001b[0;34m,\u001b[0m \u001b[0minput\u001b[0m\u001b[0;34m,\u001b[0m \u001b[0mpadding_idx\u001b[0m\u001b[0;34m,\u001b[0m \u001b[0mscale_grad_by_freq\u001b[0m\u001b[0;34m,\u001b[0m \u001b[0msparse\u001b[0m\u001b[0;34m)\u001b[0m\u001b[0;34m\u001b[0m\u001b[0;34m\u001b[0m\u001b[0m\n\u001b[0m\u001b[1;32m   2045\u001b[0m \u001b[0;34m\u001b[0m\u001b[0m\n\u001b[1;32m   2046\u001b[0m \u001b[0;34m\u001b[0m\u001b[0m\n",
            "\u001b[0;31mIndexError\u001b[0m: index out of range in self"
          ]
        }
      ]
    },
    {
      "cell_type": "code",
      "source": [
        "\n",
        "start = time.time()\n",
        "\n",
        "\n",
        "trainer.fit(\n",
        "    X_wide=wide,\n",
        "    X_tab = X_tab,\n",
        "    target = target,\n",
        "    n_epochs = 50,\n",
        "    batch_size = 256,\n",
        ")\n",
        "\n",
        "end = time.time()\n",
        "total_time = (end-start)/60\n",
        "\n",
        "print(\"excution_time : {:.1f}min\".format(total_time))"
      ],
      "metadata": {
        "id": "LWsrnSKMJqKc"
      },
      "execution_count": null,
      "outputs": []
    },
    {
      "cell_type": "code",
      "source": [
        "#trainer와 torch는 무슨 차이지?\n",
        "# Option 1: this will also save training history and lr history if the\n",
        "\n",
        "trainer.save(path=\"model_weights\", save_state_dict = True)\n",
        "\n",
        "# Option 2: save as any other torch model\n",
        "\n",
        "torch.save(model.state_dict(), \"model_weights/wd_model.pt\") # 이게 도대체 뭐야? 허허... 왜 파일 확장자가 pt인거지?\n",
        "\n",
        "model_new = WideDeep(wide = wide, deeptabular = tab_mlp) # wide랑 tab_mlp랑 왜 따로 트랜스폼 해두었을까?\n",
        "\n",
        "model_new.load_state_dict(torch.load(\"model_weights/wd_model.pt\")) \n",
        "\n",
        "trainer_new = Trainer(model_new, objective = 'binary') #trainer는 언제 만들어서 언제 활용했지?\n",
        "\n",
        "preds = trainer_new.predict(X_wide=X_wide, X_tab = X_tab)"
      ],
      "metadata": {
        "id": "GZ9YISKkKd-0"
      },
      "execution_count": null,
      "outputs": []
    },
    {
      "cell_type": "code",
      "source": [
        ""
      ],
      "metadata": {
        "id": "OdWn68bVHPCq"
      },
      "execution_count": null,
      "outputs": []
    },
    {
      "cell_type": "code",
      "source": [
        "!pytest tests"
      ],
      "metadata": {
        "id": "eKMFJkVYP44J"
      },
      "execution_count": null,
      "outputs": []
    },
    {
      "cell_type": "markdown",
      "source": [
        ""
      ],
      "metadata": {
        "id": "WhNbLKBMFhTi"
      }
    }
  ]
}