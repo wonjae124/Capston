{
  "nbformat": 4,
  "nbformat_minor": 0,
  "metadata": {
    "colab": {
      "name": "TabNet 코드구현",
      "provenance": [],
      "collapsed_sections": [],
      "machine_shape": "hm",
      "mount_file_id": "1ipNzpaTDLk_mIOpvPLm2mIjJ5BL05-pc",
      "authorship_tag": "ABX9TyMFe9WHYk/Ilf8J2I+4bqgl",
      "include_colab_link": true
    },
    "kernelspec": {
      "name": "python3",
      "display_name": "Python 3"
    },
    "language_info": {
      "name": "python"
    },
    "accelerator": "GPU"
  },
  "cells": [
    {
      "cell_type": "markdown",
      "metadata": {
        "id": "view-in-github",
        "colab_type": "text"
      },
      "source": [
        "<a href=\"https://colab.research.google.com/github/wonjae124/Capston/blob/main/TabNet_%EC%BD%94%EB%93%9C%EA%B5%AC%ED%98%84.ipynb\" target=\"_parent\"><img src=\"https://colab.research.google.com/assets/colab-badge.svg\" alt=\"Open In Colab\"/></a>"
      ]
    },
    {
      "cell_type": "code",
      "execution_count": 1,
      "metadata": {
        "colab": {
          "base_uri": "https://localhost:8080/"
        },
        "id": "Ris1IPpodpeZ",
        "outputId": "b3da6b06-011f-4022-970a-d563810aafdc"
      },
      "outputs": [
        {
          "output_type": "stream",
          "name": "stdout",
          "text": [
            "Collecting pytorch-tabnet\n",
            "  Downloading pytorch_tabnet-3.1.1-py3-none-any.whl (39 kB)\n",
            "Requirement already satisfied: scipy>1.4 in /usr/local/lib/python3.7/dist-packages (from pytorch-tabnet) (1.4.1)\n",
            "Requirement already satisfied: numpy<2.0,>=1.17 in /usr/local/lib/python3.7/dist-packages (from pytorch-tabnet) (1.21.5)\n",
            "Requirement already satisfied: tqdm<5.0,>=4.36 in /usr/local/lib/python3.7/dist-packages (from pytorch-tabnet) (4.62.3)\n",
            "Requirement already satisfied: scikit_learn>0.21 in /usr/local/lib/python3.7/dist-packages (from pytorch-tabnet) (1.0.2)\n",
            "Requirement already satisfied: torch<2.0,>=1.2 in /usr/local/lib/python3.7/dist-packages (from pytorch-tabnet) (1.10.0+cu111)\n",
            "Requirement already satisfied: threadpoolctl>=2.0.0 in /usr/local/lib/python3.7/dist-packages (from scikit_learn>0.21->pytorch-tabnet) (3.1.0)\n",
            "Requirement already satisfied: joblib>=0.11 in /usr/local/lib/python3.7/dist-packages (from scikit_learn>0.21->pytorch-tabnet) (1.1.0)\n",
            "Requirement already satisfied: typing-extensions in /usr/local/lib/python3.7/dist-packages (from torch<2.0,>=1.2->pytorch-tabnet) (3.10.0.2)\n",
            "Installing collected packages: pytorch-tabnet\n",
            "Successfully installed pytorch-tabnet-3.1.1\n"
          ]
        }
      ],
      "source": [
        "!pip install pytorch-tabnet"
      ]
    },
    {
      "cell_type": "markdown",
      "source": [
        "Documentation\n",
        "\n",
        "https://dreamquark-ai.github.io/tabnet/generated_docs/README.html#tabnet-attentive-interpretable-tabular-learning"
      ],
      "metadata": {
        "id": "Eyf9NLJHCU_u"
      }
    },
    {
      "cell_type": "code",
      "source": [
        "from google.colab import drive\n",
        "drive.mount('/content/drive')"
      ],
      "metadata": {
        "colab": {
          "base_uri": "https://localhost:8080/"
        },
        "id": "USLf29kdfjLD",
        "outputId": "9d0fc5b9-6068-4bcf-b01e-72deb5c17c8a"
      },
      "execution_count": 3,
      "outputs": [
        {
          "output_type": "stream",
          "name": "stdout",
          "text": [
            "Drive already mounted at /content/drive; to attempt to forcibly remount, call drive.mount(\"/content/drive\", force_remount=True).\n"
          ]
        }
      ]
    },
    {
      "cell_type": "code",
      "source": [
        "import os\n",
        "import numpy as np\n",
        "import pandas as pd\n",
        "from sklearn.metrics import roc_auc_score\n",
        "from sklearn.preprocessing import LabelEncoder\n",
        "from matplotlib import pyplot as plt\n",
        "\n",
        "import torch\n",
        "import torch.nn as nn\n",
        "from pytorch_tabnet.tab_model import TabNetClassifier"
      ],
      "metadata": {
        "id": "xaBTPFPWd-wP"
      },
      "execution_count": 4,
      "outputs": []
    },
    {
      "cell_type": "code",
      "source": [
        "train = pd.read_csv(\"/content/drive/MyDrive/TabNet/census-income.data.gz\",header = None)\n"
      ],
      "metadata": {
        "id": "Z6e3Mi87e0vE"
      },
      "execution_count": 5,
      "outputs": []
    },
    {
      "cell_type": "code",
      "source": [
        "target = 41 # 41번째 소득에 해당하는 칼럼이 있다.\n",
        "if \"Set\" not in train.columns: #데이터셋에서 Set으로 나누어져 있지 않으면 직접 나눈다.\n",
        "    train[\"Set\"] = np.random.choice([\"train\",\"valid\",\"test\"],p=[.8, .1, .1], size = (train.shape[0],)) #size가 얼마일까?\n",
        "\n",
        "train_indices = train[train.Set==\"train\"].index #0부터 시작하는 integer index 성질을 부여한다.\n",
        "valid_indices = train[train.Set==\"valid\"].index\n",
        "test_indices = train[train.Set == \"test\"].index"
      ],
      "metadata": {
        "id": "plW5IVqgf-bX"
      },
      "execution_count": 6,
      "outputs": []
    },
    {
      "cell_type": "markdown",
      "source": [
        "unique()는 고유값의 종류(이름)을 알게 해주고\n",
        "nunique()는 고유값의 수를 출력해준다.\n"
      ],
      "metadata": {
        "id": "jPDOpfwFi129"
      }
    },
    {
      "cell_type": "code",
      "source": [
        "nunique = train.nunique() #unique(?)한 값이 200개 이하이면 Categorical 변수로 치환\n",
        "types = train.dtypes     #200개 이상이면 Numerical로 판단하여 Null value를 평균값으로 대체한다.\n",
        "\n",
        "categorical_columns = []\n",
        "categorical_dims = {}\n",
        "for col in train.columns:\n",
        "    if types[col]=='object' or nunique[col] < 200: #object이면 카테고리컬로 치환한다.\n",
        "        print(f\"col: {col}, unique:{train[col].unique()}\")\n",
        "        l_enc = LabelEncoder()\n",
        "        train[col] = train[col].fillna(\"wonjae\") #오브젝트 결측치는 문자열로 채워\n",
        "        train[col] = l_enc.fit_transform(train[col].values)\n",
        "        categorical_columns.append(col)\n",
        "        categorical_dims[col] = len(l_enc.classes_)\n",
        "    else:\n",
        "        train.fillna(train.loc[train_indices, col].mean(), inplace = True) #수치화 Null 값에 대해서는 해당 열의 numerical 변수들의 평균을 입력 시켜준다.\n",
        "#   데이터 프레임에서 loc는 인덱스 기준, iloc은 adress 기준으로 나열한다.\n",
        "\n",
        "unused_feat = ['Set']\n",
        "features = [col for col in train.columns if col not in unused_feat+[target]] #Set과 소득 칼럼을 제외하고 사용할 피쳐로 만든다.\n",
        "cat_idxs = [i for i, f in enumerate(features) if f in categorical_columns] # 이 쪽 파트 잘 이해가 안 되니 다시 확인!!!!!!!!!!! 22.03.03\n",
        "cat_dims = [categorical_dims[f] for i, f in enumerate(features) if f in categorical_columns] # 학습 할 column 중에 카테고리 칼럼의 차원으로 리스트를 형성\n",
        "\n",
        "X_train = train[features].values[train_indices]\n",
        "y_train = train[target].values[train_indices]\n",
        "\n",
        "X_valid = train[features].values[valid_indices]\n",
        "y_valid = train[target].values[valid_indices]\n",
        "\n",
        "X_test = train[features].values[test_indices]\n",
        "y_test = train[target].values[test_indices]"
      ],
      "metadata": {
        "colab": {
          "base_uri": "https://localhost:8080/"
        },
        "id": "7m77MAvugpMh",
        "outputId": "b2b9f278-7bf9-4865-8ba8-b14c9b48dca7"
      },
      "execution_count": 7,
      "outputs": [
        {
          "output_type": "stream",
          "name": "stdout",
          "text": [
            "col: 0, unique:[73 58 18  9 10 48 42 28 47 34  8 32 51 46 26 13 39 16 35 12 27 56 55  2\n",
            "  1 37  4 63 25 81 11 30  7 66 84 52  5 36 72 61 41 90 49  6  0 33 57 50\n",
            " 24 17 53 40 54 22 29 85 38 76 21 31 74 19 15  3 43 68 71 45 62 23 69 75\n",
            " 44 59 60 64 65 70 67 78 20 14 83 86 89 77 79 82 80 87 88]\n",
            "col: 1, unique:[' Not in universe' ' Self-employed-not incorporated' ' Private'\n",
            " ' Local government' ' Federal government' ' Self-employed-incorporated'\n",
            " ' State government' ' Never worked' ' Without pay']\n",
            "col: 2, unique:[ 0  4 40 34 43 37 24 39 12 35 45  3 19 29 32 48 33 23 44 36 31 30 41  5\n",
            " 11  9 42  6 18 50  2  1 26 47 16 14 22 17  7  8 25 46 27 15 13 49 38 21\n",
            " 28 20 51 10]\n",
            "col: 3, unique:[ 0 34 10  3 40 26 37 31 12 36 41 22  2 35 25 23 42  8 19 29 27 16 33 13\n",
            " 18  9 17 39 32 11 30 38 20  7 21 44 24 43 28  4  1  6 45 14  5 15 46]\n",
            "col: 4, unique:[' High school graduate' ' Some college but no degree' ' 10th grade'\n",
            " ' Children' ' Bachelors degree(BA AB BS)'\n",
            " ' Masters degree(MA MS MEng MEd MSW MBA)' ' Less than 1st grade'\n",
            " ' Associates degree-academic program' ' 7th and 8th grade'\n",
            " ' 12th grade no diploma' ' Associates degree-occup /vocational'\n",
            " ' Prof school degree (MD DDS DVM LLB JD)' ' 5th or 6th grade'\n",
            " ' 11th grade' ' Doctorate degree(PhD EdD)' ' 9th grade'\n",
            " ' 1st 2nd 3rd or 4th grade']\n",
            "col: 6, unique:[' Not in universe' ' High school' ' College or university']\n",
            "col: 7, unique:[' Widowed' ' Divorced' ' Never married'\n",
            " ' Married-civilian spouse present' ' Separated' ' Married-spouse absent'\n",
            " ' Married-A F spouse present']\n",
            "col: 8, unique:[' Not in universe or children' ' Construction' ' Entertainment'\n",
            " ' Finance insurance and real estate' ' Education'\n",
            " ' Business and repair services' ' Manufacturing-nondurable goods'\n",
            " ' Personal services except private HH' ' Manufacturing-durable goods'\n",
            " ' Other professional services' ' Mining' ' Transportation'\n",
            " ' Wholesale trade' ' Public administration' ' Retail trade'\n",
            " ' Social services' ' Private household services'\n",
            " ' Utilities and sanitary services' ' Communications' ' Hospital services'\n",
            " ' Medical except hospital' ' Agriculture' ' Forestry and fisheries'\n",
            " ' Armed Forces']\n",
            "col: 9, unique:[' Not in universe' ' Precision production craft & repair'\n",
            " ' Professional specialty' ' Executive admin and managerial'\n",
            " ' Handlers equip cleaners etc ' ' Adm support including clerical'\n",
            " ' Machine operators assmblrs & inspctrs' ' Other service' ' Sales'\n",
            " ' Private household services' ' Technicians and related support'\n",
            " ' Transportation and material moving' ' Farming forestry and fishing'\n",
            " ' Protective services' ' Armed Forces']\n",
            "col: 10, unique:[' White' ' Asian or Pacific Islander' ' Amer Indian Aleut or Eskimo'\n",
            " ' Black' ' Other']\n",
            "col: 11, unique:[' All other' ' Do not know' ' Central or South American'\n",
            " ' Mexican (Mexicano)' ' Mexican-American' ' Other Spanish'\n",
            " ' Puerto Rican' ' Cuban' ' Chicano' ' NA']\n",
            "col: 12, unique:[' Female' ' Male']\n",
            "col: 13, unique:[' Not in universe' ' No' ' Yes']\n",
            "col: 14, unique:[' Not in universe' ' Job loser - on layoff' ' Other job loser'\n",
            " ' New entrant' ' Re-entrant' ' Job leaver']\n",
            "col: 15, unique:[' Not in labor force' ' Children or Armed Forces' ' Full-time schedules'\n",
            " ' Unemployed full-time' ' Unemployed part- time'\n",
            " ' PT for non-econ reasons usually FT' ' PT for econ reasons usually PT'\n",
            " ' PT for econ reasons usually FT']\n",
            "col: 16, unique:[    0  5178   991  2829  3464  5556  7298 15024  1831  3137 10605 20051\n",
            "  2538  3908  2407  2050  3103  1086  7688  5013  4386  2414 99999 13550\n",
            "  2174  4650  4064   914  2354  4787  2009  2597  1055  6097  2635  2105\n",
            "  3325  6767  2228  2062  3942 27828  9562  2176  7262  2202  2290  1173\n",
            "  8614  2329  2653  7430  3456  2580 10520  2907  3471  2885  9386  2993\n",
            "  7896 14084  3818  1409   594  7978  1797  2964  4934  1848  4101  3418\n",
            "  3432  2774  1424  6849  4687  6418  4508  3674  3411  2936  4416  2346\n",
            " 10566  7443  5455  1151 25236  2463  1455  3781 14344  4865 11678  1471\n",
            "  5060   114  4931  1506   401 25124 15020  2036  3273  6514  1111  2977\n",
            " 41310 18481  6497  6723 15831  2098  1264 34095 22040  3887  2961  5721\n",
            "  1090  6360  3800  2387  1731  6612  9472  4594  2601  1140  2227  8530]\n",
            "col: 17, unique:[   0 1590 1977 1669 1719 2444 1421 1848 2205 2149 2001 1902 2090 1573\n",
            " 2415 2377 1876 1602 1740 1974 2339 1887 1258 2597 2603 1408 1980 1721\n",
            " 1816 1340 2788 2174 2042 1485 2489 2129 2457 2051 1762 2057 1672 2258\n",
            "  213 1651 2206 3770 1628 1564 1668 1735 1579  625 4608 2559 2246 4356\n",
            " 1844 2002 2267 3175 1380 2392 1092 1504 2238 2704 2467  810 1539 2824\n",
            " 1741 1870 1944 1825  419 2547 1510  880 1617 1411 1648  323 2282 2352\n",
            " 3004 1755 1429  653 2163 2179 1436 2722 3500 1640  974 1021 2754 1726\n",
            " 3900 2027  772 2231 1138 1594 2465 2519 1956 1911 2472 2201 2080 3683\n",
            "  155]\n",
            "col: 19, unique:[' Nonfiler' ' Head of household' ' Joint both under 65' ' Single'\n",
            " ' Joint both 65+' ' Joint one under 65 & one 65+']\n",
            "col: 20, unique:[' Not in universe' ' South' ' Northeast' ' Midwest' ' West' ' Abroad']\n",
            "col: 21, unique:[' Not in universe' ' Arkansas' ' Utah' ' Michigan' ' Minnesota' ' Alaska'\n",
            " ' Kansas' ' Indiana' ' ?' ' Massachusetts' ' New Mexico' ' Nevada'\n",
            " ' Tennessee' ' Colorado' ' Abroad' ' Kentucky' ' California' ' Arizona'\n",
            " ' North Carolina' ' Connecticut' ' Florida' ' Vermont' ' Maryland'\n",
            " ' Oklahoma' ' Oregon' ' Ohio' ' South Carolina' ' Texas' ' Montana'\n",
            " ' Wyoming' ' Georgia' ' Pennsylvania' ' Iowa' ' New Hampshire'\n",
            " ' Missouri' ' Alabama' ' North Dakota' ' New Jersey' ' Louisiana'\n",
            " ' West Virginia' ' Delaware' ' Illinois' ' Maine' ' Wisconsin'\n",
            " ' New York' ' Idaho' ' District of Columbia' ' South Dakota' ' Nebraska'\n",
            " ' Virginia' ' Mississippi']\n",
            "col: 22, unique:[' Other Rel 18+ ever marr not in subfamily' ' Householder'\n",
            " ' Child 18+ never marr Not in a subfamily'\n",
            " ' Child <18 never marr not in subfamily' ' Spouse of householder'\n",
            " ' Secondary individual' ' Other Rel 18+ never marr not in subfamily'\n",
            " ' Nonfamily householder' ' Grandchild <18 never marr not in subfamily'\n",
            " ' Grandchild <18 never marr child of subfamily RP'\n",
            " ' Child 18+ ever marr Not in a subfamily'\n",
            " ' Child 18+ never marr RP of subfamily'\n",
            " ' Child 18+ spouse of subfamily RP'\n",
            " ' Other Rel <18 never marr child of subfamily RP'\n",
            " ' Child under 18 of RP of unrel subfamily'\n",
            " ' Grandchild 18+ never marr not in subfamily'\n",
            " ' Child 18+ ever marr RP of subfamily'\n",
            " ' Other Rel 18+ ever marr RP of subfamily' ' RP of unrelated subfamily'\n",
            " ' Other Rel 18+ spouse of subfamily RP'\n",
            " ' Other Rel <18 never marr not in subfamily'\n",
            " ' Other Rel <18 spouse of subfamily RP' ' In group quarters'\n",
            " ' Grandchild 18+ spouse of subfamily RP'\n",
            " ' Other Rel 18+ never marr RP of subfamily'\n",
            " ' Child <18 never marr RP of subfamily'\n",
            " ' Child <18 ever marr not in subfamily'\n",
            " ' Other Rel <18 ever marr RP of subfamily'\n",
            " ' Grandchild 18+ ever marr not in subfamily'\n",
            " ' Child <18 spouse of subfamily RP'\n",
            " ' Spouse of RP of unrelated subfamily'\n",
            " ' Other Rel <18 never married RP of subfamily'\n",
            " ' Grandchild 18+ never marr RP of subfamily'\n",
            " ' Grandchild 18+ ever marr RP of subfamily'\n",
            " ' Child <18 ever marr RP of subfamily'\n",
            " ' Other Rel <18 ever marr not in subfamily'\n",
            " ' Grandchild <18 never marr RP of subfamily'\n",
            " ' Grandchild <18 ever marr not in subfamily']\n",
            "col: 23, unique:[' Other relative of householder' ' Householder' ' Child 18 or older'\n",
            " ' Child under 18 never married' ' Spouse of householder'\n",
            " ' Nonrelative of householder' ' Group Quarters- Secondary individual'\n",
            " ' Child under 18 ever married']\n",
            "col: 25, unique:[' ?' ' MSA to MSA' ' Nonmover' ' NonMSA to nonMSA' ' Not in universe'\n",
            " ' Not identifiable' ' Abroad to MSA' ' MSA to nonMSA' ' Abroad to nonMSA'\n",
            " ' NonMSA to MSA']\n",
            "col: 26, unique:[' ?' ' Same county' ' Nonmover' ' Different region'\n",
            " ' Different county same state' ' Not in universe'\n",
            " ' Different division same region' ' Abroad'\n",
            " ' Different state same division']\n",
            "col: 27, unique:[' ?' ' Same county' ' Nonmover' ' Different state in South'\n",
            " ' Different county same state' ' Not in universe'\n",
            " ' Different state in Northeast' ' Abroad' ' Different state in Midwest'\n",
            " ' Different state in West']\n",
            "col: 28, unique:[' Not in universe under 1 year old' ' No' ' Yes']\n",
            "col: 29, unique:[' ?' ' Yes' ' Not in universe' ' No']\n",
            "col: 30, unique:[0 1 6 4 5 3 2]\n",
            "col: 31, unique:[' Not in universe' ' Both parents present' ' Mother only present'\n",
            " ' Neither parent present' ' Father only present']\n",
            "col: 32, unique:[' United-States' ' Vietnam' ' Philippines' ' ?' ' Columbia' ' Germany'\n",
            " ' Mexico' ' Japan' ' Peru' ' Dominican-Republic' ' South Korea' ' Cuba'\n",
            " ' El-Salvador' ' Canada' ' Scotland' ' Outlying-U S (Guam USVI etc)'\n",
            " ' Italy' ' Guatemala' ' Ecuador' ' Puerto-Rico' ' Cambodia' ' China'\n",
            " ' Poland' ' Nicaragua' ' Taiwan' ' England' ' Ireland' ' Hungary'\n",
            " ' Yugoslavia' ' Trinadad&Tobago' ' Jamaica' ' Honduras' ' Portugal'\n",
            " ' Iran' ' France' ' India' ' Hong Kong' ' Haiti' ' Greece'\n",
            " ' Holand-Netherlands' ' Thailand' ' Laos' ' Panama']\n",
            "col: 33, unique:[' United-States' ' Vietnam' ' ?' ' Columbia' ' Mexico' ' El-Salvador'\n",
            " ' Peru' ' Puerto-Rico' ' Cuba' ' Philippines' ' Dominican-Republic'\n",
            " ' Germany' ' England' ' Guatemala' ' Scotland' ' Portugal' ' Italy'\n",
            " ' Ecuador' ' Yugoslavia' ' China' ' Poland' ' Hungary' ' Nicaragua'\n",
            " ' Taiwan' ' Ireland' ' Canada' ' South Korea' ' Trinadad&Tobago'\n",
            " ' Jamaica' ' Honduras' ' Iran' ' France' ' Cambodia' ' India'\n",
            " ' Hong Kong' ' Haiti' ' Japan' ' Greece' ' Holand-Netherlands'\n",
            " ' Thailand' ' Panama' ' Laos' ' Outlying-U S (Guam USVI etc)']\n",
            "col: 34, unique:[' United-States' ' Vietnam' ' ?' ' Columbia' ' Mexico' ' Peru' ' Cuba'\n",
            " ' Philippines' ' Dominican-Republic' ' El-Salvador' ' Canada' ' Scotland'\n",
            " ' Portugal' ' Guatemala' ' Ecuador' ' Germany'\n",
            " ' Outlying-U S (Guam USVI etc)' ' Puerto-Rico' ' Italy' ' China'\n",
            " ' Poland' ' Nicaragua' ' Taiwan' ' England' ' Ireland' ' South Korea'\n",
            " ' Trinadad&Tobago' ' Jamaica' ' Honduras' ' Iran' ' Hungary' ' France'\n",
            " ' Cambodia' ' India' ' Hong Kong' ' Japan' ' Haiti' ' Holand-Netherlands'\n",
            " ' Greece' ' Thailand' ' Panama' ' Yugoslavia' ' Laos']\n",
            "col: 35, unique:[' Native- Born in the United States'\n",
            " ' Foreign born- Not a citizen of U S '\n",
            " ' Foreign born- U S citizen by naturalization'\n",
            " ' Native- Born abroad of American Parent(s)'\n",
            " ' Native- Born in Puerto Rico or U S Outlying']\n",
            "col: 36, unique:[0 2 1]\n",
            "col: 37, unique:[' Not in universe' ' No' ' Yes']\n",
            "col: 38, unique:[2 0 1]\n",
            "col: 39, unique:[ 0 52 30 49 32 15 38 48  9 24 50 10 45 43  4 26 40 20  6 12 51  1  8 39\n",
            " 13 16 34 14 36 44 22 41 46 28 23 35 25 17 11 37  5 42 29  2 21 19 47  3\n",
            " 27  7 18 33 31]\n",
            "col: 40, unique:[95 94]\n",
            "col: 41, unique:[' - 50000.' ' 50000+.']\n",
            "col: Set, unique:['train' 'valid' 'test']\n"
          ]
        }
      ]
    },
    {
      "cell_type": "markdown",
      "source": [
        "그리고 논문리뷰에서 설명했듯이 TabNet은 입력으로 Categorical변수를 Embedding 하기 때문에, Categorical 변수라는 것을 지정해주어야 합니다. 따라서, cat_idxs와 cat_dims를 저장해둡니다."
      ],
      "metadata": {
        "id": "NFYAt6TkAEIi"
      }
    },
    {
      "cell_type": "code",
      "source": [
        "clf = TabNetClassifier(cat_idxs = cat_idxs,\n",
        "                       cat_dims = cat_dims,\n",
        "                       cat_emb_dim = 10,\n",
        "                       optimizer_fn = torch.optim.Adam,\n",
        "                       optimizer_params = dict(lr=1e-2),\n",
        "                       scheduler_params = {\"step_size\":50,\n",
        "                                           \"gamma\":0.9},\n",
        "                       scheduler_fn = torch.optim.lr_scheduler.StepLR,\n",
        "                       mask_type = 'sparsemax' \n",
        "                       )"
      ],
      "metadata": {
        "colab": {
          "base_uri": "https://localhost:8080/"
        },
        "id": "xeu5KFz9AFzK",
        "outputId": "07dc92e5-32a4-4e11-d669-07ba036134ae"
      },
      "execution_count": 8,
      "outputs": [
        {
          "output_type": "stream",
          "name": "stdout",
          "text": [
            "Device used : cuda\n"
          ]
        }
      ]
    },
    {
      "cell_type": "code",
      "source": [
        "max_epochs = 15\n",
        "\n",
        "clf.fit(\n",
        "    X_train = X_train,\n",
        "    y_train = y_train,\n",
        "    eval_set = [(X_train, y_train), (X_valid, y_valid)],\n",
        "    eval_metric=['auc'],\n",
        "    max_epochs = max_epochs,\n",
        "    patience = 20,\n",
        "    batch_size = 1024,\n",
        "    virtual_batch_size = 128,\n",
        "    num_workers = 0,\n",
        "    weights = 1,\n",
        "    drop_last = False,\n",
        ")"
      ],
      "metadata": {
        "colab": {
          "base_uri": "https://localhost:8080/"
        },
        "id": "bHykX5H2AlXq",
        "outputId": "fa2a49b7-c798-4b53-b314-5b8efa7fc6eb"
      },
      "execution_count": 9,
      "outputs": [
        {
          "output_type": "stream",
          "name": "stdout",
          "text": [
            "epoch 0  | loss: 0.51595 | val_0_auc: 0.89212 | val_1_auc: 0.88635 |  0:00:11s\n",
            "epoch 1  | loss: 0.39282 | val_0_auc: 0.91093 | val_1_auc: 0.90693 |  0:00:22s\n",
            "epoch 2  | loss: 0.36907 | val_0_auc: 0.921   | val_1_auc: 0.91446 |  0:00:33s\n",
            "epoch 3  | loss: 0.34468 | val_0_auc: 0.9329  | val_1_auc: 0.9257  |  0:00:44s\n",
            "epoch 4  | loss: 0.32155 | val_0_auc: 0.942   | val_1_auc: 0.93286 |  0:00:56s\n",
            "epoch 5  | loss: 0.30019 | val_0_auc: 0.94835 | val_1_auc: 0.93874 |  0:01:07s\n",
            "epoch 6  | loss: 0.28588 | val_0_auc: 0.95301 | val_1_auc: 0.94054 |  0:01:18s\n",
            "epoch 7  | loss: 0.27989 | val_0_auc: 0.95393 | val_1_auc: 0.94167 |  0:01:29s\n",
            "epoch 8  | loss: 0.27203 | val_0_auc: 0.9574  | val_1_auc: 0.94487 |  0:01:40s\n",
            "epoch 9  | loss: 0.2633  | val_0_auc: 0.95881 | val_1_auc: 0.94242 |  0:01:51s\n",
            "epoch 10 | loss: 0.26285 | val_0_auc: 0.96049 | val_1_auc: 0.94345 |  0:02:03s\n",
            "epoch 11 | loss: 0.25768 | val_0_auc: 0.96192 | val_1_auc: 0.9423  |  0:02:15s\n",
            "epoch 12 | loss: 0.25195 | val_0_auc: 0.96215 | val_1_auc: 0.93982 |  0:02:26s\n",
            "epoch 13 | loss: 0.24539 | val_0_auc: 0.9649  | val_1_auc: 0.94254 |  0:02:37s\n",
            "epoch 14 | loss: 0.23721 | val_0_auc: 0.96578 | val_1_auc: 0.94173 |  0:02:49s\n",
            "Stop training because you reached max_epochs = 15 with best_epoch = 8 and best_val_1_auc = 0.94487\n",
            "Best weights from best epoch are automatically used!\n"
          ]
        }
      ]
    },
    {
      "cell_type": "code",
      "source": [
        ""
      ],
      "metadata": {
        "id": "Zn_CXgijChP8"
      },
      "execution_count": null,
      "outputs": []
    },
    {
      "cell_type": "code",
      "source": [
        "preds = clf.predict_proba(X_test)\n",
        "positive_test_auc = roc_auc_score(y_score = preds[:,1], y_true=y_test) # preds의 두 번째 열은 Positive, 첫 번째 열은 Negative이다.\n",
        "negative_test_auc = roc_auc_score(y_score = preds[:,0], y_true=y_test)"
      ],
      "metadata": {
        "id": "418vb7K7_tc0"
      },
      "execution_count": 32,
      "outputs": []
    },
    {
      "cell_type": "code",
      "source": [
        "positive_test_auc"
      ],
      "metadata": {
        "colab": {
          "base_uri": "https://localhost:8080/"
        },
        "id": "OdFGqFZGEZUC",
        "outputId": "7dbb7c71-5038-42a0-a198-563a367d7f08"
      },
      "execution_count": 33,
      "outputs": [
        {
          "output_type": "execute_result",
          "data": {
            "text/plain": [
              "0.952438662016363"
            ]
          },
          "metadata": {},
          "execution_count": 33
        }
      ]
    },
    {
      "cell_type": "code",
      "source": [
        "negative_test_auc"
      ],
      "metadata": {
        "colab": {
          "base_uri": "https://localhost:8080/"
        },
        "id": "d2TQNQhXEaGC",
        "outputId": "69293520-60c7-4e0a-cce1-905f7b408b1a"
      },
      "execution_count": 34,
      "outputs": [
        {
          "output_type": "execute_result",
          "data": {
            "text/plain": [
              "0.04756133798363704"
            ]
          },
          "metadata": {},
          "execution_count": 34
        }
      ]
    },
    {
      "cell_type": "markdown",
      "source": [
        "# 샘플 전체에 대한 변수 중요도 시각화"
      ],
      "metadata": {
        "id": "fXoXrAioE-Gx"
      }
    },
    {
      "cell_type": "code",
      "source": [
        "explain_matrix , masks = clf.explain(X_test)\n"
      ],
      "metadata": {
        "id": "cgUUeu3WEe5q"
      },
      "execution_count": 40,
      "outputs": []
    },
    {
      "cell_type": "code",
      "source": [
        "fig, axs = plt.subplots(1, 3, figsize = (20,20))\n",
        "for i in range(3):\n",
        "    axs[i].imshow(masks[i][:50])\n",
        "    axs[i].set_title(f\"mask{i}\")\n",
        "\n",
        "# 0번 샘플은 31번 변수. 1번 샘플은 16번 변수, 2번 샘플은 39번 변수가 영향을 많이 미친 것으로 판별 됬다."
      ],
      "metadata": {
        "colab": {
          "base_uri": "https://localhost:8080/",
          "height": 288
        },
        "id": "nU_YqOlPFDBJ",
        "outputId": "89b877cf-6b02-4c4c-acff-d3cd568168b3"
      },
      "execution_count": 39,
      "outputs": [
        {
          "output_type": "display_data",
          "data": {
            "image/png": "[encoded data removed]",
            "text/plain": [
              "<Figure size 1440x1440 with 3 Axes>"
            ]
          },
          "metadata": {
            "needs_background": "light"
          }
        }
      ]
    },
    {
      "cell_type": "code",
      "source": [
        "preds"
      ],
      "metadata": {
        "colab": {
          "base_uri": "https://localhost:8080/"
        },
        "id": "27eWGkslCv28",
        "outputId": "57c27e54-b249-4d5c-f96b-a50659716e33"
      },
      "execution_count": 15,
      "outputs": [
        {
          "output_type": "execute_result",
          "data": {
            "text/plain": [
              "array([[0.08979011, 0.9102099 ],\n",
              "       [0.9949673 , 0.00503277],\n",
              "       [0.8602526 , 0.13974737],\n",
              "       ...,\n",
              "       [0.91077524, 0.08922476],\n",
              "       [0.06766896, 0.9323311 ],\n",
              "       [0.928142  , 0.07185797]], dtype=float32)"
            ]
          },
          "metadata": {},
          "execution_count": 15
        }
      ]
    },
    {
      "cell_type": "code",
      "source": [
        "preds[:,0]"
      ],
      "metadata": {
        "colab": {
          "base_uri": "https://localhost:8080/"
        },
        "id": "1EWOBW45Cw5U",
        "outputId": "b55e54f4-d728-4722-feff-2e122a0fc66a"
      },
      "execution_count": 26,
      "outputs": [
        {
          "output_type": "execute_result",
          "data": {
            "text/plain": [
              "array([0.08979011, 0.9949673 , 0.8602526 , ..., 0.91077524, 0.06766896,\n",
              "       0.928142  ], dtype=float32)"
            ]
          },
          "metadata": {},
          "execution_count": 26
        }
      ]
    },
    {
      "cell_type": "code",
      "source": [
        "preds[:,1]"
      ],
      "metadata": {
        "colab": {
          "base_uri": "https://localhost:8080/"
        },
        "id": "j8T3j_O8C-nl",
        "outputId": "a0d4d029-d859-43c3-8c90-66ed90dab11c"
      },
      "execution_count": 27,
      "outputs": [
        {
          "output_type": "execute_result",
          "data": {
            "text/plain": [
              "array([0.9102099 , 0.00503277, 0.13974737, ..., 0.08922476, 0.9323311 ,\n",
              "       0.07185797], dtype=float32)"
            ]
          },
          "metadata": {},
          "execution_count": 27
        }
      ]
    },
    {
      "cell_type": "code",
      "source": [
        "print(test_auc)"
      ],
      "metadata": {
        "colab": {
          "base_uri": "https://localhost:8080/"
        },
        "id": "yZRaEhCVCuOd",
        "outputId": "4af5e4e6-ee8e-4b45-c845-89eea3c7c6c5"
      },
      "execution_count": 31,
      "outputs": [
        {
          "output_type": "stream",
          "name": "stdout",
          "text": [
            "0.952438662016363\n"
          ]
        }
      ]
    },
    {
      "cell_type": "code",
      "source": [
        ""
      ],
      "metadata": {
        "id": "-fvL3v1fEJHz"
      },
      "execution_count": null,
      "outputs": []
    },
    {
      "cell_type": "markdown",
      "source": [
        ""
      ],
      "metadata": {
        "id": "mXGVnHvvCmL1"
      }
    },
    {
      "cell_type": "code",
      "source": [
        "categorical_columns"
      ],
      "metadata": {
        "colab": {
          "base_uri": "https://localhost:8080/"
        },
        "id": "QlbGRGNIvVKb",
        "outputId": "d98fab89-78fa-45a0-b060-c572a5b9fa5b"
      },
      "execution_count": 43,
      "outputs": [
        {
          "output_type": "execute_result",
          "data": {
            "text/plain": [
              "[0,\n",
              " 1,\n",
              " 2,\n",
              " 3,\n",
              " 4,\n",
              " 6,\n",
              " 7,\n",
              " 8,\n",
              " 9,\n",
              " 10,\n",
              " 11,\n",
              " 12,\n",
              " 13,\n",
              " 14,\n",
              " 15,\n",
              " 16,\n",
              " 17,\n",
              " 19,\n",
              " 20,\n",
              " 21,\n",
              " 22,\n",
              " 23,\n",
              " 25,\n",
              " 26,\n",
              " 27,\n",
              " 28,\n",
              " 29,\n",
              " 30,\n",
              " 31,\n",
              " 32,\n",
              " 33,\n",
              " 34,\n",
              " 35,\n",
              " 36,\n",
              " 37,\n",
              " 38,\n",
              " 39,\n",
              " 40,\n",
              " 41,\n",
              " 'Set']"
            ]
          },
          "metadata": {},
          "execution_count": 43
        }
      ]
    },
    {
      "cell_type": "code",
      "source": [
        "print(categorical_columns)"
      ],
      "metadata": {
        "colab": {
          "base_uri": "https://localhost:8080/"
        },
        "id": "y8GhC28MvAHE",
        "outputId": "aea27f6e-5a2c-4021-e39c-1ded698f89a7"
      },
      "execution_count": 44,
      "outputs": [
        {
          "output_type": "stream",
          "name": "stdout",
          "text": [
            "[0, 1, 2, 3, 4, 6, 7, 8, 9, 10, 11, 12, 13, 14, 15, 16, 17, 19, 20, 21, 22, 23, 25, 26, 27, 28, 29, 30, 31, 32, 33, 34, 35, 36, 37, 38, 39, 40, 41, 'Set']\n"
          ]
        }
      ]
    },
    {
      "cell_type": "code",
      "source": [
        "cat_idxs"
      ],
      "metadata": {
        "colab": {
          "base_uri": "https://localhost:8080/"
        },
        "id": "YaaMlTvbvJE0",
        "outputId": "7439ad14-b8d1-402f-f7f8-ce427cea17d4"
      },
      "execution_count": 45,
      "outputs": [
        {
          "output_type": "execute_result",
          "data": {
            "text/plain": [
              "[0,\n",
              " 1,\n",
              " 2,\n",
              " 3,\n",
              " 4,\n",
              " 6,\n",
              " 7,\n",
              " 8,\n",
              " 9,\n",
              " 10,\n",
              " 11,\n",
              " 12,\n",
              " 13,\n",
              " 14,\n",
              " 15,\n",
              " 16,\n",
              " 17,\n",
              " 19,\n",
              " 20,\n",
              " 21,\n",
              " 22,\n",
              " 23,\n",
              " 25,\n",
              " 26,\n",
              " 27,\n",
              " 28,\n",
              " 29,\n",
              " 30,\n",
              " 31,\n",
              " 32,\n",
              " 33,\n",
              " 34,\n",
              " 35,\n",
              " 36,\n",
              " 37,\n",
              " 38,\n",
              " 39,\n",
              " 40]"
            ]
          },
          "metadata": {},
          "execution_count": 45
        }
      ]
    },
    {
      "cell_type": "code",
      "source": [
        ""
      ],
      "metadata": {
        "id": "JKziie2FvB26"
      },
      "execution_count": 45,
      "outputs": []
    },
    {
      "cell_type": "code",
      "source": [
        "unused_feat+[target]"
      ],
      "metadata": {
        "colab": {
          "base_uri": "https://localhost:8080/"
        },
        "id": "6qGs8YFWs_HA",
        "outputId": "d2104fde-69e5-45db-cc8d-1028fd4f943d"
      },
      "execution_count": 46,
      "outputs": [
        {
          "output_type": "execute_result",
          "data": {
            "text/plain": [
              "['Set', 41]"
            ]
          },
          "metadata": {},
          "execution_count": 46
        }
      ]
    },
    {
      "cell_type": "code",
      "source": [
        "print(train.columns)"
      ],
      "metadata": {
        "colab": {
          "base_uri": "https://localhost:8080/"
        },
        "id": "l43AjT9KsMgy",
        "outputId": "75e6e545-7548-4112-ab18-3799b345a4d1"
      },
      "execution_count": 47,
      "outputs": [
        {
          "output_type": "stream",
          "name": "stdout",
          "text": [
            "Index([    0,     1,     2,     3,     4,     5,     6,     7,     8,     9,\n",
            "          10,    11,    12,    13,    14,    15,    16,    17,    18,    19,\n",
            "          20,    21,    22,    23,    24,    25,    26,    27,    28,    29,\n",
            "          30,    31,    32,    33,    34,    35,    36,    37,    38,    39,\n",
            "          40,    41, 'Set'],\n",
            "      dtype='object')\n"
          ]
        }
      ]
    },
    {
      "cell_type": "code",
      "source": [
        "persons = [\n",
        "    ['egoing','Seoul','Web'],\n",
        "    ['basta','Seoul','IOT'],\n",
        "    ['blackdew','Tongyeong','ML'],\n",
        "]\n",
        "\n",
        "print(persons[0][0],'\\n')\n",
        "\n",
        "print(len(persons),'\\n')\n",
        "\n",
        "for i, (person) in enumerate(persons):\n",
        "    print(i, person[0]+' '+person[1]+' '+person[2])\n",
        "\n"
      ],
      "metadata": {
        "colab": {
          "base_uri": "https://localhost:8080/"
        },
        "id": "NF3j1armrVjz",
        "outputId": "eb80db75-d829-4ab8-ee86-754cf91d3c37"
      },
      "execution_count": 48,
      "outputs": [
        {
          "output_type": "stream",
          "name": "stdout",
          "text": [
            "egoing \n",
            "\n",
            "3 \n",
            "\n",
            "0 egoing Seoul Web\n",
            "1 basta Seoul IOT\n",
            "2 blackdew Tongyeong ML\n"
          ]
        }
      ]
    },
    {
      "cell_type": "code",
      "source": [
        "train.columns"
      ],
      "metadata": {
        "colab": {
          "base_uri": "https://localhost:8080/"
        },
        "id": "i8fdgzGoqmft",
        "outputId": "cad6d428-5413-405d-cb17-211eab224842"
      },
      "execution_count": 49,
      "outputs": [
        {
          "output_type": "execute_result",
          "data": {
            "text/plain": [
              "Index([    0,     1,     2,     3,     4,     5,     6,     7,     8,     9,\n",
              "          10,    11,    12,    13,    14,    15,    16,    17,    18,    19,\n",
              "          20,    21,    22,    23,    24,    25,    26,    27,    28,    29,\n",
              "          30,    31,    32,    33,    34,    35,    36,    37,    38,    39,\n",
              "          40,    41, 'Set'],\n",
              "      dtype='object')"
            ]
          },
          "metadata": {},
          "execution_count": 49
        }
      ]
    },
    {
      "cell_type": "code",
      "source": [
        "features"
      ],
      "metadata": {
        "colab": {
          "base_uri": "https://localhost:8080/"
        },
        "id": "yP3_3H9pqdmu",
        "outputId": "aa185035-43cd-4bd8-9dcb-c24a966282db"
      },
      "execution_count": 50,
      "outputs": [
        {
          "output_type": "execute_result",
          "data": {
            "text/plain": [
              "[0,\n",
              " 1,\n",
              " 2,\n",
              " 3,\n",
              " 4,\n",
              " 5,\n",
              " 6,\n",
              " 7,\n",
              " 8,\n",
              " 9,\n",
              " 10,\n",
              " 11,\n",
              " 12,\n",
              " 13,\n",
              " 14,\n",
              " 15,\n",
              " 16,\n",
              " 17,\n",
              " 18,\n",
              " 19,\n",
              " 20,\n",
              " 21,\n",
              " 22,\n",
              " 23,\n",
              " 24,\n",
              " 25,\n",
              " 26,\n",
              " 27,\n",
              " 28,\n",
              " 29,\n",
              " 30,\n",
              " 31,\n",
              " 32,\n",
              " 33,\n",
              " 34,\n",
              " 35,\n",
              " 36,\n",
              " 37,\n",
              " 38,\n",
              " 39,\n",
              " 40]"
            ]
          },
          "metadata": {},
          "execution_count": 50
        }
      ]
    },
    {
      "cell_type": "code",
      "source": [
        "print(train.loc[train_indices, col])"
      ],
      "metadata": {
        "colab": {
          "base_uri": "https://localhost:8080/"
        },
        "id": "-X4wj_zjotRJ",
        "outputId": "97fbac31-4639-4605-c6a7-70698336e135"
      },
      "execution_count": 51,
      "outputs": [
        {
          "output_type": "stream",
          "name": "stdout",
          "text": [
            "0         1\n",
            "1         1\n",
            "2         1\n",
            "3         1\n",
            "4         1\n",
            "         ..\n",
            "199517    1\n",
            "199518    1\n",
            "199519    1\n",
            "199520    1\n",
            "199521    1\n",
            "Name: Set, Length: 159547, dtype: int64\n"
          ]
        }
      ]
    },
    {
      "cell_type": "markdown",
      "source": [
        "loc 사용 예시"
      ],
      "metadata": {
        "id": "Y1vdYGO7oHbi"
      }
    },
    {
      "cell_type": "markdown",
      "source": [
        "![image.png](data:image/png;base64,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)"
      ],
      "metadata": {
        "id": "V0Ramy4an_xS"
      }
    },
    {
      "cell_type": "code",
      "source": [
        ""
      ],
      "metadata": {
        "id": "SZzpuYRPn_B3"
      },
      "execution_count": null,
      "outputs": []
    },
    {
      "cell_type": "markdown",
      "source": [
        "리스트 확인"
      ],
      "metadata": {
        "id": "seQS2tCpkC4y"
      }
    },
    {
      "cell_type": "code",
      "source": [
        "print(nunique)"
      ],
      "metadata": {
        "colab": {
          "base_uri": "https://localhost:8080/"
        },
        "id": "qqbJ0yh5j9LX",
        "outputId": "eec45619-bf46-4de2-f57c-fc06b6aaa1a6"
      },
      "execution_count": 52,
      "outputs": [
        {
          "output_type": "stream",
          "name": "stdout",
          "text": [
            "0         91\n",
            "1          9\n",
            "2         52\n",
            "3         47\n",
            "4         17\n",
            "5       1240\n",
            "6          3\n",
            "7          7\n",
            "8         24\n",
            "9         15\n",
            "10         5\n",
            "11        10\n",
            "12         2\n",
            "13         3\n",
            "14         6\n",
            "15         8\n",
            "16       132\n",
            "17       113\n",
            "18      1478\n",
            "19         6\n",
            "20         6\n",
            "21        51\n",
            "22        38\n",
            "23         8\n",
            "24     99800\n",
            "25        10\n",
            "26         9\n",
            "27        10\n",
            "28         3\n",
            "29         4\n",
            "30         7\n",
            "31         5\n",
            "32        43\n",
            "33        43\n",
            "34        43\n",
            "35         5\n",
            "36         3\n",
            "37         3\n",
            "38         3\n",
            "39        53\n",
            "40         2\n",
            "41         2\n",
            "Set        3\n",
            "dtype: int64\n"
          ]
        }
      ]
    },
    {
      "cell_type": "code",
      "source": [
        "print(train.dtypes)"
      ],
      "metadata": {
        "colab": {
          "base_uri": "https://localhost:8080/"
        },
        "id": "oDERlAlcjqdr",
        "outputId": "d6ac63a2-7939-4e8d-a63e-bcc4901640e6"
      },
      "execution_count": 53,
      "outputs": [
        {
          "output_type": "stream",
          "name": "stdout",
          "text": [
            "0        int64\n",
            "1        int64\n",
            "2        int64\n",
            "3        int64\n",
            "4        int64\n",
            "5        int64\n",
            "6        int64\n",
            "7        int64\n",
            "8        int64\n",
            "9        int64\n",
            "10       int64\n",
            "11       int64\n",
            "12       int64\n",
            "13       int64\n",
            "14       int64\n",
            "15       int64\n",
            "16       int64\n",
            "17       int64\n",
            "18       int64\n",
            "19       int64\n",
            "20       int64\n",
            "21       int64\n",
            "22       int64\n",
            "23       int64\n",
            "24     float64\n",
            "25       int64\n",
            "26       int64\n",
            "27       int64\n",
            "28       int64\n",
            "29       int64\n",
            "30       int64\n",
            "31       int64\n",
            "32       int64\n",
            "33       int64\n",
            "34       int64\n",
            "35       int64\n",
            "36       int64\n",
            "37       int64\n",
            "38       int64\n",
            "39       int64\n",
            "40       int64\n",
            "41       int64\n",
            "Set      int64\n",
            "dtype: object\n"
          ]
        }
      ]
    },
    {
      "cell_type": "code",
      "source": [
        ""
      ],
      "metadata": {
        "id": "5vnkq6D7jSWl"
      },
      "execution_count": null,
      "outputs": []
    },
    {
      "cell_type": "markdown",
      "source": [
        "출처 : https://wsshin.tistory.com/5"
      ],
      "metadata": {
        "id": "I5GI6hw0e180"
      }
    }
  ]
}