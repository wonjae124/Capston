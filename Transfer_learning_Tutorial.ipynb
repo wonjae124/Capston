{
  "nbformat": 4,
  "nbformat_minor": 0,
  "metadata": {
    "colab": {
      "name": "Transfer_learning Tutorial",
      "provenance": [],
      "collapsed_sections": [],
      "machine_shape": "hm",
      "authorship_tag": "ABX9TyM4kiuzT+o7i9JEyltmTKwM",
      "include_colab_link": true
    },
    "kernelspec": {
      "name": "python3",
      "display_name": "Python 3"
    },
    "language_info": {
      "name": "python"
    },
    "accelerator": "GPU"
  },
  "cells": [
    {
      "cell_type": "markdown",
      "metadata": {
        "id": "view-in-github",
        "colab_type": "text"
      },
      "source": [
        "<a href=\"https://colab.research.google.com/github/wonjae124/Capston/blob/main/Transfer_learning_Tutorial.ipynb\" target=\"_parent\"><img src=\"https://colab.research.google.com/assets/colab-badge.svg\" alt=\"Open In Colab\"/></a>"
      ]
    },
    {
      "cell_type": "code",
      "source": [
        "import torch\n",
        "import torchvision\n",
        "import torch.nn as nn\n",
        "from torchsummary import summary"
      ],
      "metadata": {
        "id": "ALg-t-y28L-3"
      },
      "execution_count": 59,
      "outputs": []
    },
    {
      "cell_type": "code",
      "source": [
        "device = torch.device(\"cuda:0\" if torch.cuda.is_available() else \"cpu\")\n",
        "print(f'{device} is available')"
      ],
      "metadata": {
        "colab": {
          "base_uri": "https://localhost:8080/"
        },
        "id": "EOrQlQZQ7yPa",
        "outputId": "3e83e1db-7654-4a5a-8929-b8782b1f2f16"
      },
      "execution_count": 49,
      "outputs": [
        {
          "output_type": "stream",
          "name": "stdout",
          "text": [
            "cuda:0 is available\n"
          ]
        }
      ]
    },
    {
      "cell_type": "markdown",
      "source": [
        "# 사전 학습 모델 불러와서 GPU에 올리기"
      ],
      "metadata": {
        "id": "KAMyh33x9LGd"
      }
    },
    {
      "cell_type": "code",
      "execution_count": 50,
      "metadata": {
        "colab": {
          "base_uri": "https://localhost:8080/"
        },
        "id": "aA5LYkC65qIc",
        "outputId": "bc59de1a-4676-462a-eb4d-bb6654295898"
      },
      "outputs": [
        {
          "output_type": "stream",
          "name": "stderr",
          "text": [
            "/usr/local/lib/python3.7/dist-packages/torchvision/models/inception.py:83: FutureWarning: The default weight initialization of inception_v3 will be changed in future releases of torchvision. If you wish to keep the old behavior (which leads to long initialization times due to scipy/scipy#11299), please set init_weights=True.\n",
            "  ' due to scipy/scipy#11299), please set init_weights=True.', FutureWarning)\n",
            "/usr/local/lib/python3.7/dist-packages/torchvision/models/googlenet.py:80: FutureWarning: The default weight initialization of GoogleNet will be changed in future releases of torchvision. If you wish to keep the old behavior (which leads to long initialization times due to scipy/scipy#11299), please set init_weights=True.\n",
            "  ' due to scipy/scipy#11299), please set init_weights=True.', FutureWarning)\n"
          ]
        }
      ],
      "source": [
        "import torchvision.models as models\n",
        "alexnet = models.alexnet().to(device)\n",
        "resnet18 = models.resnet18().to(device)\n",
        "vgg16 = models.vgg16().to(device)\n",
        "densenet = models.densenet161().to(device) \n",
        "inception = models.inception_v3().to(device)\n",
        "googlenet = models.googlenet().to(device)\n",
        "shufflenet = models.shufflenet_v2_x1_0().to(device)\n",
        "mobilenet_v2 = models.mobilenet_v2().to(device)\n",
        "wide_resnet50_2 = models.wide_resnet50_2().to(device)\n",
        "mnasnet = models.mnasnet1_0().to(device)"
      ]
    },
    {
      "cell_type": "code",
      "source": [
        "# CIFAR10을 위한 ResNet18을 불러오기"
      ],
      "metadata": {
        "id": "xiORczxQ9c4a"
      },
      "execution_count": 36,
      "outputs": []
    },
    {
      "cell_type": "code",
      "source": [
        "model = torchvision.models.resnet18(pretrained=True).to(device)\n",
        "summary(model,(3,7,7))\n",
        "\n",
        "#ResNet, VGG16, VGG19는 224 by 224 사이즈의 이미지이므로 커널 사이즈가 7 by 7이고 맥스풀링은 사용한다.\n",
        "#보통, CIFAR10은 이미지가 28 by 28 이므로 크기가 작아서 커널 사이즈를 3 by 3, 맥스풀링 없이 모델 구조 만든다."
      ],
      "metadata": {
        "colab": {
          "base_uri": "https://localhost:8080/"
        },
        "id": "06y4cul89kpl",
        "outputId": "a0ea2576-f1bf-45d7-8273-368efa603750"
      },
      "execution_count": 54,
      "outputs": [
        {
          "output_type": "stream",
          "name": "stdout",
          "text": [
            "----------------------------------------------------------------\n",
            "        Layer (type)               Output Shape         Param #\n",
            "================================================================\n",
            "            Conv2d-1             [-1, 64, 4, 4]           9,408\n",
            "       BatchNorm2d-2             [-1, 64, 4, 4]             128\n",
            "              ReLU-3             [-1, 64, 4, 4]               0\n",
            "         MaxPool2d-4             [-1, 64, 2, 2]               0\n",
            "            Conv2d-5             [-1, 64, 2, 2]          36,864\n",
            "       BatchNorm2d-6             [-1, 64, 2, 2]             128\n",
            "              ReLU-7             [-1, 64, 2, 2]               0\n",
            "            Conv2d-8             [-1, 64, 2, 2]          36,864\n",
            "       BatchNorm2d-9             [-1, 64, 2, 2]             128\n",
            "             ReLU-10             [-1, 64, 2, 2]               0\n",
            "       BasicBlock-11             [-1, 64, 2, 2]               0\n",
            "           Conv2d-12             [-1, 64, 2, 2]          36,864\n",
            "      BatchNorm2d-13             [-1, 64, 2, 2]             128\n",
            "             ReLU-14             [-1, 64, 2, 2]               0\n",
            "           Conv2d-15             [-1, 64, 2, 2]          36,864\n",
            "      BatchNorm2d-16             [-1, 64, 2, 2]             128\n",
            "             ReLU-17             [-1, 64, 2, 2]               0\n",
            "       BasicBlock-18             [-1, 64, 2, 2]               0\n",
            "           Conv2d-19            [-1, 128, 1, 1]          73,728\n",
            "      BatchNorm2d-20            [-1, 128, 1, 1]             256\n",
            "             ReLU-21            [-1, 128, 1, 1]               0\n",
            "           Conv2d-22            [-1, 128, 1, 1]         147,456\n",
            "      BatchNorm2d-23            [-1, 128, 1, 1]             256\n",
            "           Conv2d-24            [-1, 128, 1, 1]           8,192\n",
            "      BatchNorm2d-25            [-1, 128, 1, 1]             256\n",
            "             ReLU-26            [-1, 128, 1, 1]               0\n",
            "       BasicBlock-27            [-1, 128, 1, 1]               0\n",
            "           Conv2d-28            [-1, 128, 1, 1]         147,456\n",
            "      BatchNorm2d-29            [-1, 128, 1, 1]             256\n",
            "             ReLU-30            [-1, 128, 1, 1]               0\n",
            "           Conv2d-31            [-1, 128, 1, 1]         147,456\n",
            "      BatchNorm2d-32            [-1, 128, 1, 1]             256\n",
            "             ReLU-33            [-1, 128, 1, 1]               0\n",
            "       BasicBlock-34            [-1, 128, 1, 1]               0\n",
            "           Conv2d-35            [-1, 256, 1, 1]         294,912\n",
            "      BatchNorm2d-36            [-1, 256, 1, 1]             512\n",
            "             ReLU-37            [-1, 256, 1, 1]               0\n",
            "           Conv2d-38            [-1, 256, 1, 1]         589,824\n",
            "      BatchNorm2d-39            [-1, 256, 1, 1]             512\n",
            "           Conv2d-40            [-1, 256, 1, 1]          32,768\n",
            "      BatchNorm2d-41            [-1, 256, 1, 1]             512\n",
            "             ReLU-42            [-1, 256, 1, 1]               0\n",
            "       BasicBlock-43            [-1, 256, 1, 1]               0\n",
            "           Conv2d-44            [-1, 256, 1, 1]         589,824\n",
            "      BatchNorm2d-45            [-1, 256, 1, 1]             512\n",
            "             ReLU-46            [-1, 256, 1, 1]               0\n",
            "           Conv2d-47            [-1, 256, 1, 1]         589,824\n",
            "      BatchNorm2d-48            [-1, 256, 1, 1]             512\n",
            "             ReLU-49            [-1, 256, 1, 1]               0\n",
            "       BasicBlock-50            [-1, 256, 1, 1]               0\n",
            "           Conv2d-51            [-1, 512, 1, 1]       1,179,648\n",
            "      BatchNorm2d-52            [-1, 512, 1, 1]           1,024\n",
            "             ReLU-53            [-1, 512, 1, 1]               0\n",
            "           Conv2d-54            [-1, 512, 1, 1]       2,359,296\n",
            "      BatchNorm2d-55            [-1, 512, 1, 1]           1,024\n",
            "           Conv2d-56            [-1, 512, 1, 1]         131,072\n",
            "      BatchNorm2d-57            [-1, 512, 1, 1]           1,024\n",
            "             ReLU-58            [-1, 512, 1, 1]               0\n",
            "       BasicBlock-59            [-1, 512, 1, 1]               0\n",
            "           Conv2d-60            [-1, 512, 1, 1]       2,359,296\n",
            "      BatchNorm2d-61            [-1, 512, 1, 1]           1,024\n",
            "             ReLU-62            [-1, 512, 1, 1]               0\n",
            "           Conv2d-63            [-1, 512, 1, 1]       2,359,296\n",
            "      BatchNorm2d-64            [-1, 512, 1, 1]           1,024\n",
            "             ReLU-65            [-1, 512, 1, 1]               0\n",
            "       BasicBlock-66            [-1, 512, 1, 1]               0\n",
            "AdaptiveAvgPool2d-67            [-1, 512, 1, 1]               0\n",
            "           Linear-68                 [-1, 1000]         513,000\n",
            "================================================================\n",
            "Total params: 11,689,512\n",
            "Trainable params: 11,689,512\n",
            "Non-trainable params: 0\n",
            "----------------------------------------------------------------\n",
            "Input size (MB): 0.00\n",
            "Forward/backward pass size (MB): 0.17\n",
            "Params size (MB): 44.59\n",
            "Estimated Total Size (MB): 44.77\n",
            "----------------------------------------------------------------\n"
          ]
        }
      ]
    },
    {
      "cell_type": "code",
      "source": [
        "model2.fc.in_features"
      ],
      "metadata": {
        "colab": {
          "base_uri": "https://localhost:8080/"
        },
        "id": "sceshfNsHhpR",
        "outputId": "9bea8277-7539-4e2b-e22a-4bb553ec736a"
      },
      "execution_count": 55,
      "outputs": [
        {
          "output_type": "execute_result",
          "data": {
            "text/plain": [
              "512"
            ]
          },
          "metadata": {},
          "execution_count": 55
        }
      ]
    },
    {
      "cell_type": "code",
      "source": [
        "model2 = torchvision.models.resnet18(pretrained=True)\n",
        "\n",
        "model2.conv1 = nn.Conv2d(3,64, kernel_size = 3, stride = 1, padding = 1)\n",
        "\n",
        "num_ftrs = model2.fc.in_features # 512 \n",
        "\n",
        "model2.fc = nn.Linear(num_ftrs,10) # 512 -> 10으로 바꾸자\n",
        "\n",
        "model2 = model2.to(device)"
      ],
      "metadata": {
        "id": "mPH9QKBu7bKy"
      },
      "execution_count": 56,
      "outputs": []
    },
    {
      "cell_type": "code",
      "source": [
        "model2.fc.in_features"
      ],
      "metadata": {
        "colab": {
          "base_uri": "https://localhost:8080/"
        },
        "id": "tLlKJxxoHCiH",
        "outputId": "71cf876e-77a6-4e17-ad91-b16d3be109c3"
      },
      "execution_count": 57,
      "outputs": [
        {
          "output_type": "execute_result",
          "data": {
            "text/plain": [
              "512"
            ]
          },
          "metadata": {},
          "execution_count": 57
        }
      ]
    },
    {
      "cell_type": "code",
      "source": [
        "summary(model2,(3,7,7))"
      ],
      "metadata": {
        "colab": {
          "base_uri": "https://localhost:8080/"
        },
        "id": "P2RnlpDRBkQZ",
        "outputId": "a3f961e2-c787-47f7-efbe-f60a722ab348"
      },
      "execution_count": 58,
      "outputs": [
        {
          "output_type": "stream",
          "name": "stdout",
          "text": [
            "----------------------------------------------------------------\n",
            "        Layer (type)               Output Shape         Param #\n",
            "================================================================\n",
            "            Conv2d-1             [-1, 64, 7, 7]           1,792\n",
            "       BatchNorm2d-2             [-1, 64, 7, 7]             128\n",
            "              ReLU-3             [-1, 64, 7, 7]               0\n",
            "         MaxPool2d-4             [-1, 64, 4, 4]               0\n",
            "            Conv2d-5             [-1, 64, 4, 4]          36,864\n",
            "       BatchNorm2d-6             [-1, 64, 4, 4]             128\n",
            "              ReLU-7             [-1, 64, 4, 4]               0\n",
            "            Conv2d-8             [-1, 64, 4, 4]          36,864\n",
            "       BatchNorm2d-9             [-1, 64, 4, 4]             128\n",
            "             ReLU-10             [-1, 64, 4, 4]               0\n",
            "       BasicBlock-11             [-1, 64, 4, 4]               0\n",
            "           Conv2d-12             [-1, 64, 4, 4]          36,864\n",
            "      BatchNorm2d-13             [-1, 64, 4, 4]             128\n",
            "             ReLU-14             [-1, 64, 4, 4]               0\n",
            "           Conv2d-15             [-1, 64, 4, 4]          36,864\n",
            "      BatchNorm2d-16             [-1, 64, 4, 4]             128\n",
            "             ReLU-17             [-1, 64, 4, 4]               0\n",
            "       BasicBlock-18             [-1, 64, 4, 4]               0\n",
            "           Conv2d-19            [-1, 128, 2, 2]          73,728\n",
            "      BatchNorm2d-20            [-1, 128, 2, 2]             256\n",
            "             ReLU-21            [-1, 128, 2, 2]               0\n",
            "           Conv2d-22            [-1, 128, 2, 2]         147,456\n",
            "      BatchNorm2d-23            [-1, 128, 2, 2]             256\n",
            "           Conv2d-24            [-1, 128, 2, 2]           8,192\n",
            "      BatchNorm2d-25            [-1, 128, 2, 2]             256\n",
            "             ReLU-26            [-1, 128, 2, 2]               0\n",
            "       BasicBlock-27            [-1, 128, 2, 2]               0\n",
            "           Conv2d-28            [-1, 128, 2, 2]         147,456\n",
            "      BatchNorm2d-29            [-1, 128, 2, 2]             256\n",
            "             ReLU-30            [-1, 128, 2, 2]               0\n",
            "           Conv2d-31            [-1, 128, 2, 2]         147,456\n",
            "      BatchNorm2d-32            [-1, 128, 2, 2]             256\n",
            "             ReLU-33            [-1, 128, 2, 2]               0\n",
            "       BasicBlock-34            [-1, 128, 2, 2]               0\n",
            "           Conv2d-35            [-1, 256, 1, 1]         294,912\n",
            "      BatchNorm2d-36            [-1, 256, 1, 1]             512\n",
            "             ReLU-37            [-1, 256, 1, 1]               0\n",
            "           Conv2d-38            [-1, 256, 1, 1]         589,824\n",
            "      BatchNorm2d-39            [-1, 256, 1, 1]             512\n",
            "           Conv2d-40            [-1, 256, 1, 1]          32,768\n",
            "      BatchNorm2d-41            [-1, 256, 1, 1]             512\n",
            "             ReLU-42            [-1, 256, 1, 1]               0\n",
            "       BasicBlock-43            [-1, 256, 1, 1]               0\n",
            "           Conv2d-44            [-1, 256, 1, 1]         589,824\n",
            "      BatchNorm2d-45            [-1, 256, 1, 1]             512\n",
            "             ReLU-46            [-1, 256, 1, 1]               0\n",
            "           Conv2d-47            [-1, 256, 1, 1]         589,824\n",
            "      BatchNorm2d-48            [-1, 256, 1, 1]             512\n",
            "             ReLU-49            [-1, 256, 1, 1]               0\n",
            "       BasicBlock-50            [-1, 256, 1, 1]               0\n",
            "           Conv2d-51            [-1, 512, 1, 1]       1,179,648\n",
            "      BatchNorm2d-52            [-1, 512, 1, 1]           1,024\n",
            "             ReLU-53            [-1, 512, 1, 1]               0\n",
            "           Conv2d-54            [-1, 512, 1, 1]       2,359,296\n",
            "      BatchNorm2d-55            [-1, 512, 1, 1]           1,024\n",
            "           Conv2d-56            [-1, 512, 1, 1]         131,072\n",
            "      BatchNorm2d-57            [-1, 512, 1, 1]           1,024\n",
            "             ReLU-58            [-1, 512, 1, 1]               0\n",
            "       BasicBlock-59            [-1, 512, 1, 1]               0\n",
            "           Conv2d-60            [-1, 512, 1, 1]       2,359,296\n",
            "      BatchNorm2d-61            [-1, 512, 1, 1]           1,024\n",
            "             ReLU-62            [-1, 512, 1, 1]               0\n",
            "           Conv2d-63            [-1, 512, 1, 1]       2,359,296\n",
            "      BatchNorm2d-64            [-1, 512, 1, 1]           1,024\n",
            "             ReLU-65            [-1, 512, 1, 1]               0\n",
            "       BasicBlock-66            [-1, 512, 1, 1]               0\n",
            "AdaptiveAvgPool2d-67            [-1, 512, 1, 1]               0\n",
            "           Linear-68                   [-1, 10]           5,130\n",
            "================================================================\n",
            "Total params: 11,174,026\n",
            "Trainable params: 11,174,026\n",
            "Non-trainable params: 0\n",
            "----------------------------------------------------------------\n",
            "Input size (MB): 0.00\n",
            "Forward/backward pass size (MB): 0.35\n",
            "Params size (MB): 42.63\n",
            "Estimated Total Size (MB): 42.98\n",
            "----------------------------------------------------------------\n"
          ]
        }
      ]
    }
  ]
}