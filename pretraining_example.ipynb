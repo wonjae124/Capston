{
  "cells": [
    {
      "cell_type": "markdown",
      "metadata": {
        "id": "view-in-github",
        "colab_type": "text"
      },
      "source": [
        "<a href=\"https://colab.research.google.com/github/wonjae124/Capston/blob/colab/pretraining_example.ipynb\" target=\"_parent\"><img src=\"https://colab.research.google.com/assets/colab-badge.svg\" alt=\"Open In Colab\"/></a>"
      ]
    },
    {
      "cell_type": "code",
      "execution_count": 1,
      "metadata": {
        "id": "ovtW9b3vOPAI"
      },
      "outputs": [],
      "source": [
        "%load_ext autoreload\n",
        "%autoreload 2"
      ]
    },
    {
      "cell_type": "code",
      "source": [
        "!pip install pytorch-tabnet"
      ],
      "metadata": {
        "colab": {
          "base_uri": "https://localhost:8080/"
        },
        "id": "rlHbCaaPOYle",
        "outputId": "31b35ad5-4907-418b-c0d5-8ff9a339e74a"
      },
      "execution_count": 3,
      "outputs": [
        {
          "output_type": "stream",
          "name": "stdout",
          "text": [
            "Collecting pytorch-tabnet\n",
            "  Downloading pytorch_tabnet-3.1.1-py3-none-any.whl (39 kB)\n",
            "Requirement already satisfied: scikit_learn>0.21 in /usr/local/lib/python3.7/dist-packages (from pytorch-tabnet) (1.0.2)\n",
            "Requirement already satisfied: numpy<2.0,>=1.17 in /usr/local/lib/python3.7/dist-packages (from pytorch-tabnet) (1.21.6)\n",
            "Requirement already satisfied: scipy>1.4 in /usr/local/lib/python3.7/dist-packages (from pytorch-tabnet) (1.4.1)\n",
            "Requirement already satisfied: torch<2.0,>=1.2 in /usr/local/lib/python3.7/dist-packages (from pytorch-tabnet) (1.11.0+cu113)\n",
            "Requirement already satisfied: tqdm<5.0,>=4.36 in /usr/local/lib/python3.7/dist-packages (from pytorch-tabnet) (4.64.0)\n",
            "Requirement already satisfied: joblib>=0.11 in /usr/local/lib/python3.7/dist-packages (from scikit_learn>0.21->pytorch-tabnet) (1.1.0)\n",
            "Requirement already satisfied: threadpoolctl>=2.0.0 in /usr/local/lib/python3.7/dist-packages (from scikit_learn>0.21->pytorch-tabnet) (3.1.0)\n",
            "Requirement already satisfied: typing-extensions in /usr/local/lib/python3.7/dist-packages (from torch<2.0,>=1.2->pytorch-tabnet) (4.2.0)\n",
            "Installing collected packages: pytorch-tabnet\n",
            "Successfully installed pytorch-tabnet-3.1.1\n"
          ]
        }
      ]
    },
    {
      "cell_type": "code",
      "source": [
        "!pip install wget"
      ],
      "metadata": {
        "colab": {
          "base_uri": "https://localhost:8080/"
        },
        "id": "brvI9vGBOdy7",
        "outputId": "0bd78a87-1f23-40fa-a811-09bd1084a07d"
      },
      "execution_count": 5,
      "outputs": [
        {
          "output_type": "stream",
          "name": "stdout",
          "text": [
            "Collecting wget\n",
            "  Downloading wget-3.2.zip (10 kB)\n",
            "Building wheels for collected packages: wget\n",
            "  Building wheel for wget (setup.py) ... \u001b[?25l\u001b[?25hdone\n",
            "  Created wheel for wget: filename=wget-3.2-py3-none-any.whl size=9675 sha256=003b611f4d13ba32a5fec1f7028ce56198a80225848351e36a1455c7e0e64017\n",
            "  Stored in directory: /root/.cache/pip/wheels/a1/b6/7c/0e63e34eb06634181c63adacca38b79ff8f35c37e3c13e3c02\n",
            "Successfully built wget\n",
            "Installing collected packages: wget\n",
            "Successfully installed wget-3.2\n"
          ]
        }
      ]
    },
    {
      "cell_type": "code",
      "execution_count": 6,
      "metadata": {
        "id": "Sb4lO64IOPAL"
      },
      "outputs": [],
      "source": [
        "from pytorch_tabnet.tab_model import TabNetClassifier\n",
        "\n",
        "import torch\n",
        "from sklearn.preprocessing import LabelEncoder\n",
        "from sklearn.metrics import roc_auc_score\n",
        "\n",
        "import pandas as pd\n",
        "import numpy as np\n",
        "np.random.seed(0)\n",
        "\n",
        "import os\n",
        "import wget\n",
        "from pathlib import Path\n",
        "\n",
        "from matplotlib import pyplot as plt\n",
        "%matplotlib inline"
      ]
    },
    {
      "cell_type": "markdown",
      "metadata": {
        "id": "jCuzSkS7OPAO"
      },
      "source": [
        "# Download census-income dataset"
      ]
    },
    {
      "cell_type": "code",
      "execution_count": 7,
      "metadata": {
        "id": "sF8EFTkxOPAT"
      },
      "outputs": [],
      "source": [
        "url = \"https://archive.ics.uci.edu/ml/machine-learning-databases/adult/adult.data\"\n",
        "dataset_name = 'census-income'\n",
        "out = Path(os.getcwd()+'/data/'+dataset_name+'.csv')"
      ]
    },
    {
      "cell_type": "code",
      "execution_count": 8,
      "metadata": {
        "colab": {
          "base_uri": "https://localhost:8080/"
        },
        "id": "-hpJynFMOPAY",
        "outputId": "a18d7bc1-0c9d-42f1-b32f-e6033092b09a"
      },
      "outputs": [
        {
          "output_type": "stream",
          "name": "stdout",
          "text": [
            "Downloading file...\n"
          ]
        }
      ],
      "source": [
        "out.parent.mkdir(parents=True, exist_ok=True)\n",
        "if out.exists():\n",
        "    print(\"File already exists.\")\n",
        "else:\n",
        "    print(\"Downloading file...\")\n",
        "    wget.download(url, out.as_posix())"
      ]
    },
    {
      "cell_type": "markdown",
      "metadata": {
        "id": "bIHQsaAXOPAb"
      },
      "source": [
        "# Load data and split"
      ]
    },
    {
      "cell_type": "code",
      "execution_count": 9,
      "metadata": {
        "id": "2v0nOl84OPAd"
      },
      "outputs": [],
      "source": [
        "train = pd.read_csv(out)\n",
        "target = ' <=50K'\n",
        "if \"Set\" not in train.columns:\n",
        "    train[\"Set\"] = np.random.choice([\"train\", \"valid\", \"test\"], p =[.8, .1, .1], size=(train.shape[0],))\n",
        "\n",
        "train_indices = train[train.Set==\"train\"].index\n",
        "valid_indices = train[train.Set==\"valid\"].index\n",
        "test_indices = train[train.Set==\"test\"].index"
      ]
    },
    {
      "cell_type": "markdown",
      "metadata": {
        "id": "kkVjZfOuOPAf"
      },
      "source": [
        "# Simple preprocessing\n",
        "\n",
        "Label encode categorical features and fill empty cells."
      ]
    },
    {
      "cell_type": "code",
      "execution_count": 10,
      "metadata": {
        "colab": {
          "base_uri": "https://localhost:8080/"
        },
        "id": "JI_4PausOPAh",
        "outputId": "0552ccfa-84cf-4faf-d65e-f2b2e0e3bd05"
      },
      "outputs": [
        {
          "output_type": "stream",
          "name": "stdout",
          "text": [
            "39 73\n",
            " State-gov 9\n",
            " Bachelors 16\n",
            " 13 16\n",
            " Never-married 7\n",
            " Adm-clerical 15\n",
            " Not-in-family 6\n",
            " White 5\n",
            " Male 2\n",
            " 2174 119\n",
            " 0 92\n",
            " 40 94\n",
            " United-States 42\n",
            " <=50K 2\n",
            "Set 3\n"
          ]
        }
      ],
      "source": [
        "nunique = train.nunique()\n",
        "types = train.dtypes\n",
        "\n",
        "categorical_columns = []\n",
        "categorical_dims =  {}\n",
        "for col in train.columns:\n",
        "    if types[col] == 'object' or nunique[col] < 200:\n",
        "        print(col, train[col].nunique())\n",
        "        l_enc = LabelEncoder()\n",
        "        train[col] = train[col].fillna(\"VV_likely\")\n",
        "        train[col] = l_enc.fit_transform(train[col].values)\n",
        "        categorical_columns.append(col)\n",
        "        categorical_dims[col] = len(l_enc.classes_)\n",
        "    else:\n",
        "        train.fillna(train.loc[train_indices, col].mean(), inplace=True)"
      ]
    },
    {
      "cell_type": "markdown",
      "metadata": {
        "id": "X87B_t7uOPAj"
      },
      "source": [
        "# Define categorical features for categorical embeddings"
      ]
    },
    {
      "cell_type": "code",
      "execution_count": 11,
      "metadata": {
        "id": "YYBtoHoXOPAk"
      },
      "outputs": [],
      "source": [
        "unused_feat = ['Set']\n",
        "\n",
        "features = [ col for col in train.columns if col not in unused_feat+[target]] \n",
        "\n",
        "cat_idxs = [ i for i, f in enumerate(features) if f in categorical_columns]\n",
        "\n",
        "cat_dims = [ categorical_dims[f] for i, f in enumerate(features) if f in categorical_columns]\n"
      ]
    },
    {
      "cell_type": "code",
      "execution_count": 12,
      "metadata": {
        "id": "zV7_NxbUOPAl"
      },
      "outputs": [],
      "source": [
        "X_train = train[features].values[train_indices]\n",
        "y_train = train[target].values[train_indices]\n",
        "\n",
        "X_valid = train[features].values[valid_indices]\n",
        "y_valid = train[target].values[valid_indices]\n",
        "\n",
        "X_test = train[features].values[test_indices]\n",
        "y_test = train[target].values[test_indices]"
      ]
    },
    {
      "cell_type": "markdown",
      "metadata": {
        "id": "n7rGCLMCOPAp"
      },
      "source": [
        "# Network parameters"
      ]
    },
    {
      "cell_type": "code",
      "execution_count": 13,
      "metadata": {
        "id": "Bm1WauAmOPAq"
      },
      "outputs": [],
      "source": [
        "from pytorch_tabnet.pretraining import TabNetPretrainer"
      ]
    },
    {
      "cell_type": "code",
      "execution_count": 16,
      "metadata": {
        "colab": {
          "base_uri": "https://localhost:8080/"
        },
        "id": "xokOYYWOOPAr",
        "outputId": "88a08af2-4a00-4420-e336-36e6e72fbe7b"
      },
      "outputs": [
        {
          "output_type": "stream",
          "name": "stdout",
          "text": [
            "Device used : cpu\n"
          ]
        }
      ],
      "source": [
        "# TabNetPretrainer\n",
        "unsupervised_model = TabNetPretrainer(\n",
        "    cat_idxs=cat_idxs,\n",
        "    cat_dims=cat_dims,\n",
        "    cat_emb_dim=3,\n",
        "    optimizer_fn=torch.optim.Adam,\n",
        "    optimizer_params=dict(lr=2e-2),\n",
        "    mask_type='entmax', # \"sparsemax\",\n",
        "    n_shared=1, # nb shared glu for decoding\n",
        "    n_independent=1, # nb independent glu for decoding\n",
        ")"
      ]
    },
    {
      "cell_type": "markdown",
      "metadata": {
        "id": "UG-HklC8OPAs"
      },
      "source": [
        "# Self Supervised Training"
      ]
    },
    {
      "cell_type": "code",
      "execution_count": 17,
      "metadata": {
        "id": "-NODFKOhOPAt"
      },
      "outputs": [],
      "source": [
        "max_epochs = 1000 if not os.getenv(\"CI\", False) else 2"
      ]
    },
    {
      "cell_type": "code",
      "execution_count": 18,
      "metadata": {
        "scrolled": false,
        "colab": {
          "base_uri": "https://localhost:8080/"
        },
        "id": "BowuxZ2fOPAt",
        "outputId": "10d50e4d-e1d4-48b6-ffb4-5958686ae515"
      },
      "outputs": [
        {
          "output_type": "stream",
          "name": "stdout",
          "text": [
            "epoch 0  | loss: 4.28436 | val_0_unsup_loss: 2.23234 |  0:00:01s\n",
            "epoch 1  | loss: 1.42559 | val_0_unsup_loss: 1.2398  |  0:00:02s\n",
            "epoch 2  | loss: 1.14108 | val_0_unsup_loss: 1.1325  |  0:00:03s\n",
            "epoch 3  | loss: 1.09288 | val_0_unsup_loss: 1.11204 |  0:00:04s\n",
            "epoch 4  | loss: 1.07248 | val_0_unsup_loss: 1.09493 |  0:00:05s\n",
            "epoch 5  | loss: 1.06218 | val_0_unsup_loss: 1.0813  |  0:00:06s\n",
            "epoch 6  | loss: 1.05196 | val_0_unsup_loss: 1.06179 |  0:00:07s\n",
            "epoch 7  | loss: 1.04508 | val_0_unsup_loss: 1.03581 |  0:00:09s\n",
            "epoch 8  | loss: 1.02715 | val_0_unsup_loss: 0.98683 |  0:00:10s\n",
            "epoch 9  | loss: 1.01206 | val_0_unsup_loss: 0.9514  |  0:00:11s\n",
            "epoch 10 | loss: 0.9954  | val_0_unsup_loss: 0.93361 |  0:00:12s\n",
            "epoch 11 | loss: 0.97729 | val_0_unsup_loss: 0.91757 |  0:00:13s\n",
            "epoch 12 | loss: 0.96394 | val_0_unsup_loss: 0.9064  |  0:00:14s\n",
            "epoch 13 | loss: 0.95385 | val_0_unsup_loss: 0.89508 |  0:00:15s\n",
            "epoch 14 | loss: 0.94914 | val_0_unsup_loss: 0.88513 |  0:00:17s\n",
            "epoch 15 | loss: 0.94387 | val_0_unsup_loss: 0.8764  |  0:00:18s\n",
            "epoch 16 | loss: 0.94027 | val_0_unsup_loss: 0.8615  |  0:00:19s\n",
            "epoch 17 | loss: 0.93568 | val_0_unsup_loss: 0.8469  |  0:00:20s\n",
            "epoch 18 | loss: 0.93336 | val_0_unsup_loss: 0.83301 |  0:00:21s\n",
            "epoch 19 | loss: 0.92543 | val_0_unsup_loss: 0.8178  |  0:00:22s\n",
            "epoch 20 | loss: 0.92164 | val_0_unsup_loss: 0.80268 |  0:00:23s\n",
            "epoch 21 | loss: 0.91367 | val_0_unsup_loss: 0.79028 |  0:00:24s\n",
            "epoch 22 | loss: 0.90652 | val_0_unsup_loss: 0.78242 |  0:00:25s\n",
            "epoch 23 | loss: 0.89644 | val_0_unsup_loss: 0.76947 |  0:00:27s\n",
            "epoch 24 | loss: 0.89005 | val_0_unsup_loss: 0.75679 |  0:00:28s\n",
            "epoch 25 | loss: 0.88448 | val_0_unsup_loss: 0.73704 |  0:00:29s\n",
            "epoch 26 | loss: 0.8771  | val_0_unsup_loss: 0.72168 |  0:00:30s\n",
            "epoch 27 | loss: 0.87301 | val_0_unsup_loss: 0.70997 |  0:00:31s\n",
            "epoch 28 | loss: 0.86809 | val_0_unsup_loss: 0.70055 |  0:00:32s\n",
            "epoch 29 | loss: 0.86226 | val_0_unsup_loss: 0.68745 |  0:00:33s\n",
            "epoch 30 | loss: 0.85165 | val_0_unsup_loss: 0.67139 |  0:00:35s\n",
            "epoch 31 | loss: 0.83504 | val_0_unsup_loss: 0.6726  |  0:00:36s\n",
            "epoch 32 | loss: 0.83308 | val_0_unsup_loss: 0.65109 |  0:00:37s\n",
            "epoch 33 | loss: 0.82208 | val_0_unsup_loss: 0.64002 |  0:00:38s\n",
            "epoch 34 | loss: 0.81035 | val_0_unsup_loss: 0.63518 |  0:00:39s\n",
            "epoch 35 | loss: 0.80957 | val_0_unsup_loss: 0.61963 |  0:00:40s\n",
            "epoch 36 | loss: 0.80062 | val_0_unsup_loss: 0.60822 |  0:00:41s\n",
            "epoch 37 | loss: 0.79099 | val_0_unsup_loss: 0.61615 |  0:00:42s\n",
            "epoch 38 | loss: 0.7831  | val_0_unsup_loss: 0.6202  |  0:00:43s\n",
            "epoch 39 | loss: 0.7811  | val_0_unsup_loss: 0.59738 |  0:00:44s\n",
            "epoch 40 | loss: 0.77707 | val_0_unsup_loss: 0.59486 |  0:00:46s\n",
            "epoch 41 | loss: 0.76808 | val_0_unsup_loss: 0.58164 |  0:00:47s\n",
            "epoch 42 | loss: 0.76483 | val_0_unsup_loss: 0.58092 |  0:00:48s\n",
            "epoch 43 | loss: 0.75952 | val_0_unsup_loss: 0.55863 |  0:00:49s\n",
            "epoch 44 | loss: 0.74864 | val_0_unsup_loss: 0.55459 |  0:00:50s\n",
            "epoch 45 | loss: 0.74884 | val_0_unsup_loss: 0.54865 |  0:00:51s\n",
            "epoch 46 | loss: 0.74753 | val_0_unsup_loss: 0.55084 |  0:00:52s\n",
            "epoch 47 | loss: 0.74248 | val_0_unsup_loss: 0.5521  |  0:00:53s\n",
            "epoch 48 | loss: 0.74011 | val_0_unsup_loss: 0.54961 |  0:00:54s\n",
            "epoch 49 | loss: 0.73847 | val_0_unsup_loss: 0.5494  |  0:00:55s\n",
            "epoch 50 | loss: 0.73923 | val_0_unsup_loss: 0.54436 |  0:00:57s\n",
            "epoch 51 | loss: 0.73541 | val_0_unsup_loss: 0.54401 |  0:00:58s\n",
            "epoch 52 | loss: 0.73516 | val_0_unsup_loss: 0.53288 |  0:00:59s\n",
            "epoch 53 | loss: 0.73225 | val_0_unsup_loss: 0.55804 |  0:01:00s\n",
            "epoch 54 | loss: 0.72915 | val_0_unsup_loss: 0.53152 |  0:01:01s\n",
            "epoch 55 | loss: 0.72612 | val_0_unsup_loss: 0.56357 |  0:01:03s\n",
            "epoch 56 | loss: 0.72515 | val_0_unsup_loss: 0.54348 |  0:01:04s\n",
            "epoch 57 | loss: 0.72174 | val_0_unsup_loss: 0.55372 |  0:01:05s\n",
            "epoch 58 | loss: 0.72121 | val_0_unsup_loss: 0.55217 |  0:01:06s\n",
            "epoch 59 | loss: 0.7264  | val_0_unsup_loss: 0.53929 |  0:01:07s\n",
            "\n",
            "Early stopping occurred at epoch 59 with best_epoch = 54 and best_val_0_unsup_loss = 0.53152\n",
            "Best weights from best epoch are automatically used!\n"
          ]
        }
      ],
      "source": [
        "unsupervised_model.fit(\n",
        "    X_train=X_train,\n",
        "    eval_set=[X_valid],\n",
        "    max_epochs=max_epochs , patience=5,\n",
        "    batch_size=2048, virtual_batch_size=128,\n",
        "    num_workers=0,\n",
        "    drop_last=False,\n",
        "    pretraining_ratio=0.8,\n",
        ") "
      ]
    },
    {
      "cell_type": "code",
      "execution_count": 19,
      "metadata": {
        "id": "7DsDexHGOPAv"
      },
      "outputs": [],
      "source": [
        "# Make reconstruction from a dataset\n",
        "reconstructed_X, embedded_X = unsupervised_model.predict(X_valid)\n",
        "assert(reconstructed_X.shape==embedded_X.shape)"
      ]
    },
    {
      "cell_type": "code",
      "execution_count": 20,
      "metadata": {
        "scrolled": true,
        "id": "YOojkXbBOPAw"
      },
      "outputs": [],
      "source": [
        "unsupervised_explain_matrix, unsupervised_masks = unsupervised_model.explain(X_valid)"
      ]
    },
    {
      "cell_type": "code",
      "execution_count": 21,
      "metadata": {
        "colab": {
          "base_uri": "https://localhost:8080/",
          "height": 1000
        },
        "id": "V0wGb6u_OPAx",
        "outputId": "c5b7d69a-16a7-4592-a569-6072ae021ba7"
      },
      "outputs": [
        {
          "output_type": "display_data",
          "data": {
            "text/plain": [
              "<Figure size 1440x1440 with 3 Axes>"
            ],
            "image/png": "[encoded data removed]"
          },
          "metadata": {
            "needs_background": "light"
          }
        }
      ],
      "source": [
        "fig, axs = plt.subplots(1, 3, figsize=(20,20))\n",
        "\n",
        "for i in range(3):\n",
        "    axs[i].imshow(unsupervised_masks[i][:50])\n",
        "    axs[i].set_title(f\"mask {i}\")\n"
      ]
    },
    {
      "cell_type": "markdown",
      "metadata": {
        "id": "DuuqBjzxOPAx"
      },
      "source": [
        "## Save and load the same way as other TabNet models"
      ]
    },
    {
      "cell_type": "code",
      "execution_count": 22,
      "metadata": {
        "colab": {
          "base_uri": "https://localhost:8080/"
        },
        "id": "ZXXSagHaOPAy",
        "outputId": "26190345-dd0c-4c9e-e0c4-2267eb9d230c"
      },
      "outputs": [
        {
          "output_type": "stream",
          "name": "stdout",
          "text": [
            "Successfully saved model at ./test_pretrain.zip\n",
            "Device used : cpu\n",
            "Device used : cpu\n"
          ]
        }
      ],
      "source": [
        "unsupervised_model.save_model('./test_pretrain')\n",
        "loaded_pretrain = TabNetPretrainer()\n",
        "loaded_pretrain.load_model('./test_pretrain.zip')"
      ]
    },
    {
      "cell_type": "markdown",
      "metadata": {
        "id": "kRH8Orh_OPAz"
      },
      "source": [
        "# Training"
      ]
    },
    {
      "cell_type": "code",
      "execution_count": 23,
      "metadata": {
        "colab": {
          "base_uri": "https://localhost:8080/"
        },
        "id": "_0uqu7hQOPA0",
        "outputId": "9dbf6c1b-acc9-497e-e713-abe222547fe0"
      },
      "outputs": [
        {
          "output_type": "stream",
          "name": "stdout",
          "text": [
            "Device used : cpu\n"
          ]
        }
      ],
      "source": [
        "clf = TabNetClassifier(optimizer_fn=torch.optim.Adam,\n",
        "                       optimizer_params=dict(lr=2e-2),\n",
        "                       scheduler_params={\"step_size\":10, # how to use learning rate scheduler\n",
        "                                         \"gamma\":0.9},\n",
        "                       scheduler_fn=torch.optim.lr_scheduler.StepLR,\n",
        "                       mask_type='sparsemax' # This will be overwritten if using pretrain model\n",
        "                      )"
      ]
    },
    {
      "cell_type": "code",
      "execution_count": 44,
      "metadata": {
        "scrolled": false,
        "colab": {
          "base_uri": "https://localhost:8080/"
        },
        "id": "aNZARGCXOPA1",
        "outputId": "faa2bdc4-1b13-4153-a4e7-7cc5b5dfeb8a"
      },
      "outputs": [
        {
          "output_type": "stream",
          "name": "stdout",
          "text": [
            "Loading weights from unsupervised pretraining\n",
            "epoch 0  | loss: 0.50307 | train_logloss: 0.45736 | valid_logloss: 0.44994 |  0:00:01s\n",
            "epoch 1  | loss: 0.40595 | train_logloss: 0.40714 | valid_logloss: 0.40405 |  0:00:03s\n",
            "epoch 2  | loss: 0.38203 | train_logloss: 0.42778 | valid_logloss: 0.43236 |  0:00:05s\n",
            "epoch 3  | loss: 0.36189 | train_logloss: 0.49302 | valid_logloss: 0.50739 |  0:00:06s\n",
            "epoch 4  | loss: 0.34873 | train_logloss: 0.46402 | valid_logloss: 0.48035 |  0:00:08s\n",
            "epoch 5  | loss: 0.33125 | train_logloss: 0.50839 | valid_logloss: 0.52778 |  0:00:09s\n",
            "epoch 6  | loss: 0.327   | train_logloss: 0.51183 | valid_logloss: 0.53716 |  0:00:11s\n",
            "epoch 7  | loss: 0.31775 | train_logloss: 0.38613 | valid_logloss: 0.40341 |  0:00:13s\n",
            "epoch 8  | loss: 0.32284 | train_logloss: 0.37302 | valid_logloss: 0.39173 |  0:00:14s\n",
            "epoch 9  | loss: 0.31515 | train_logloss: 0.35828 | valid_logloss: 0.37008 |  0:00:16s\n",
            "epoch 10 | loss: 0.31451 | train_logloss: 0.31737 | valid_logloss: 0.33385 |  0:00:18s\n",
            "epoch 11 | loss: 0.31694 | train_logloss: 0.36886 | valid_logloss: 0.38381 |  0:00:19s\n",
            "epoch 12 | loss: 0.3147  | train_logloss: 0.3268  | valid_logloss: 0.34515 |  0:00:21s\n",
            "epoch 13 | loss: 0.31045 | train_logloss: 0.3391  | valid_logloss: 0.36082 |  0:00:23s\n",
            "epoch 14 | loss: 0.30905 | train_logloss: 0.35837 | valid_logloss: 0.37698 |  0:00:24s\n",
            "epoch 15 | loss: 0.3067  | train_logloss: 0.31886 | valid_logloss: 0.33753 |  0:00:26s\n",
            "epoch 16 | loss: 0.30657 | train_logloss: 0.3491  | valid_logloss: 0.36887 |  0:00:28s\n",
            "epoch 17 | loss: 0.29966 | train_logloss: 0.29622 | valid_logloss: 0.31972 |  0:00:29s\n",
            "epoch 18 | loss: 0.29992 | train_logloss: 0.3161  | valid_logloss: 0.34102 |  0:00:31s\n",
            "epoch 19 | loss: 0.30439 | train_logloss: 0.33833 | valid_logloss: 0.3542  |  0:00:33s\n",
            "epoch 20 | loss: 0.30427 | train_logloss: 0.31676 | valid_logloss: 0.34799 |  0:00:34s\n",
            "epoch 21 | loss: 0.29481 | train_logloss: 0.33704 | valid_logloss: 0.36797 |  0:00:36s\n",
            "epoch 22 | loss: 0.29987 | train_logloss: 0.29729 | valid_logloss: 0.325   |  0:00:38s\n",
            "epoch 23 | loss: 0.29878 | train_logloss: 0.29229 | valid_logloss: 0.32392 |  0:00:39s\n",
            "epoch 24 | loss: 0.29198 | train_logloss: 0.30762 | valid_logloss: 0.34485 |  0:00:41s\n",
            "epoch 25 | loss: 0.29654 | train_logloss: 0.28387 | valid_logloss: 0.31769 |  0:00:43s\n",
            "epoch 26 | loss: 0.29406 | train_logloss: 0.30791 | valid_logloss: 0.34765 |  0:00:44s\n",
            "epoch 27 | loss: 0.29176 | train_logloss: 0.29998 | valid_logloss: 0.33948 |  0:00:46s\n",
            "epoch 28 | loss: 0.29317 | train_logloss: 0.28989 | valid_logloss: 0.32314 |  0:00:48s\n",
            "epoch 29 | loss: 0.29039 | train_logloss: 0.28829 | valid_logloss: 0.32893 |  0:00:49s\n",
            "epoch 30 | loss: 0.28862 | train_logloss: 0.30529 | valid_logloss: 0.34784 |  0:00:51s\n",
            "epoch 31 | loss: 0.28799 | train_logloss: 0.29096 | valid_logloss: 0.3368  |  0:00:53s\n",
            "epoch 32 | loss: 0.28982 | train_logloss: 0.28362 | valid_logloss: 0.33011 |  0:00:54s\n",
            "epoch 33 | loss: 0.29031 | train_logloss: 0.28442 | valid_logloss: 0.33021 |  0:00:56s\n",
            "epoch 34 | loss: 0.28678 | train_logloss: 0.29256 | valid_logloss: 0.34377 |  0:00:58s\n",
            "epoch 35 | loss: 0.2846  | train_logloss: 0.29179 | valid_logloss: 0.34318 |  0:00:59s\n",
            "epoch 36 | loss: 0.27681 | train_logloss: 0.27941 | valid_logloss: 0.32748 |  0:01:01s\n",
            "epoch 37 | loss: 0.28312 | train_logloss: 0.29905 | valid_logloss: 0.3513  |  0:01:02s\n",
            "epoch 38 | loss: 0.27954 | train_logloss: 0.30944 | valid_logloss: 0.36824 |  0:01:04s\n",
            "epoch 39 | loss: 0.28453 | train_logloss: 0.28462 | valid_logloss: 0.34968 |  0:01:06s\n",
            "epoch 40 | loss: 0.27701 | train_logloss: 0.27827 | valid_logloss: 0.34213 |  0:01:07s\n",
            "epoch 41 | loss: 0.28143 | train_logloss: 0.28101 | valid_logloss: 0.34792 |  0:01:09s\n",
            "epoch 42 | loss: 0.27351 | train_logloss: 0.27036 | valid_logloss: 0.33982 |  0:01:11s\n",
            "epoch 43 | loss: 0.27574 | train_logloss: 0.26506 | valid_logloss: 0.33306 |  0:01:12s\n",
            "epoch 44 | loss: 0.27405 | train_logloss: 0.27447 | valid_logloss: 0.35215 |  0:01:14s\n",
            "epoch 45 | loss: 0.27346 | train_logloss: 0.28645 | valid_logloss: 0.35592 |  0:01:15s\n",
            "\n",
            "Early stopping occurred at epoch 45 with best_epoch = 25 and best_valid_logloss = 0.31769\n",
            "Best weights from best epoch are automatically used!\n"
          ]
        }
      ],
      "source": [
        "clf.fit(\n",
        "    X_train=X_train, y_train=y_train,\n",
        "    eval_set=[(X_train, y_train), (X_valid, y_valid)],\n",
        "    eval_name=['train', 'valid'],\n",
        "    eval_metric=['logloss'],\n",
        "    max_epochs=max_epochs , patience=20,\n",
        "    batch_size=1024, virtual_batch_size=128,\n",
        "    num_workers=0,\n",
        "    weights=1,\n",
        "    drop_last=False,\n",
        "    from_unsupervised=loaded_pretrain\n",
        "    \n",
        ") "
      ]
    },
    {
      "cell_type": "code",
      "execution_count": 25,
      "metadata": {
        "colab": {
          "base_uri": "https://localhost:8080/",
          "height": 283
        },
        "id": "Rj44Ue9jOPA2",
        "outputId": "e604b356-11b9-4eea-d3c3-8cf5302286cf"
      },
      "outputs": [
        {
          "output_type": "execute_result",
          "data": {
            "text/plain": [
              "[<matplotlib.lines.Line2D at 0x7fceba3f33d0>]"
            ]
          },
          "metadata": {},
          "execution_count": 25
        },
        {
          "output_type": "display_data",
          "data": {
            "text/plain": [
              "<Figure size 432x288 with 1 Axes>"
            ],
            "image/png": "[encoded data removed]"
          },
          "metadata": {
            "needs_background": "light"
          }
        }
      ],
      "source": [
        "# plot losses\n",
        "plt.plot(clf.history['loss'])"
      ]
    },
    {
      "cell_type": "code",
      "execution_count": 26,
      "metadata": {
        "colab": {
          "base_uri": "https://localhost:8080/",
          "height": 283
        },
        "id": "FAtN_KpEOPA2",
        "outputId": "dbb62bd2-ed10-4f2e-a7b4-4c1d81fe64f1"
      },
      "outputs": [
        {
          "output_type": "execute_result",
          "data": {
            "text/plain": [
              "[<matplotlib.lines.Line2D at 0x7fceba2ba090>]"
            ]
          },
          "metadata": {},
          "execution_count": 26
        },
        {
          "output_type": "display_data",
          "data": {
            "text/plain": [
              "<Figure size 432x288 with 1 Axes>"
            ],
            "image/png": "[encoded data removed]"
          },
          "metadata": {
            "needs_background": "light"
          }
        }
      ],
      "source": [
        "# plot auc\n",
        "plt.plot(clf.history['train_auc'])\n",
        "plt.plot(clf.history['valid_auc'])"
      ]
    },
    {
      "cell_type": "code",
      "execution_count": 27,
      "metadata": {
        "colab": {
          "base_uri": "https://localhost:8080/",
          "height": 283
        },
        "id": "67Zyeu-7OPA3",
        "outputId": "a5066f44-917c-460f-fec6-7027a5f1a9b4"
      },
      "outputs": [
        {
          "output_type": "execute_result",
          "data": {
            "text/plain": [
              "[<matplotlib.lines.Line2D at 0x7fceba1e4650>]"
            ]
          },
          "metadata": {},
          "execution_count": 27
        },
        {
          "output_type": "display_data",
          "data": {
            "text/plain": [
              "<Figure size 432x288 with 1 Axes>"
            ],
            "image/png": "[encoded data removed]"
          },
          "metadata": {
            "needs_background": "light"
          }
        }
      ],
      "source": [
        "# plot learning rates\n",
        "plt.plot(clf.history['lr'])"
      ]
    },
    {
      "cell_type": "markdown",
      "metadata": {
        "id": "Vktwo2UMOPA4"
      },
      "source": [
        "## Predictions"
      ]
    },
    {
      "cell_type": "code",
      "execution_count": 43,
      "metadata": {
        "colab": {
          "base_uri": "https://localhost:8080/"
        },
        "id": "xs_JikpFOPA5",
        "outputId": "85122919-8f50-4edf-9ed9-79e90f6c856b"
      },
      "outputs": [
        {
          "output_type": "stream",
          "name": "stdout",
          "text": [
            "BEST VALID SCORE FOR census-income : 0.9293231007890694\n",
            "FINAL TEST SCORE FOR census-income : 0.9276145602837242\n"
          ]
        }
      ],
      "source": [
        "preds = clf.predict_proba(X_test)\n",
        "test_auc = roc_auc_score(y_score=preds[:,1], y_true=y_test)\n",
        "\n",
        "\n",
        "preds_valid = clf.predict_proba(X_valid)\n",
        "valid_auc = roc_auc_score(y_score=preds_valid[:,1], y_true=y_valid)\n",
        "\n",
        "print(f\"BEST VALID SCORE FOR {dataset_name} : {clf.best_cost}\")\n",
        "print(f\"FINAL TEST SCORE FOR {dataset_name} : {test_auc}\")"
      ]
    },
    {
      "cell_type": "code",
      "source": [
        "y_valid.shape"
      ],
      "metadata": {
        "colab": {
          "base_uri": "https://localhost:8080/"
        },
        "id": "d330OoHGThox",
        "outputId": "dd35ea5c-daf4-498d-93f6-d0820907cabc"
      },
      "execution_count": 41,
      "outputs": [
        {
          "output_type": "execute_result",
          "data": {
            "text/plain": [
              "(3221,)"
            ]
          },
          "metadata": {},
          "execution_count": 41
        }
      ]
    },
    {
      "cell_type": "code",
      "source": [
        "preds[:,-1].shape\n"
      ],
      "metadata": {
        "colab": {
          "base_uri": "https://localhost:8080/"
        },
        "id": "J41Dn0GRTBXX",
        "outputId": "561772a9-6d1b-4fe4-cbe8-3799191f2147"
      },
      "execution_count": 47,
      "outputs": [
        {
          "output_type": "execute_result",
          "data": {
            "text/plain": [
              "(3267,)"
            ]
          },
          "metadata": {},
          "execution_count": 47
        }
      ]
    },
    {
      "cell_type": "code",
      "execution_count": 29,
      "metadata": {
        "id": "Bk5oDCMlOPA5"
      },
      "outputs": [],
      "source": [
        "# check that best weights are used\n",
        "assert np.isclose(valid_auc, np.max(clf.history['valid_auc']), atol=1e-6)"
      ]
    },
    {
      "cell_type": "markdown",
      "metadata": {
        "id": "EYo7Q6LzOPA6"
      },
      "source": [
        "# Save and load Model"
      ]
    },
    {
      "cell_type": "code",
      "execution_count": 31,
      "metadata": {
        "colab": {
          "base_uri": "https://localhost:8080/"
        },
        "id": "lEt6GLgjOPA6",
        "outputId": "429a7fa5-8988-46f9-9054-b7652800748e"
      },
      "outputs": [
        {
          "output_type": "stream",
          "name": "stdout",
          "text": [
            "Successfully saved model at ./tabnet_model_test_1.zip\n"
          ]
        }
      ],
      "source": [
        "# save tabnet model\n",
        "saving_path_name = \"./tabnet_model_test_1\"\n",
        "saved_filepath = clf.save_model(saving_path_name)"
      ]
    },
    {
      "cell_type": "code",
      "execution_count": 32,
      "metadata": {
        "colab": {
          "base_uri": "https://localhost:8080/"
        },
        "id": "wrKJIjPIOPA7",
        "outputId": "8f3575a3-888d-4de7-a76e-eb7ba1e00f43"
      },
      "outputs": [
        {
          "output_type": "stream",
          "name": "stdout",
          "text": [
            "Device used : cpu\n",
            "Device used : cpu\n"
          ]
        }
      ],
      "source": [
        "# define new model with basic parameters and load state dict weights\n",
        "loaded_clf = TabNetClassifier()\n",
        "loaded_clf.load_model(saved_filepath)"
      ]
    },
    {
      "cell_type": "code",
      "execution_count": 33,
      "metadata": {
        "colab": {
          "base_uri": "https://localhost:8080/"
        },
        "id": "CUXtI3KAOPA9",
        "outputId": "b6ab8525-4574-4971-daf1-d8c991e2d392"
      },
      "outputs": [
        {
          "output_type": "stream",
          "name": "stdout",
          "text": [
            "FINAL TEST SCORE FOR census-income : 0.9314764184931752\n"
          ]
        }
      ],
      "source": [
        "loaded_preds = loaded_clf.predict_proba(X_test)\n",
        "loaded_test_auc = roc_auc_score(y_score=loaded_preds[:,1], y_true=y_test)\n",
        "\n",
        "print(f\"FINAL TEST SCORE FOR {dataset_name} : {loaded_test_auc}\")"
      ]
    },
    {
      "cell_type": "code",
      "execution_count": 34,
      "metadata": {
        "id": "CZY_Y8OlOPA_"
      },
      "outputs": [],
      "source": [
        "assert(test_auc == loaded_test_auc)"
      ]
    },
    {
      "cell_type": "markdown",
      "metadata": {
        "id": "oc7mvB85OPBB"
      },
      "source": [
        "# Global explainability : feat importance summing to 1"
      ]
    },
    {
      "cell_type": "code",
      "execution_count": 35,
      "metadata": {
        "colab": {
          "base_uri": "https://localhost:8080/"
        },
        "id": "l28YdwmqOPBC",
        "outputId": "e97f7144-f7f7-4cf1-8ee0-b5e58581fd6d"
      },
      "outputs": [
        {
          "output_type": "execute_result",
          "data": {
            "text/plain": [
              "array([8.00061614e-02, 1.72575376e-01, 2.51272900e-04, 2.17954454e-02,\n",
              "       2.09166900e-01, 4.61596671e-02, 1.67994962e-01, 9.70298699e-02,\n",
              "       2.94719545e-02, 1.08002755e-01, 1.33535531e-07, 5.82118374e-02,\n",
              "       4.76607808e-06, 9.32889975e-03])"
            ]
          },
          "metadata": {},
          "execution_count": 35
        }
      ],
      "source": [
        "clf.feature_importances_"
      ]
    },
    {
      "cell_type": "markdown",
      "metadata": {
        "id": "7WNRJyoOOPBD"
      },
      "source": [
        "# Local explainability and masks"
      ]
    },
    {
      "cell_type": "code",
      "execution_count": 36,
      "metadata": {
        "id": "124-rh9oOPBF"
      },
      "outputs": [],
      "source": [
        "explain_matrix, masks = clf.explain(X_test)"
      ]
    },
    {
      "cell_type": "code",
      "execution_count": 37,
      "metadata": {
        "colab": {
          "base_uri": "https://localhost:8080/",
          "height": 1000
        },
        "id": "vou67qevOPBG",
        "outputId": "c8bb7dfa-48a9-4891-d00c-1c7d55d29eb4"
      },
      "outputs": [
        {
          "output_type": "display_data",
          "data": {
            "text/plain": [
              "<Figure size 1440x1440 with 3 Axes>"
            ],
            "image/png": "[encoded data removed]"
          },
          "metadata": {
            "needs_background": "light"
          }
        }
      ],
      "source": [
        "fig, axs = plt.subplots(1, 3, figsize=(20,20))\n",
        "\n",
        "for i in range(3):\n",
        "    axs[i].imshow(masks[i][:50])\n",
        "    axs[i].set_title(f\"mask {i}\")\n"
      ]
    }
  ],
  "metadata": {
    "kernelspec": {
      "display_name": "Python 3",
      "language": "python",
      "name": "python3"
    },
    "language_info": {
      "codemirror_mode": {
        "name": "ipython",
        "version": 3
      },
      "file_extension": ".py",
      "mimetype": "text/x-python",
      "name": "python",
      "nbconvert_exporter": "python",
      "pygments_lexer": "ipython3",
      "version": "3.7.6"
    },
    "toc": {
      "base_numbering": 1,
      "nav_menu": {},
      "number_sections": true,
      "sideBar": true,
      "skip_h1_title": false,
      "title_cell": "Table of Contents",
      "title_sidebar": "Contents",
      "toc_cell": false,
      "toc_position": {},
      "toc_section_display": true,
      "toc_window_display": false
    },
    "colab": {
      "name": "pretraining_example.ipynb",
      "provenance": [],
      "collapsed_sections": [],
      "include_colab_link": true
    }
  },
  "nbformat": 4,
  "nbformat_minor": 0
}