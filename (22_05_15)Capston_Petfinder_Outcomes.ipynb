{
  "nbformat": 4,
  "nbformat_minor": 0,
  "metadata": {
    "colab": {
      "name": "(22.05.15)Capston_Petfinder_Outcomes.ipynb",
      "provenance": [],
      "collapsed_sections": [],
      "authorship_tag": "ABX9TyOLqXt9zOf+T92L5aKVOJoS",
      "include_colab_link": true
    },
    "kernelspec": {
      "name": "python3",
      "display_name": "Python 3"
    },
    "language_info": {
      "name": "python"
    }
  },
  "cells": [
    {
      "cell_type": "markdown",
      "metadata": {
        "id": "view-in-github",
        "colab_type": "text"
      },
      "source": [
        "<a href=\"https://colab.research.google.com/github/wonjae124/Capston/blob/colab/(22_05_15)Capston_Petfinder_Outcomes.ipynb\" target=\"_parent\"><img src=\"https://colab.research.google.com/assets/colab-badge.svg\" alt=\"Open In Colab\"/></a>"
      ]
    },
    {
      "cell_type": "code",
      "source": [
        "from google.colab import drive \n",
        "drive.mount('/content/drive')"
      ],
      "metadata": {
        "colab": {
          "base_uri": "https://localhost:8080/"
        },
        "id": "Z2B3Vq0LaFi5",
        "outputId": "0e4ad8b5-a101-4d05-adc5-b7b73c0d876a"
      },
      "execution_count": 25,
      "outputs": [
        {
          "output_type": "stream",
          "name": "stdout",
          "text": [
            "Drive already mounted at /content/drive; to attempt to forcibly remount, call drive.mount(\"/content/drive\", force_remount=True).\n"
          ]
        }
      ]
    },
    {
      "cell_type": "code",
      "execution_count": 26,
      "metadata": {
        "id": "FOyXHo3SZ2D_"
      },
      "outputs": [],
      "source": [
        "import numpy as np # linear algebra\n",
        "import pandas as pd\n",
        "import re\n",
        "import matplotlib.pyplot as plt\n",
        "%matplotlib inline\n",
        "import seaborn as sns\n",
        "import sys\n",
        "import os\n",
        "\n"
      ]
    },
    {
      "cell_type": "code",
      "source": [
        "# import two datasets\n",
        "breed = pd.read_csv('/content/drive/MyDrive/pet/breed_labels.csv')\n",
        "color = pd.read_csv('/content/drive/MyDrive/pet/color_labels.csv')\n",
        "train = pd.read_csv('/content/drive/MyDrive/pet/train.csv')\n",
        "train['DataType'] = 'train'\n",
        "test = pd.read_csv('/content/drive/MyDrive/pet/test.csv')\n",
        "test['DataType'] = 'test'\n",
        "# the combine dataset for visualization purpose\n",
        "df = pd.concat([train,test], sort=True)"
      ],
      "metadata": {
        "id": "cWYJQlEDaHji"
      },
      "execution_count": 27,
      "outputs": []
    },
    {
      "cell_type": "code",
      "source": [
        "# Change the Color to Strings based on color_labels\n",
        "\n",
        "# train:\n",
        "train[['Color1','Color2','Color3']] = train[['Color1','Color2','Color3']].replace([1,2,3,4,5,6,7],\n",
        "                            ['Black','Brown','Golden','Yellow','Cream','Gray','White'])\n",
        "train[['Color1','Color2','Color3']] = train[['Color1','Color2','Color3']].replace(0,'none')\n",
        "\n",
        "# test:\n",
        "test[['Color1','Color2','Color3']] = test[['Color1','Color2','Color3']].replace([1,2,3,4,5,6,7],\n",
        "                            ['Black','Brown','Golden','Yellow','Cream','Gray','White'])\n",
        "test[['Color1','Color2','Color3']] = test[['Color1','Color2','Color3']].replace(0,'none')\n",
        "\n",
        "# df:\n",
        "df[['Color1','Color2','Color3']] = df[['Color1','Color2','Color3']].replace([1,2,3,4,5,6,7],\n",
        "                            ['Black','Brown','Golden','Yellow','Cream','Gray','White'])\n",
        "df[['Color1','Color2','Color3']] = df[['Color1','Color2','Color3']].replace(0,'none')"
      ],
      "metadata": {
        "id": "J2DO2luEg2gB"
      },
      "execution_count": 28,
      "outputs": []
    },
    {
      "cell_type": "code",
      "source": [
        "# Change the top 5 dog/cat breeds to names\n",
        "\n",
        "# train:\n",
        "train[['Breed1','Breed2']] = train[['Breed1','Breed2']].replace([307,179,205,109,20],\n",
        "                                                         ['Mixed breeds','Poddle','Shih Tzu',\n",
        "                                                          'Golden Retriever','Ibizan Hound'])\n",
        "\n",
        "\n",
        "train[['Breed1','Breed2']] = train[['Breed1','Breed2']].replace([266,265,264,299,292],\n",
        "                                                         ['Domestic short hair','Domestic medium hair',\n",
        "                                                          'Domestic long hair','Tabby','Siamese'])\n",
        "\n",
        "# test:\n",
        "test[['Breed1','Breed2']] = test[['Breed1','Breed2']].replace([307,179,205,109,20],\n",
        "                                                         ['Mixed breeds','Poddle','Shih Tzu',\n",
        "                                                          'Golden Retriever','Ibizan Hound'])\n",
        "\n",
        "\n",
        "test[['Breed1','Breed2']] = test[['Breed1','Breed2']].replace([266,265,264,299,292],\n",
        "                                                         ['Domestic short hair','Domestic medium hair',\n",
        "                                                          'Domestic long hair','Tabby','Siamese'])\n",
        "\n",
        "# df:\n",
        "df[['Breed1','Breed2']] = df[['Breed1','Breed2']].replace([307,179,205,109,20],\n",
        "                                                         ['Mixed breeds','Poddle','Shih Tzu',\n",
        "                                                          'Golden Retriever','Ibizan Hound'])\n",
        "\n",
        "\n",
        "df[['Breed1','Breed2']] = df[['Breed1','Breed2']].replace([266,265,264,299,292],\n",
        "                                                         ['Domestic short hair','Domestic medium hair',\n",
        "                                                          'Domestic long hair','Tabby','Siamese'])\n"
      ],
      "metadata": {
        "id": "ZzL4-f1zhDa5"
      },
      "execution_count": 29,
      "outputs": []
    },
    {
      "cell_type": "code",
      "source": [
        "# Change the Maturity Size as the following: \n",
        "#1 = Small, 2 = Medium, 3 = Large, 4 = Extra Large, 0 = Not Sure\n",
        "\n",
        "# train:\n",
        "train[['MaturitySize']] = train[['MaturitySize']].replace([0,1,2,3,4],\n",
        "                            ['Not Sure','Small','Medium','Large','Extra Large'])\n",
        "\n",
        "#test:\n",
        "test[['MaturitySize']] = test[['MaturitySize']].replace([0,1,2,3,4],\n",
        "                            ['Not Sure','Small','Medium','Large','Extra Large'])\n",
        "\n",
        "#df:\n",
        "df[['MaturitySize']] = df[['MaturitySize']].replace([0,1,2,3,4],\n",
        "                            ['Not Sure','Small','Medium','Large','Extra Large'])"
      ],
      "metadata": {
        "id": "ivQSK-buhFVo"
      },
      "execution_count": 30,
      "outputs": []
    },
    {
      "cell_type": "code",
      "source": [
        "# Change the Fur Length as the following: \n",
        "# 1 = Short, 2 = Medium, 3 = Long, 0 = Not Sure\n",
        "\n",
        "# train:\n",
        "train[['FurLength']] = train[['FurLength']].replace([0,1,2,3],['Not Sure','Short','Medium','Long'])\n",
        "\n",
        "# test:\n",
        "test[['FurLength']] = test[['FurLength']].replace([0,1,2,3],['Not Sure','Short','Medium','Long'])\n",
        "\n",
        "# df:\n",
        "df[['FurLength']] = df[['FurLength']].replace([0,1,2,3],['Not Sure','Short','Medium','Long'])"
      ],
      "metadata": {
        "id": "TEXuZ5XmhGfo"
      },
      "execution_count": 31,
      "outputs": []
    },
    {
      "cell_type": "code",
      "source": [
        "# Change the vacinated, Dewormed, Sterilized as the following:\n",
        "#vaccinated (1 = Yes, 2 = No, 3 = Not Sure)\n",
        "#Dewormed - Pet has been dewormed (1 = Yes, 2 = No, 3 = Not Sure)\n",
        "#Sterilized - Pet has been spayed / neutered (1 = Yes, 2 = No, 3 = Not Sure)\n",
        "\n",
        "# train:\n",
        "train[['Vaccinated']] = train[['Vaccinated']].replace([1,2,3],['Yes','No','Not Sure'])\n",
        "train[['Dewormed']] = train[['Dewormed']].replace([1,2,3],['Yes','No','Not Sure'])\n",
        "train[['Sterilized']] = train[['Sterilized']].replace([1,2,3],['Yes','No','Not Sure'])\n",
        "\n",
        "# test:\n",
        "test[['Vaccinated']] = test[['Vaccinated']].replace([1,2,3],['Yes','No','Not Sure'])\n",
        "test[['Dewormed']] = test[['Dewormed']].replace([1,2,3],['Yes','No','Not Sure'])\n",
        "test[['Sterilized']] = test[['Sterilized']].replace([1,2,3],['Yes','No','Not Sure'])\n",
        "\n",
        "# df:\n",
        "df[['Vaccinated']] = df[['Vaccinated']].replace([1,2,3],['Yes','No','Not Sure'])\n",
        "df[['Dewormed']] = df[['Dewormed']].replace([1,2,3],['Yes','No','Not Sure'])\n",
        "df[['Sterilized']] = df[['Sterilized']].replace([1,2,3],['Yes','No','Not Sure'])"
      ],
      "metadata": {
        "id": "v-llziF6hIDY"
      },
      "execution_count": 32,
      "outputs": []
    },
    {
      "cell_type": "code",
      "source": [
        "# Change the health as the following:\n",
        "#1 = Healthy, 2 = Minor Injury, 3 = Serious Injury, 0 = Not Sure\n",
        "\n",
        "# train:\n",
        "train[['Health']] = train[['Health']].replace([0,1,2,3],['Not Sure','Healthy','Minor Injury','Serious Injury'])\n",
        "\n",
        "# test:\n",
        "test[['Health']] = test[['Health']].replace([0,1,2,3],['Not Sure','Healthy','Minor Injury','Serious Injury'])\n",
        "\n",
        "# df:\n",
        "df[['Health']] = df[['Health']].replace([0,1,2,3],['Not Sure','Healthy','Minor Injury','Serious Injury'])"
      ],
      "metadata": {
        "id": "HaR-Mh_ThIfY"
      },
      "execution_count": 33,
      "outputs": []
    },
    {
      "cell_type": "code",
      "source": [
        "# Change the DataType: 1 = Dog, 2 = Cat\n",
        "\n",
        "# train:\n",
        "train[['Type']] = train[['Type']].replace([1,2],['Dog','Cat'])\n",
        "\n",
        "# test:\n",
        "test[['Type']] = test[['Type']].replace([1,2],['Dog','Cat'])\n",
        "\n",
        "# df:\n",
        "df[['Type']] = df[['Type']].replace([1,2],['Dog','Cat'])"
      ],
      "metadata": {
        "id": "FQpmU9LghKHQ"
      },
      "execution_count": 34,
      "outputs": []
    },
    {
      "cell_type": "code",
      "source": [
        "# Change the Gender: 1 = Male, 2 = Female, 3 = Neutered/Sprayed\n",
        "\n",
        "# train:\n",
        "train[['Gender']] = train[['Gender']].replace([1,2,3],['Male','Female','Neutered/Spayed'])\n",
        "\n",
        "# test:\n",
        "test[['Gender']] = test[['Gender']].replace([1,2,3],['Male','Female','Neutered/Spayed'])\n",
        "\n",
        "# df:\n",
        "df[['Gender']] = df[['Gender']].replace([1,2,3],['Male','Female','Neutered/Spayed'])"
      ],
      "metadata": {
        "id": "RyoFOV2phLPo"
      },
      "execution_count": 35,
      "outputs": []
    },
    {
      "cell_type": "code",
      "source": [
        "# clean name column: \n",
        "# no name yet -> No name;\n",
        "# Nan -> No name;\n",
        "# No Name -> No name;\n",
        "\n",
        "# train:\n",
        "train['Name'] = train['Name'].replace(['No Name Yet', 'No Name'],['No name','No name'])\n",
        "train['Name'] = train['Name'].fillna('No name')\n",
        "\n",
        "# test:\n",
        "test['Name'] = test['Name'].replace(['No Name Yet', 'No Name'],['No name','No name'])\n",
        "test['Name'] = test['Name'].fillna('No name')\n",
        "\n",
        "# df:\n",
        "test['Name'] = test['Name'].replace(['No Name Yet', 'No Name'],['No name','No name'])\n",
        "df['Name'] = df['Name'].fillna('No name')"
      ],
      "metadata": {
        "id": "16j2ektahNav"
      },
      "execution_count": 36,
      "outputs": []
    },
    {
      "cell_type": "code",
      "source": [
        "# Drop unuseful columns and drop the AdoptionSpeed = null rows\n",
        "\n",
        "#train: \n",
        "train_null = np.array(train[train['AdoptionSpeed'].isnull() == True].index)\n",
        "train = train.drop(train_null)\n",
        "train = train.drop(['PhotoAmt','RescuerID','State','VideoAmt'], axis = 1)\n",
        "\n",
        "#test:\n",
        "test = test.drop(['PhotoAmt','RescuerID','State','VideoAmt'], axis = 1)\n",
        "\n",
        "# df:\n",
        "df_nan = np.array(train[train['AdoptionSpeed'].isnull() == True].index)\n",
        "df = df.drop(df_nan)\n",
        "df = df.drop(['PhotoAmt','RescuerID','State','VideoAmt'], axis = 1)"
      ],
      "metadata": {
        "id": "GqS5b7TzhO34"
      },
      "execution_count": 37,
      "outputs": []
    },
    {
      "cell_type": "code",
      "source": [
        "# save cleaned dataset as csv files:\n",
        "\n",
        "#train:\n",
        "train.to_csv('cleaned-train.csv')\n",
        "\n",
        "#test:\n",
        "test.to_csv('cleaned-test.csv')\n",
        "#df:\n",
        "df.to_csv('cleaned-data.csv')"
      ],
      "metadata": {
        "id": "nf0bpTqohP7Q"
      },
      "execution_count": 42,
      "outputs": []
    },
    {
      "cell_type": "code",
      "source": [
        "train.head(5)"
      ],
      "metadata": {
        "id": "_HhsLBhThPLv"
      },
      "execution_count": null,
      "outputs": []
    },
    {
      "cell_type": "code",
      "source": [
        "train.describe()"
      ],
      "metadata": {
        "id": "wcSC7RL4aN8B"
      },
      "execution_count": null,
      "outputs": []
    },
    {
      "cell_type": "code",
      "source": [
        "train.info()"
      ],
      "metadata": {
        "id": "F1vDC9gWaQKC"
      },
      "execution_count": null,
      "outputs": []
    },
    {
      "cell_type": "code",
      "source": [
        "test = pd.read_csv(\"/content/drive/MyDrive/ pet-adoptionspeed/cleaned-test.csv\")\n",
        "test.columns = map(str.lower, test.columns)"
      ],
      "metadata": {
        "id": "0_-j9q9waRix"
      },
      "execution_count": null,
      "outputs": []
    },
    {
      "cell_type": "code",
      "source": [
        "test.shape"
      ],
      "metadata": {
        "id": "Kc6zxU21aTDx"
      },
      "execution_count": null,
      "outputs": []
    },
    {
      "cell_type": "code",
      "source": [
        "train.apply(lambda x: sum(x.isnull()/len(train)))"
      ],
      "metadata": {
        "id": "xp5898ITaV4Z"
      },
      "execution_count": null,
      "outputs": []
    }
  ]
}