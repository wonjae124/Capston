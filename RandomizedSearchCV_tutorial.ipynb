{
  "nbformat": 4,
  "nbformat_minor": 0,
  "metadata": {
    "colab": {
      "name": "RandomizedSearchCV_tutorial",
      "provenance": [],
      "collapsed_sections": [],
      "authorship_tag": "ABX9TyMCEriaBIRmjUO2a3l4xI8f",
      "include_colab_link": true
    },
    "kernelspec": {
      "name": "python3",
      "display_name": "Python 3"
    },
    "language_info": {
      "name": "python"
    }
  },
  "cells": [
    {
      "cell_type": "markdown",
      "metadata": {
        "id": "view-in-github",
        "colab_type": "text"
      },
      "source": [
        "<a href=\"https://colab.research.google.com/github/wonjae124/Capston/blob/main/RandomizedSearchCV_tutorial.ipynb\" target=\"_parent\"><img src=\"https://colab.research.google.com/assets/colab-badge.svg\" alt=\"Open In Colab\"/></a>"
      ]
    },
    {
      "cell_type": "code",
      "execution_count": 1,
      "metadata": {
        "id": "1yaTn4_bOMZ-"
      },
      "outputs": [],
      "source": [
        "import pandas as pd\n",
        "from sklearn.model_selection import train_test_split\n",
        "from sklearn.preprocessing import LabelEncoder\n",
        "from sklearn.tree import DecisionTreeClassifier\n",
        "from sklearn.model_selection import RandomizedSearchCV\n",
        "import pandas as pd"
      ]
    },
    {
      "cell_type": "code",
      "source": [
        "df = pd.read_csv('https://raw.githubusercontent.com/cranberryai/todak_todak_python/master/machine_learning/multiple_classification/Iris.csv')"
      ],
      "metadata": {
        "id": "38KeWUAEObdq"
      },
      "execution_count": 2,
      "outputs": []
    },
    {
      "cell_type": "code",
      "source": [
        "x_data_df = df.drop(['Id','Species'],axis = 1) #drop 메서드로 해당하는 값(DataFrame에서는 열)이 삭제 후 반환. https://stml.tistory.com/26 \n",
        "y_data_df = df['Species'] #정답 라벨이다.\n",
        "\n",
        "print(x_data_df.head(),'\\n')"
      ],
      "metadata": {
        "colab": {
          "base_uri": "https://localhost:8080/"
        },
        "id": "YFxTg3XWOe4p",
        "outputId": "ce951709-19d1-4cda-cf5f-a50b657baa10"
      },
      "execution_count": 3,
      "outputs": [
        {
          "output_type": "stream",
          "name": "stdout",
          "text": [
            "   SepalLengthCm  SepalWidthCm  PetalLengthCm  PetalWidthCm\n",
            "0            5.1           3.5            1.4           0.2\n",
            "1            4.9           3.0            1.4           0.2\n",
            "2            4.7           3.2            1.3           0.2\n",
            "3            4.6           3.1            1.5           0.2\n",
            "4            5.0           3.6            1.4           0.2 \n",
            "\n"
          ]
        }
      ]
    },
    {
      "cell_type": "code",
      "source": [
        ""
      ],
      "metadata": {
        "id": "tjx1a6n6V4c4"
      },
      "execution_count": 3,
      "outputs": []
    },
    {
      "cell_type": "code",
      "source": [
        "print(y_data_df)"
      ],
      "metadata": {
        "colab": {
          "base_uri": "https://localhost:8080/"
        },
        "id": "i_6UB535Ol70",
        "outputId": "87e82b7a-2935-4b6a-a1a8-c3a889fdf37f"
      },
      "execution_count": 4,
      "outputs": [
        {
          "output_type": "stream",
          "name": "stdout",
          "text": [
            "0         Iris-setosa\n",
            "1         Iris-setosa\n",
            "2         Iris-setosa\n",
            "3         Iris-setosa\n",
            "4         Iris-setosa\n",
            "            ...      \n",
            "145    Iris-virginica\n",
            "146    Iris-virginica\n",
            "147    Iris-virginica\n",
            "148    Iris-virginica\n",
            "149    Iris-virginica\n",
            "Name: Species, Length: 150, dtype: object\n"
          ]
        }
      ]
    },
    {
      "cell_type": "code",
      "source": [
        "x_data = x_data_df.to_numpy()"
      ],
      "metadata": {
        "id": "kOC1zYTVOyOS"
      },
      "execution_count": 5,
      "outputs": []
    },
    {
      "cell_type": "code",
      "source": [
        "le = LabelEncoder()\n",
        "le.fit(y_data_df)\n",
        "print(le.classes_)\n",
        "labels = le.classes_ #파이썬 키워드와의 충돌을 피하기 위한 single_trailing_underscore이다. 문자 뒤에 붙는 underscore임.\n",
        "y_data = le.transform(y_data_df) # transform 하면 0,1,2 이렇게 라벨 인코딩 성공\n",
        "\n",
        "x_train, x_test, y_train, y_test = train_test_split(x_data, y_data, test_size = 0.3, random_state = 777, stratify=y_data) #stratify=target, Classification에서는 필수인 파라미터임. 각 분할 된 데이터셋의 class 비율을 orginal로 유지해준다. \n",
        " \n",
        "model = DecisionTreeClassifier()"
      ],
      "metadata": {
        "colab": {
          "base_uri": "https://localhost:8080/"
        },
        "id": "eSvQs0JnO0da",
        "outputId": "61c8d40f-6525-4012-9c02-eb3466c44e5b"
      },
      "execution_count": 6,
      "outputs": [
        {
          "output_type": "stream",
          "name": "stdout",
          "text": [
            "['Iris-setosa' 'Iris-versicolor' 'Iris-virginica']\n"
          ]
        }
      ]
    },
    {
      "cell_type": "code",
      "source": [
        "print(len(y_data)) "
      ],
      "metadata": {
        "colab": {
          "base_uri": "https://localhost:8080/"
        },
        "id": "RaeU3ChXSQN8",
        "outputId": "83dd237a-325a-4545-8a41-ee215db1d944"
      },
      "execution_count": 7,
      "outputs": [
        {
          "output_type": "stream",
          "name": "stdout",
          "text": [
            "150\n"
          ]
        }
      ]
    },
    {
      "cell_type": "markdown",
      "source": [
        "## 라벨 인코딩 결과."
      ],
      "metadata": {
        "id": "hqmxZ2MVSniS"
      }
    },
    {
      "cell_type": "code",
      "source": [
        "y_data"
      ],
      "metadata": {
        "colab": {
          "base_uri": "https://localhost:8080/"
        },
        "id": "CwY4zzOlSk7y",
        "outputId": "473eebc7-ebf7-43d5-f824-fc347bb3f956"
      },
      "execution_count": 8,
      "outputs": [
        {
          "output_type": "execute_result",
          "data": {
            "text/plain": [
              "array([0, 0, 0, 0, 0, 0, 0, 0, 0, 0, 0, 0, 0, 0, 0, 0, 0, 0, 0, 0, 0, 0,\n",
              "       0, 0, 0, 0, 0, 0, 0, 0, 0, 0, 0, 0, 0, 0, 0, 0, 0, 0, 0, 0, 0, 0,\n",
              "       0, 0, 0, 0, 0, 0, 1, 1, 1, 1, 1, 1, 1, 1, 1, 1, 1, 1, 1, 1, 1, 1,\n",
              "       1, 1, 1, 1, 1, 1, 1, 1, 1, 1, 1, 1, 1, 1, 1, 1, 1, 1, 1, 1, 1, 1,\n",
              "       1, 1, 1, 1, 1, 1, 1, 1, 1, 1, 1, 1, 2, 2, 2, 2, 2, 2, 2, 2, 2, 2,\n",
              "       2, 2, 2, 2, 2, 2, 2, 2, 2, 2, 2, 2, 2, 2, 2, 2, 2, 2, 2, 2, 2, 2,\n",
              "       2, 2, 2, 2, 2, 2, 2, 2, 2, 2, 2, 2, 2, 2, 2, 2, 2, 2])"
            ]
          },
          "metadata": {},
          "execution_count": 8
        }
      ]
    },
    {
      "cell_type": "markdown",
      "source": [
        "## 조정 가능한 model의 parameter 탐색"
      ],
      "metadata": {
        "id": "7q_E38X7WBnz"
      }
    },
    {
      "cell_type": "code",
      "source": [
        "print(model.get_params().keys())"
      ],
      "metadata": {
        "colab": {
          "base_uri": "https://localhost:8080/"
        },
        "id": "Axy7TNDFWHli",
        "outputId": "ca37c6fe-d455-4d06-e6b9-c2207214c2e9"
      },
      "execution_count": 9,
      "outputs": [
        {
          "output_type": "stream",
          "name": "stdout",
          "text": [
            "dict_keys(['ccp_alpha', 'class_weight', 'criterion', 'max_depth', 'max_features', 'max_leaf_nodes', 'min_impurity_decrease', 'min_samples_leaf', 'min_samples_split', 'min_weight_fraction_leaf', 'random_state', 'splitter'])\n"
          ]
        }
      ]
    },
    {
      "cell_type": "code",
      "source": [
        "param_distributions = {\n",
        "    'criterion':['gini','entropy'],\n",
        "    'max_depth':[None, 2, 3, 4, 5, 6]\n",
        "}\n",
        "\n",
        "\n",
        "randomized_search = RandomizedSearchCV(model, param_distributions = param_distributions, n_iter = 10, return_train_score=True, refit = True) #나머지 파라미터가 무슨 뜻?\n",
        "#RandomizedSearchCV(estimator, param_distributions = 최적화를 찾을 매개변수 목록, n_iter=샘플링 된 매개변수 수, retun_train_score로 크로스 벨리데이션 모델 사용, refit=bool로 전체 데이터셋을 찾은 best 파라미터에 적용한다.)\n",
        "randomized_search.fit(x_train, y_train)"
      ],
      "metadata": {
        "colab": {
          "base_uri": "https://localhost:8080/"
        },
        "id": "zKHYNI_RP_Ve",
        "outputId": "cf2aae01-412f-439b-a04a-4dd3fc5457f9"
      },
      "execution_count": 10,
      "outputs": [
        {
          "output_type": "execute_result",
          "data": {
            "text/plain": [
              "RandomizedSearchCV(estimator=DecisionTreeClassifier(),\n",
              "                   param_distributions={'criterion': ['gini', 'entropy'],\n",
              "                                        'max_depth': [None, 2, 3, 4, 5, 6]},\n",
              "                   return_train_score=True)"
            ]
          },
          "metadata": {},
          "execution_count": 10
        }
      ]
    },
    {
      "cell_type": "code",
      "source": [
        "df = pd.DataFrame(randomized_search.cv_results_).sort_values(by=['mean_test_score','mean_train_score'], ascending = False)\n",
        "\n",
        "print(df[['params', 'mean_train_score', 'mean_test_score']])\n"
      ],
      "metadata": {
        "colab": {
          "base_uri": "https://localhost:8080/"
        },
        "id": "80318ebDQnJb",
        "outputId": "071fc867-c7a5-46e0-db0a-e7c1987a2ca0"
      },
      "execution_count": 11,
      "outputs": [
        {
          "output_type": "stream",
          "name": "stdout",
          "text": [
            "                                        params  mean_train_score  \\\n",
            "1     {'max_depth': None, 'criterion': 'gini'}          1.000000   \n",
            "2  {'max_depth': None, 'criterion': 'entropy'}          1.000000   \n",
            "5     {'max_depth': 6, 'criterion': 'entropy'}          1.000000   \n",
            "6        {'max_depth': 5, 'criterion': 'gini'}          1.000000   \n",
            "8        {'max_depth': 4, 'criterion': 'gini'}          0.995238   \n",
            "4        {'max_depth': 6, 'criterion': 'gini'}          1.000000   \n",
            "7     {'max_depth': 5, 'criterion': 'entropy'}          1.000000   \n",
            "0     {'max_depth': 3, 'criterion': 'entropy'}          0.978571   \n",
            "9        {'max_depth': 3, 'criterion': 'gini'}          0.978571   \n",
            "3     {'max_depth': 2, 'criterion': 'entropy'}          0.971429   \n",
            "\n",
            "   mean_test_score  \n",
            "1         0.961905  \n",
            "2         0.961905  \n",
            "5         0.961905  \n",
            "6         0.961905  \n",
            "8         0.961905  \n",
            "4         0.952381  \n",
            "7         0.952381  \n",
            "0         0.942857  \n",
            "9         0.942857  \n",
            "3         0.923810  \n"
          ]
        }
      ]
    },
    {
      "cell_type": "code",
      "source": [
        "print(randomized_search.best_params_)\n",
        "\n",
        "print(randomized_search.best_score_)"
      ],
      "metadata": {
        "colab": {
          "base_uri": "https://localhost:8080/"
        },
        "id": "p6eM9dGGXpow",
        "outputId": "0c1f49c0-5328-432a-ee66-49848ed4d5d7"
      },
      "execution_count": 16,
      "outputs": [
        {
          "output_type": "stream",
          "name": "stdout",
          "text": [
            "{'max_depth': None, 'criterion': 'gini'}\n",
            "0.9619047619047618\n"
          ]
        }
      ]
    },
    {
      "cell_type": "code",
      "source": [
        "x_test = [\n",
        "          [5.3 , 3.7, 1.5, 0.2]\n",
        "]\n",
        "\n",
        "y_predict = randomized_search.best_estimator_.predict(x_test)\n",
        "print(labels[y_predict[0]])"
      ],
      "metadata": {
        "colab": {
          "base_uri": "https://localhost:8080/"
        },
        "id": "OWy5MbsMQ3j2",
        "outputId": "60bd87b7-146e-45a9-929d-350c2b2e7ef0"
      },
      "execution_count": 12,
      "outputs": [
        {
          "output_type": "stream",
          "name": "stdout",
          "text": [
            "Iris-setosa\n"
          ]
        }
      ]
    },
    {
      "cell_type": "code",
      "source": [
        "model.get_params()"
      ],
      "metadata": {
        "colab": {
          "base_uri": "https://localhost:8080/"
        },
        "id": "8nXANnlYW6sZ",
        "outputId": "4b87af0a-91c2-42e1-930a-4ca8e7249d5b"
      },
      "execution_count": 13,
      "outputs": [
        {
          "output_type": "execute_result",
          "data": {
            "text/plain": [
              "{'ccp_alpha': 0.0,\n",
              " 'class_weight': None,\n",
              " 'criterion': 'gini',\n",
              " 'max_depth': None,\n",
              " 'max_features': None,\n",
              " 'max_leaf_nodes': None,\n",
              " 'min_impurity_decrease': 0.0,\n",
              " 'min_samples_leaf': 1,\n",
              " 'min_samples_split': 2,\n",
              " 'min_weight_fraction_leaf': 0.0,\n",
              " 'random_state': None,\n",
              " 'splitter': 'best'}"
            ]
          },
          "metadata": {},
          "execution_count": 13
        }
      ]
    },
    {
      "cell_type": "markdown",
      "source": [
        "https://wikidocs.net/42732"
      ],
      "metadata": {
        "id": "vPhFt-01S155"
      }
    }
  ]
}